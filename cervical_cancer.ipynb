{
  "nbformat": 4,
  "nbformat_minor": 0,
  "metadata": {
    "colab": {
      "name": "cervical_cancer.ipynb",
      "provenance": [],
      "collapsed_sections": []
    },
    "kernelspec": {
      "name": "python3",
      "display_name": "Python 3"
    },
    "language_info": {
      "name": "python"
    }
  },
  "cells": [
    {
      "cell_type": "markdown",
      "source": [
        "#Risk Factors of Cervical Cancer\n",
        "**Source of dataset:**\n",
        "\n",
        "Kelwin Fernandes (kafc _at_ inesctec _dot_ pt) - INESC TEC & FEUP, Porto, Portugal.\n",
        "\n",
        "Jaime S. Cardoso - INESC TEC & FEUP, Porto, Portugal.\n",
        "\n",
        "Jessica Fernandes - Universidad Central de Venezuela, Caracas, Venezuela."
      ],
      "metadata": {
        "id": "NwdsV_Kc1eYJ"
      }
    },
    {
      "cell_type": "markdown",
      "source": [
        "##Import Statements"
      ],
      "metadata": {
        "id": "3CNlbbihuHwc"
      }
    },
    {
      "cell_type": "code",
      "execution_count": 263,
      "metadata": {
        "id": "Dbt2chiqseRK"
      },
      "outputs": [],
      "source": [
        "import pandas as pd\n",
        "import matplotlib.pyplot as plt\n",
        "import seaborn as sns\n",
        "import numpy as np\n",
        "from sklearn.model_selection import train_test_split, GridSearchCV\n",
        "from imblearn.over_sampling import SMOTE\n",
        "from sklearn.preprocessing import StandardScaler\n",
        "from sklearn.tree import DecisionTreeClassifier, DecisionTreeRegressor\n",
        "from sklearn.ensemble import RandomForestClassifier, AdaBoostClassifier, GradientBoostingClassifier, GradientBoostingRegressor\n",
        "from sklearn.metrics import confusion_matrix, ConfusionMatrixDisplay\n",
        "from sklearn.metrics import accuracy_score, precision_score, recall_score, f1_score"
      ]
    },
    {
      "cell_type": "markdown",
      "source": [
        "##Preliminary Data Exploration"
      ],
      "metadata": {
        "id": "TzGyIdoCuPnv"
      }
    },
    {
      "cell_type": "code",
      "source": [
        "cc_df = pd.read_csv('/content/cervical_cancer.csv')"
      ],
      "metadata": {
        "id": "OsE1bPCSs8I3"
      },
      "execution_count": 264,
      "outputs": []
    },
    {
      "cell_type": "code",
      "source": [
        "cc_df.shape"
      ],
      "metadata": {
        "colab": {
          "base_uri": "https://localhost:8080/"
        },
        "id": "P_WUBKk9uBfx",
        "outputId": "c9cec0c1-d35c-4263-b7ab-7de19703c312"
      },
      "execution_count": 265,
      "outputs": [
        {
          "output_type": "execute_result",
          "data": {
            "text/plain": [
              "(858, 36)"
            ]
          },
          "metadata": {},
          "execution_count": 265
        }
      ]
    },
    {
      "cell_type": "code",
      "source": [
        "cc_df.columns"
      ],
      "metadata": {
        "colab": {
          "base_uri": "https://localhost:8080/"
        },
        "id": "f44P9SgZSn63",
        "outputId": "03fa4991-3178-410c-fb26-805bd5f8e244"
      },
      "execution_count": 266,
      "outputs": [
        {
          "output_type": "execute_result",
          "data": {
            "text/plain": [
              "Index(['Age', 'Number of sexual partners', 'First sexual intercourse',\n",
              "       'Num of pregnancies', 'Smokes', 'Smokes (years)', 'Smokes (packs/year)',\n",
              "       'Hormonal Contraceptives', 'Hormonal Contraceptives (years)', 'IUD',\n",
              "       'IUD (years)', 'STDs', 'STDs (number)', 'STDs:condylomatosis',\n",
              "       'STDs:cervical condylomatosis', 'STDs:vaginal condylomatosis',\n",
              "       'STDs:vulvo-perineal condylomatosis', 'STDs:syphilis',\n",
              "       'STDs:pelvic inflammatory disease', 'STDs:genital herpes',\n",
              "       'STDs:molluscum contagiosum', 'STDs:AIDS', 'STDs:HIV',\n",
              "       'STDs:Hepatitis B', 'STDs:HPV', 'STDs: Number of diagnosis',\n",
              "       'STDs: Time since first diagnosis', 'STDs: Time since last diagnosis',\n",
              "       'Dx:Cancer', 'Dx:CIN', 'Dx:HPV', 'Dx', 'Hinselmann', 'Schiller',\n",
              "       'Citology', 'Biopsy'],\n",
              "      dtype='object')"
            ]
          },
          "metadata": {},
          "execution_count": 266
        }
      ]
    },
    {
      "cell_type": "code",
      "source": [
        "cc_df.head()"
      ],
      "metadata": {
        "colab": {
          "base_uri": "https://localhost:8080/",
          "height": 0
        },
        "id": "zum1zQ3KufuU",
        "outputId": "d5152fa6-11e5-459c-a408-d1acc26f682c"
      },
      "execution_count": 267,
      "outputs": [
        {
          "output_type": "execute_result",
          "data": {
            "text/plain": [
              "   Age Number of sexual partners First sexual intercourse Num of pregnancies  \\\n",
              "0   18                       4.0                     15.0                1.0   \n",
              "1   15                       1.0                     14.0                1.0   \n",
              "2   34                       1.0                        ?                1.0   \n",
              "3   52                       5.0                     16.0                4.0   \n",
              "4   46                       3.0                     21.0                4.0   \n",
              "\n",
              "  Smokes Smokes (years) Smokes (packs/year) Hormonal Contraceptives  \\\n",
              "0    0.0            0.0                 0.0                     0.0   \n",
              "1    0.0            0.0                 0.0                     0.0   \n",
              "2    0.0            0.0                 0.0                     0.0   \n",
              "3    1.0           37.0                37.0                     1.0   \n",
              "4    0.0            0.0                 0.0                     1.0   \n",
              "\n",
              "  Hormonal Contraceptives (years)  IUD  ... STDs: Time since first diagnosis  \\\n",
              "0                             0.0  0.0  ...                                ?   \n",
              "1                             0.0  0.0  ...                                ?   \n",
              "2                             0.0  0.0  ...                                ?   \n",
              "3                             3.0  0.0  ...                                ?   \n",
              "4                            15.0  0.0  ...                                ?   \n",
              "\n",
              "  STDs: Time since last diagnosis Dx:Cancer Dx:CIN Dx:HPV Dx Hinselmann  \\\n",
              "0                               ?         0      0      0  0          0   \n",
              "1                               ?         0      0      0  0          0   \n",
              "2                               ?         0      0      0  0          0   \n",
              "3                               ?         1      0      1  0          0   \n",
              "4                               ?         0      0      0  0          0   \n",
              "\n",
              "  Schiller Citology Biopsy  \n",
              "0        0        0      0  \n",
              "1        0        0      0  \n",
              "2        0        0      0  \n",
              "3        0        0      0  \n",
              "4        0        0      0  \n",
              "\n",
              "[5 rows x 36 columns]"
            ],
            "text/html": [
              "\n",
              "  <div id=\"df-942312b1-1942-401f-a807-93c656b8363a\">\n",
              "    <div class=\"colab-df-container\">\n",
              "      <div>\n",
              "<style scoped>\n",
              "    .dataframe tbody tr th:only-of-type {\n",
              "        vertical-align: middle;\n",
              "    }\n",
              "\n",
              "    .dataframe tbody tr th {\n",
              "        vertical-align: top;\n",
              "    }\n",
              "\n",
              "    .dataframe thead th {\n",
              "        text-align: right;\n",
              "    }\n",
              "</style>\n",
              "<table border=\"1\" class=\"dataframe\">\n",
              "  <thead>\n",
              "    <tr style=\"text-align: right;\">\n",
              "      <th></th>\n",
              "      <th>Age</th>\n",
              "      <th>Number of sexual partners</th>\n",
              "      <th>First sexual intercourse</th>\n",
              "      <th>Num of pregnancies</th>\n",
              "      <th>Smokes</th>\n",
              "      <th>Smokes (years)</th>\n",
              "      <th>Smokes (packs/year)</th>\n",
              "      <th>Hormonal Contraceptives</th>\n",
              "      <th>Hormonal Contraceptives (years)</th>\n",
              "      <th>IUD</th>\n",
              "      <th>...</th>\n",
              "      <th>STDs: Time since first diagnosis</th>\n",
              "      <th>STDs: Time since last diagnosis</th>\n",
              "      <th>Dx:Cancer</th>\n",
              "      <th>Dx:CIN</th>\n",
              "      <th>Dx:HPV</th>\n",
              "      <th>Dx</th>\n",
              "      <th>Hinselmann</th>\n",
              "      <th>Schiller</th>\n",
              "      <th>Citology</th>\n",
              "      <th>Biopsy</th>\n",
              "    </tr>\n",
              "  </thead>\n",
              "  <tbody>\n",
              "    <tr>\n",
              "      <th>0</th>\n",
              "      <td>18</td>\n",
              "      <td>4.0</td>\n",
              "      <td>15.0</td>\n",
              "      <td>1.0</td>\n",
              "      <td>0.0</td>\n",
              "      <td>0.0</td>\n",
              "      <td>0.0</td>\n",
              "      <td>0.0</td>\n",
              "      <td>0.0</td>\n",
              "      <td>0.0</td>\n",
              "      <td>...</td>\n",
              "      <td>?</td>\n",
              "      <td>?</td>\n",
              "      <td>0</td>\n",
              "      <td>0</td>\n",
              "      <td>0</td>\n",
              "      <td>0</td>\n",
              "      <td>0</td>\n",
              "      <td>0</td>\n",
              "      <td>0</td>\n",
              "      <td>0</td>\n",
              "    </tr>\n",
              "    <tr>\n",
              "      <th>1</th>\n",
              "      <td>15</td>\n",
              "      <td>1.0</td>\n",
              "      <td>14.0</td>\n",
              "      <td>1.0</td>\n",
              "      <td>0.0</td>\n",
              "      <td>0.0</td>\n",
              "      <td>0.0</td>\n",
              "      <td>0.0</td>\n",
              "      <td>0.0</td>\n",
              "      <td>0.0</td>\n",
              "      <td>...</td>\n",
              "      <td>?</td>\n",
              "      <td>?</td>\n",
              "      <td>0</td>\n",
              "      <td>0</td>\n",
              "      <td>0</td>\n",
              "      <td>0</td>\n",
              "      <td>0</td>\n",
              "      <td>0</td>\n",
              "      <td>0</td>\n",
              "      <td>0</td>\n",
              "    </tr>\n",
              "    <tr>\n",
              "      <th>2</th>\n",
              "      <td>34</td>\n",
              "      <td>1.0</td>\n",
              "      <td>?</td>\n",
              "      <td>1.0</td>\n",
              "      <td>0.0</td>\n",
              "      <td>0.0</td>\n",
              "      <td>0.0</td>\n",
              "      <td>0.0</td>\n",
              "      <td>0.0</td>\n",
              "      <td>0.0</td>\n",
              "      <td>...</td>\n",
              "      <td>?</td>\n",
              "      <td>?</td>\n",
              "      <td>0</td>\n",
              "      <td>0</td>\n",
              "      <td>0</td>\n",
              "      <td>0</td>\n",
              "      <td>0</td>\n",
              "      <td>0</td>\n",
              "      <td>0</td>\n",
              "      <td>0</td>\n",
              "    </tr>\n",
              "    <tr>\n",
              "      <th>3</th>\n",
              "      <td>52</td>\n",
              "      <td>5.0</td>\n",
              "      <td>16.0</td>\n",
              "      <td>4.0</td>\n",
              "      <td>1.0</td>\n",
              "      <td>37.0</td>\n",
              "      <td>37.0</td>\n",
              "      <td>1.0</td>\n",
              "      <td>3.0</td>\n",
              "      <td>0.0</td>\n",
              "      <td>...</td>\n",
              "      <td>?</td>\n",
              "      <td>?</td>\n",
              "      <td>1</td>\n",
              "      <td>0</td>\n",
              "      <td>1</td>\n",
              "      <td>0</td>\n",
              "      <td>0</td>\n",
              "      <td>0</td>\n",
              "      <td>0</td>\n",
              "      <td>0</td>\n",
              "    </tr>\n",
              "    <tr>\n",
              "      <th>4</th>\n",
              "      <td>46</td>\n",
              "      <td>3.0</td>\n",
              "      <td>21.0</td>\n",
              "      <td>4.0</td>\n",
              "      <td>0.0</td>\n",
              "      <td>0.0</td>\n",
              "      <td>0.0</td>\n",
              "      <td>1.0</td>\n",
              "      <td>15.0</td>\n",
              "      <td>0.0</td>\n",
              "      <td>...</td>\n",
              "      <td>?</td>\n",
              "      <td>?</td>\n",
              "      <td>0</td>\n",
              "      <td>0</td>\n",
              "      <td>0</td>\n",
              "      <td>0</td>\n",
              "      <td>0</td>\n",
              "      <td>0</td>\n",
              "      <td>0</td>\n",
              "      <td>0</td>\n",
              "    </tr>\n",
              "  </tbody>\n",
              "</table>\n",
              "<p>5 rows × 36 columns</p>\n",
              "</div>\n",
              "      <button class=\"colab-df-convert\" onclick=\"convertToInteractive('df-942312b1-1942-401f-a807-93c656b8363a')\"\n",
              "              title=\"Convert this dataframe to an interactive table.\"\n",
              "              style=\"display:none;\">\n",
              "        \n",
              "  <svg xmlns=\"http://www.w3.org/2000/svg\" height=\"24px\"viewBox=\"0 0 24 24\"\n",
              "       width=\"24px\">\n",
              "    <path d=\"M0 0h24v24H0V0z\" fill=\"none\"/>\n",
              "    <path d=\"M18.56 5.44l.94 2.06.94-2.06 2.06-.94-2.06-.94-.94-2.06-.94 2.06-2.06.94zm-11 1L8.5 8.5l.94-2.06 2.06-.94-2.06-.94L8.5 2.5l-.94 2.06-2.06.94zm10 10l.94 2.06.94-2.06 2.06-.94-2.06-.94-.94-2.06-.94 2.06-2.06.94z\"/><path d=\"M17.41 7.96l-1.37-1.37c-.4-.4-.92-.59-1.43-.59-.52 0-1.04.2-1.43.59L10.3 9.45l-7.72 7.72c-.78.78-.78 2.05 0 2.83L4 21.41c.39.39.9.59 1.41.59.51 0 1.02-.2 1.41-.59l7.78-7.78 2.81-2.81c.8-.78.8-2.07 0-2.86zM5.41 20L4 18.59l7.72-7.72 1.47 1.35L5.41 20z\"/>\n",
              "  </svg>\n",
              "      </button>\n",
              "      \n",
              "  <style>\n",
              "    .colab-df-container {\n",
              "      display:flex;\n",
              "      flex-wrap:wrap;\n",
              "      gap: 12px;\n",
              "    }\n",
              "\n",
              "    .colab-df-convert {\n",
              "      background-color: #E8F0FE;\n",
              "      border: none;\n",
              "      border-radius: 50%;\n",
              "      cursor: pointer;\n",
              "      display: none;\n",
              "      fill: #1967D2;\n",
              "      height: 32px;\n",
              "      padding: 0 0 0 0;\n",
              "      width: 32px;\n",
              "    }\n",
              "\n",
              "    .colab-df-convert:hover {\n",
              "      background-color: #E2EBFA;\n",
              "      box-shadow: 0px 1px 2px rgba(60, 64, 67, 0.3), 0px 1px 3px 1px rgba(60, 64, 67, 0.15);\n",
              "      fill: #174EA6;\n",
              "    }\n",
              "\n",
              "    [theme=dark] .colab-df-convert {\n",
              "      background-color: #3B4455;\n",
              "      fill: #D2E3FC;\n",
              "    }\n",
              "\n",
              "    [theme=dark] .colab-df-convert:hover {\n",
              "      background-color: #434B5C;\n",
              "      box-shadow: 0px 1px 3px 1px rgba(0, 0, 0, 0.15);\n",
              "      filter: drop-shadow(0px 1px 2px rgba(0, 0, 0, 0.3));\n",
              "      fill: #FFFFFF;\n",
              "    }\n",
              "  </style>\n",
              "\n",
              "      <script>\n",
              "        const buttonEl =\n",
              "          document.querySelector('#df-942312b1-1942-401f-a807-93c656b8363a button.colab-df-convert');\n",
              "        buttonEl.style.display =\n",
              "          google.colab.kernel.accessAllowed ? 'block' : 'none';\n",
              "\n",
              "        async function convertToInteractive(key) {\n",
              "          const element = document.querySelector('#df-942312b1-1942-401f-a807-93c656b8363a');\n",
              "          const dataTable =\n",
              "            await google.colab.kernel.invokeFunction('convertToInteractive',\n",
              "                                                     [key], {});\n",
              "          if (!dataTable) return;\n",
              "\n",
              "          const docLinkHtml = 'Like what you see? Visit the ' +\n",
              "            '<a target=\"_blank\" href=https://colab.research.google.com/notebooks/data_table.ipynb>data table notebook</a>'\n",
              "            + ' to learn more about interactive tables.';\n",
              "          element.innerHTML = '';\n",
              "          dataTable['output_type'] = 'display_data';\n",
              "          await google.colab.output.renderOutput(dataTable, element);\n",
              "          const docLink = document.createElement('div');\n",
              "          docLink.innerHTML = docLinkHtml;\n",
              "          element.appendChild(docLink);\n",
              "        }\n",
              "      </script>\n",
              "    </div>\n",
              "  </div>\n",
              "  "
            ]
          },
          "metadata": {},
          "execution_count": 267
        }
      ]
    },
    {
      "cell_type": "code",
      "source": [
        "cc_df.info()"
      ],
      "metadata": {
        "colab": {
          "base_uri": "https://localhost:8080/"
        },
        "id": "t3yOOYeGujn2",
        "outputId": "e539284d-1e46-422c-dffd-4ba90e709181"
      },
      "execution_count": 268,
      "outputs": [
        {
          "output_type": "stream",
          "name": "stdout",
          "text": [
            "<class 'pandas.core.frame.DataFrame'>\n",
            "RangeIndex: 858 entries, 0 to 857\n",
            "Data columns (total 36 columns):\n",
            " #   Column                              Non-Null Count  Dtype \n",
            "---  ------                              --------------  ----- \n",
            " 0   Age                                 858 non-null    int64 \n",
            " 1   Number of sexual partners           858 non-null    object\n",
            " 2   First sexual intercourse            858 non-null    object\n",
            " 3   Num of pregnancies                  858 non-null    object\n",
            " 4   Smokes                              858 non-null    object\n",
            " 5   Smokes (years)                      858 non-null    object\n",
            " 6   Smokes (packs/year)                 858 non-null    object\n",
            " 7   Hormonal Contraceptives             858 non-null    object\n",
            " 8   Hormonal Contraceptives (years)     858 non-null    object\n",
            " 9   IUD                                 858 non-null    object\n",
            " 10  IUD (years)                         858 non-null    object\n",
            " 11  STDs                                858 non-null    object\n",
            " 12  STDs (number)                       858 non-null    object\n",
            " 13  STDs:condylomatosis                 858 non-null    object\n",
            " 14  STDs:cervical condylomatosis        858 non-null    object\n",
            " 15  STDs:vaginal condylomatosis         858 non-null    object\n",
            " 16  STDs:vulvo-perineal condylomatosis  858 non-null    object\n",
            " 17  STDs:syphilis                       858 non-null    object\n",
            " 18  STDs:pelvic inflammatory disease    858 non-null    object\n",
            " 19  STDs:genital herpes                 858 non-null    object\n",
            " 20  STDs:molluscum contagiosum          858 non-null    object\n",
            " 21  STDs:AIDS                           858 non-null    object\n",
            " 22  STDs:HIV                            858 non-null    object\n",
            " 23  STDs:Hepatitis B                    858 non-null    object\n",
            " 24  STDs:HPV                            858 non-null    object\n",
            " 25  STDs: Number of diagnosis           858 non-null    int64 \n",
            " 26  STDs: Time since first diagnosis    858 non-null    object\n",
            " 27  STDs: Time since last diagnosis     858 non-null    object\n",
            " 28  Dx:Cancer                           858 non-null    int64 \n",
            " 29  Dx:CIN                              858 non-null    int64 \n",
            " 30  Dx:HPV                              858 non-null    int64 \n",
            " 31  Dx                                  858 non-null    int64 \n",
            " 32  Hinselmann                          858 non-null    int64 \n",
            " 33  Schiller                            858 non-null    int64 \n",
            " 34  Citology                            858 non-null    int64 \n",
            " 35  Biopsy                              858 non-null    int64 \n",
            "dtypes: int64(10), object(26)\n",
            "memory usage: 241.4+ KB\n"
          ]
        }
      ]
    },
    {
      "cell_type": "code",
      "source": [
        "cc_df['Dx:Cancer'].value_counts()"
      ],
      "metadata": {
        "colab": {
          "base_uri": "https://localhost:8080/"
        },
        "id": "Fc9D3nxVqZsy",
        "outputId": "d2ff6cb9-06a9-4eeb-a4dc-063aecb9edaa"
      },
      "execution_count": 269,
      "outputs": [
        {
          "output_type": "execute_result",
          "data": {
            "text/plain": [
              "0    840\n",
              "1     18\n",
              "Name: Dx:Cancer, dtype: int64"
            ]
          },
          "metadata": {},
          "execution_count": 269
        }
      ]
    },
    {
      "cell_type": "markdown",
      "source": [
        "##Data Cleaning"
      ],
      "metadata": {
        "id": "gkxLPkveSxtl"
      }
    },
    {
      "cell_type": "code",
      "source": [
        "cc_df = cc_df.replace('?', np.nan)"
      ],
      "metadata": {
        "id": "o46_9oL7RINw"
      },
      "execution_count": 270,
      "outputs": []
    },
    {
      "cell_type": "markdown",
      "source": [
        "Mind: *replace()* will not change the original dataframe, it creates a new dataframe."
      ],
      "metadata": {
        "id": "cIdlt6GQXF5H"
      }
    },
    {
      "cell_type": "code",
      "source": [
        "cc_df.isna().sum().sort_values(ascending=False).head(10)"
      ],
      "metadata": {
        "colab": {
          "base_uri": "https://localhost:8080/"
        },
        "id": "_tth1Fv9WeLf",
        "outputId": "d53475bb-5396-4a64-fead-103a0dba42c7"
      },
      "execution_count": 271,
      "outputs": [
        {
          "output_type": "execute_result",
          "data": {
            "text/plain": [
              "STDs: Time since last diagnosis       787\n",
              "STDs: Time since first diagnosis      787\n",
              "IUD                                   117\n",
              "IUD (years)                           117\n",
              "Hormonal Contraceptives               108\n",
              "Hormonal Contraceptives (years)       108\n",
              "STDs:pelvic inflammatory disease      105\n",
              "STDs:vulvo-perineal condylomatosis    105\n",
              "STDs:HPV                              105\n",
              "STDs:Hepatitis B                      105\n",
              "dtype: int64"
            ]
          },
          "metadata": {},
          "execution_count": 271
        }
      ]
    },
    {
      "cell_type": "markdown",
      "source": [
        "There are too many missing values in \"*STDs: Time since first diagnosis*\" and \"*STDs: Time since last diagnosis*\", drop them."
      ],
      "metadata": {
        "id": "sGROH9wXhHIW"
      }
    },
    {
      "cell_type": "code",
      "source": [
        "cc_df.drop(['STDs: Time since first diagnosis', 'STDs: Time since last diagnosis', 'Dx:CIN', 'Dx:HPV', 'Dx'], axis=1, inplace=True)"
      ],
      "metadata": {
        "id": "oEb1n9beggFB"
      },
      "execution_count": 272,
      "outputs": []
    },
    {
      "cell_type": "code",
      "source": [
        "cc_df.dropna(how='any', inplace=True)\n",
        "cc_df.shape"
      ],
      "metadata": {
        "colab": {
          "base_uri": "https://localhost:8080/"
        },
        "id": "YwBJvV_YhBdA",
        "outputId": "a1a2f66e-edc1-446b-ac52-ed585431afbc"
      },
      "execution_count": 273,
      "outputs": [
        {
          "output_type": "execute_result",
          "data": {
            "text/plain": [
              "(668, 31)"
            ]
          },
          "metadata": {},
          "execution_count": 273
        }
      ]
    },
    {
      "cell_type": "code",
      "source": [
        "cc_df = cc_df.reset_index(drop=True)\n",
        "cc_df"
      ],
      "metadata": {
        "colab": {
          "base_uri": "https://localhost:8080/",
          "height": 0
        },
        "id": "9HVyJ768i5CS",
        "outputId": "32994165-6a07-44de-d185-6f32aa48dc86"
      },
      "execution_count": 274,
      "outputs": [
        {
          "output_type": "execute_result",
          "data": {
            "text/plain": [
              "     Age Number of sexual partners First sexual intercourse  \\\n",
              "0     18                       4.0                     15.0   \n",
              "1     15                       1.0                     14.0   \n",
              "2     52                       5.0                     16.0   \n",
              "3     46                       3.0                     21.0   \n",
              "4     42                       3.0                     23.0   \n",
              "..   ...                       ...                      ...   \n",
              "663   34                       3.0                     18.0   \n",
              "664   32                       2.0                     19.0   \n",
              "665   25                       2.0                     17.0   \n",
              "666   33                       2.0                     24.0   \n",
              "667   29                       2.0                     20.0   \n",
              "\n",
              "    Num of pregnancies Smokes Smokes (years) Smokes (packs/year)  \\\n",
              "0                  1.0    0.0            0.0                 0.0   \n",
              "1                  1.0    0.0            0.0                 0.0   \n",
              "2                  4.0    1.0           37.0                37.0   \n",
              "3                  4.0    0.0            0.0                 0.0   \n",
              "4                  2.0    0.0            0.0                 0.0   \n",
              "..                 ...    ...            ...                 ...   \n",
              "663                0.0    0.0            0.0                 0.0   \n",
              "664                1.0    0.0            0.0                 0.0   \n",
              "665                0.0    0.0            0.0                 0.0   \n",
              "666                2.0    0.0            0.0                 0.0   \n",
              "667                1.0    0.0            0.0                 0.0   \n",
              "\n",
              "    Hormonal Contraceptives Hormonal Contraceptives (years)  IUD  ...  \\\n",
              "0                       0.0                             0.0  0.0  ...   \n",
              "1                       0.0                             0.0  0.0  ...   \n",
              "2                       1.0                             3.0  0.0  ...   \n",
              "3                       1.0                            15.0  0.0  ...   \n",
              "4                       0.0                             0.0  0.0  ...   \n",
              "..                      ...                             ...  ...  ...   \n",
              "663                     0.0                             0.0  0.0  ...   \n",
              "664                     1.0                             8.0  0.0  ...   \n",
              "665                     1.0                            0.08  0.0  ...   \n",
              "666                     1.0                            0.08  0.0  ...   \n",
              "667                     1.0                             0.5  0.0  ...   \n",
              "\n",
              "    STDs:AIDS STDs:HIV STDs:Hepatitis B STDs:HPV STDs: Number of diagnosis  \\\n",
              "0         0.0      0.0              0.0      0.0                         0   \n",
              "1         0.0      0.0              0.0      0.0                         0   \n",
              "2         0.0      0.0              0.0      0.0                         0   \n",
              "3         0.0      0.0              0.0      0.0                         0   \n",
              "4         0.0      0.0              0.0      0.0                         0   \n",
              "..        ...      ...              ...      ...                       ...   \n",
              "663       0.0      0.0              0.0      0.0                         0   \n",
              "664       0.0      0.0              0.0      0.0                         0   \n",
              "665       0.0      0.0              0.0      0.0                         0   \n",
              "666       0.0      0.0              0.0      0.0                         0   \n",
              "667       0.0      0.0              0.0      0.0                         0   \n",
              "\n",
              "    Dx:Cancer Hinselmann Schiller Citology Biopsy  \n",
              "0           0          0        0        0      0  \n",
              "1           0          0        0        0      0  \n",
              "2           1          0        0        0      0  \n",
              "3           0          0        0        0      0  \n",
              "4           0          0        0        0      0  \n",
              "..        ...        ...      ...      ...    ...  \n",
              "663         0          0        0        0      0  \n",
              "664         0          0        0        0      0  \n",
              "665         0          0        0        1      0  \n",
              "666         0          0        0        0      0  \n",
              "667         0          0        0        0      0  \n",
              "\n",
              "[668 rows x 31 columns]"
            ],
            "text/html": [
              "\n",
              "  <div id=\"df-f6a78f7c-47b9-432d-8ae0-5b35529da4ec\">\n",
              "    <div class=\"colab-df-container\">\n",
              "      <div>\n",
              "<style scoped>\n",
              "    .dataframe tbody tr th:only-of-type {\n",
              "        vertical-align: middle;\n",
              "    }\n",
              "\n",
              "    .dataframe tbody tr th {\n",
              "        vertical-align: top;\n",
              "    }\n",
              "\n",
              "    .dataframe thead th {\n",
              "        text-align: right;\n",
              "    }\n",
              "</style>\n",
              "<table border=\"1\" class=\"dataframe\">\n",
              "  <thead>\n",
              "    <tr style=\"text-align: right;\">\n",
              "      <th></th>\n",
              "      <th>Age</th>\n",
              "      <th>Number of sexual partners</th>\n",
              "      <th>First sexual intercourse</th>\n",
              "      <th>Num of pregnancies</th>\n",
              "      <th>Smokes</th>\n",
              "      <th>Smokes (years)</th>\n",
              "      <th>Smokes (packs/year)</th>\n",
              "      <th>Hormonal Contraceptives</th>\n",
              "      <th>Hormonal Contraceptives (years)</th>\n",
              "      <th>IUD</th>\n",
              "      <th>...</th>\n",
              "      <th>STDs:AIDS</th>\n",
              "      <th>STDs:HIV</th>\n",
              "      <th>STDs:Hepatitis B</th>\n",
              "      <th>STDs:HPV</th>\n",
              "      <th>STDs: Number of diagnosis</th>\n",
              "      <th>Dx:Cancer</th>\n",
              "      <th>Hinselmann</th>\n",
              "      <th>Schiller</th>\n",
              "      <th>Citology</th>\n",
              "      <th>Biopsy</th>\n",
              "    </tr>\n",
              "  </thead>\n",
              "  <tbody>\n",
              "    <tr>\n",
              "      <th>0</th>\n",
              "      <td>18</td>\n",
              "      <td>4.0</td>\n",
              "      <td>15.0</td>\n",
              "      <td>1.0</td>\n",
              "      <td>0.0</td>\n",
              "      <td>0.0</td>\n",
              "      <td>0.0</td>\n",
              "      <td>0.0</td>\n",
              "      <td>0.0</td>\n",
              "      <td>0.0</td>\n",
              "      <td>...</td>\n",
              "      <td>0.0</td>\n",
              "      <td>0.0</td>\n",
              "      <td>0.0</td>\n",
              "      <td>0.0</td>\n",
              "      <td>0</td>\n",
              "      <td>0</td>\n",
              "      <td>0</td>\n",
              "      <td>0</td>\n",
              "      <td>0</td>\n",
              "      <td>0</td>\n",
              "    </tr>\n",
              "    <tr>\n",
              "      <th>1</th>\n",
              "      <td>15</td>\n",
              "      <td>1.0</td>\n",
              "      <td>14.0</td>\n",
              "      <td>1.0</td>\n",
              "      <td>0.0</td>\n",
              "      <td>0.0</td>\n",
              "      <td>0.0</td>\n",
              "      <td>0.0</td>\n",
              "      <td>0.0</td>\n",
              "      <td>0.0</td>\n",
              "      <td>...</td>\n",
              "      <td>0.0</td>\n",
              "      <td>0.0</td>\n",
              "      <td>0.0</td>\n",
              "      <td>0.0</td>\n",
              "      <td>0</td>\n",
              "      <td>0</td>\n",
              "      <td>0</td>\n",
              "      <td>0</td>\n",
              "      <td>0</td>\n",
              "      <td>0</td>\n",
              "    </tr>\n",
              "    <tr>\n",
              "      <th>2</th>\n",
              "      <td>52</td>\n",
              "      <td>5.0</td>\n",
              "      <td>16.0</td>\n",
              "      <td>4.0</td>\n",
              "      <td>1.0</td>\n",
              "      <td>37.0</td>\n",
              "      <td>37.0</td>\n",
              "      <td>1.0</td>\n",
              "      <td>3.0</td>\n",
              "      <td>0.0</td>\n",
              "      <td>...</td>\n",
              "      <td>0.0</td>\n",
              "      <td>0.0</td>\n",
              "      <td>0.0</td>\n",
              "      <td>0.0</td>\n",
              "      <td>0</td>\n",
              "      <td>1</td>\n",
              "      <td>0</td>\n",
              "      <td>0</td>\n",
              "      <td>0</td>\n",
              "      <td>0</td>\n",
              "    </tr>\n",
              "    <tr>\n",
              "      <th>3</th>\n",
              "      <td>46</td>\n",
              "      <td>3.0</td>\n",
              "      <td>21.0</td>\n",
              "      <td>4.0</td>\n",
              "      <td>0.0</td>\n",
              "      <td>0.0</td>\n",
              "      <td>0.0</td>\n",
              "      <td>1.0</td>\n",
              "      <td>15.0</td>\n",
              "      <td>0.0</td>\n",
              "      <td>...</td>\n",
              "      <td>0.0</td>\n",
              "      <td>0.0</td>\n",
              "      <td>0.0</td>\n",
              "      <td>0.0</td>\n",
              "      <td>0</td>\n",
              "      <td>0</td>\n",
              "      <td>0</td>\n",
              "      <td>0</td>\n",
              "      <td>0</td>\n",
              "      <td>0</td>\n",
              "    </tr>\n",
              "    <tr>\n",
              "      <th>4</th>\n",
              "      <td>42</td>\n",
              "      <td>3.0</td>\n",
              "      <td>23.0</td>\n",
              "      <td>2.0</td>\n",
              "      <td>0.0</td>\n",
              "      <td>0.0</td>\n",
              "      <td>0.0</td>\n",
              "      <td>0.0</td>\n",
              "      <td>0.0</td>\n",
              "      <td>0.0</td>\n",
              "      <td>...</td>\n",
              "      <td>0.0</td>\n",
              "      <td>0.0</td>\n",
              "      <td>0.0</td>\n",
              "      <td>0.0</td>\n",
              "      <td>0</td>\n",
              "      <td>0</td>\n",
              "      <td>0</td>\n",
              "      <td>0</td>\n",
              "      <td>0</td>\n",
              "      <td>0</td>\n",
              "    </tr>\n",
              "    <tr>\n",
              "      <th>...</th>\n",
              "      <td>...</td>\n",
              "      <td>...</td>\n",
              "      <td>...</td>\n",
              "      <td>...</td>\n",
              "      <td>...</td>\n",
              "      <td>...</td>\n",
              "      <td>...</td>\n",
              "      <td>...</td>\n",
              "      <td>...</td>\n",
              "      <td>...</td>\n",
              "      <td>...</td>\n",
              "      <td>...</td>\n",
              "      <td>...</td>\n",
              "      <td>...</td>\n",
              "      <td>...</td>\n",
              "      <td>...</td>\n",
              "      <td>...</td>\n",
              "      <td>...</td>\n",
              "      <td>...</td>\n",
              "      <td>...</td>\n",
              "      <td>...</td>\n",
              "    </tr>\n",
              "    <tr>\n",
              "      <th>663</th>\n",
              "      <td>34</td>\n",
              "      <td>3.0</td>\n",
              "      <td>18.0</td>\n",
              "      <td>0.0</td>\n",
              "      <td>0.0</td>\n",
              "      <td>0.0</td>\n",
              "      <td>0.0</td>\n",
              "      <td>0.0</td>\n",
              "      <td>0.0</td>\n",
              "      <td>0.0</td>\n",
              "      <td>...</td>\n",
              "      <td>0.0</td>\n",
              "      <td>0.0</td>\n",
              "      <td>0.0</td>\n",
              "      <td>0.0</td>\n",
              "      <td>0</td>\n",
              "      <td>0</td>\n",
              "      <td>0</td>\n",
              "      <td>0</td>\n",
              "      <td>0</td>\n",
              "      <td>0</td>\n",
              "    </tr>\n",
              "    <tr>\n",
              "      <th>664</th>\n",
              "      <td>32</td>\n",
              "      <td>2.0</td>\n",
              "      <td>19.0</td>\n",
              "      <td>1.0</td>\n",
              "      <td>0.0</td>\n",
              "      <td>0.0</td>\n",
              "      <td>0.0</td>\n",
              "      <td>1.0</td>\n",
              "      <td>8.0</td>\n",
              "      <td>0.0</td>\n",
              "      <td>...</td>\n",
              "      <td>0.0</td>\n",
              "      <td>0.0</td>\n",
              "      <td>0.0</td>\n",
              "      <td>0.0</td>\n",
              "      <td>0</td>\n",
              "      <td>0</td>\n",
              "      <td>0</td>\n",
              "      <td>0</td>\n",
              "      <td>0</td>\n",
              "      <td>0</td>\n",
              "    </tr>\n",
              "    <tr>\n",
              "      <th>665</th>\n",
              "      <td>25</td>\n",
              "      <td>2.0</td>\n",
              "      <td>17.0</td>\n",
              "      <td>0.0</td>\n",
              "      <td>0.0</td>\n",
              "      <td>0.0</td>\n",
              "      <td>0.0</td>\n",
              "      <td>1.0</td>\n",
              "      <td>0.08</td>\n",
              "      <td>0.0</td>\n",
              "      <td>...</td>\n",
              "      <td>0.0</td>\n",
              "      <td>0.0</td>\n",
              "      <td>0.0</td>\n",
              "      <td>0.0</td>\n",
              "      <td>0</td>\n",
              "      <td>0</td>\n",
              "      <td>0</td>\n",
              "      <td>0</td>\n",
              "      <td>1</td>\n",
              "      <td>0</td>\n",
              "    </tr>\n",
              "    <tr>\n",
              "      <th>666</th>\n",
              "      <td>33</td>\n",
              "      <td>2.0</td>\n",
              "      <td>24.0</td>\n",
              "      <td>2.0</td>\n",
              "      <td>0.0</td>\n",
              "      <td>0.0</td>\n",
              "      <td>0.0</td>\n",
              "      <td>1.0</td>\n",
              "      <td>0.08</td>\n",
              "      <td>0.0</td>\n",
              "      <td>...</td>\n",
              "      <td>0.0</td>\n",
              "      <td>0.0</td>\n",
              "      <td>0.0</td>\n",
              "      <td>0.0</td>\n",
              "      <td>0</td>\n",
              "      <td>0</td>\n",
              "      <td>0</td>\n",
              "      <td>0</td>\n",
              "      <td>0</td>\n",
              "      <td>0</td>\n",
              "    </tr>\n",
              "    <tr>\n",
              "      <th>667</th>\n",
              "      <td>29</td>\n",
              "      <td>2.0</td>\n",
              "      <td>20.0</td>\n",
              "      <td>1.0</td>\n",
              "      <td>0.0</td>\n",
              "      <td>0.0</td>\n",
              "      <td>0.0</td>\n",
              "      <td>1.0</td>\n",
              "      <td>0.5</td>\n",
              "      <td>0.0</td>\n",
              "      <td>...</td>\n",
              "      <td>0.0</td>\n",
              "      <td>0.0</td>\n",
              "      <td>0.0</td>\n",
              "      <td>0.0</td>\n",
              "      <td>0</td>\n",
              "      <td>0</td>\n",
              "      <td>0</td>\n",
              "      <td>0</td>\n",
              "      <td>0</td>\n",
              "      <td>0</td>\n",
              "    </tr>\n",
              "  </tbody>\n",
              "</table>\n",
              "<p>668 rows × 31 columns</p>\n",
              "</div>\n",
              "      <button class=\"colab-df-convert\" onclick=\"convertToInteractive('df-f6a78f7c-47b9-432d-8ae0-5b35529da4ec')\"\n",
              "              title=\"Convert this dataframe to an interactive table.\"\n",
              "              style=\"display:none;\">\n",
              "        \n",
              "  <svg xmlns=\"http://www.w3.org/2000/svg\" height=\"24px\"viewBox=\"0 0 24 24\"\n",
              "       width=\"24px\">\n",
              "    <path d=\"M0 0h24v24H0V0z\" fill=\"none\"/>\n",
              "    <path d=\"M18.56 5.44l.94 2.06.94-2.06 2.06-.94-2.06-.94-.94-2.06-.94 2.06-2.06.94zm-11 1L8.5 8.5l.94-2.06 2.06-.94-2.06-.94L8.5 2.5l-.94 2.06-2.06.94zm10 10l.94 2.06.94-2.06 2.06-.94-2.06-.94-.94-2.06-.94 2.06-2.06.94z\"/><path d=\"M17.41 7.96l-1.37-1.37c-.4-.4-.92-.59-1.43-.59-.52 0-1.04.2-1.43.59L10.3 9.45l-7.72 7.72c-.78.78-.78 2.05 0 2.83L4 21.41c.39.39.9.59 1.41.59.51 0 1.02-.2 1.41-.59l7.78-7.78 2.81-2.81c.8-.78.8-2.07 0-2.86zM5.41 20L4 18.59l7.72-7.72 1.47 1.35L5.41 20z\"/>\n",
              "  </svg>\n",
              "      </button>\n",
              "      \n",
              "  <style>\n",
              "    .colab-df-container {\n",
              "      display:flex;\n",
              "      flex-wrap:wrap;\n",
              "      gap: 12px;\n",
              "    }\n",
              "\n",
              "    .colab-df-convert {\n",
              "      background-color: #E8F0FE;\n",
              "      border: none;\n",
              "      border-radius: 50%;\n",
              "      cursor: pointer;\n",
              "      display: none;\n",
              "      fill: #1967D2;\n",
              "      height: 32px;\n",
              "      padding: 0 0 0 0;\n",
              "      width: 32px;\n",
              "    }\n",
              "\n",
              "    .colab-df-convert:hover {\n",
              "      background-color: #E2EBFA;\n",
              "      box-shadow: 0px 1px 2px rgba(60, 64, 67, 0.3), 0px 1px 3px 1px rgba(60, 64, 67, 0.15);\n",
              "      fill: #174EA6;\n",
              "    }\n",
              "\n",
              "    [theme=dark] .colab-df-convert {\n",
              "      background-color: #3B4455;\n",
              "      fill: #D2E3FC;\n",
              "    }\n",
              "\n",
              "    [theme=dark] .colab-df-convert:hover {\n",
              "      background-color: #434B5C;\n",
              "      box-shadow: 0px 1px 3px 1px rgba(0, 0, 0, 0.15);\n",
              "      filter: drop-shadow(0px 1px 2px rgba(0, 0, 0, 0.3));\n",
              "      fill: #FFFFFF;\n",
              "    }\n",
              "  </style>\n",
              "\n",
              "      <script>\n",
              "        const buttonEl =\n",
              "          document.querySelector('#df-f6a78f7c-47b9-432d-8ae0-5b35529da4ec button.colab-df-convert');\n",
              "        buttonEl.style.display =\n",
              "          google.colab.kernel.accessAllowed ? 'block' : 'none';\n",
              "\n",
              "        async function convertToInteractive(key) {\n",
              "          const element = document.querySelector('#df-f6a78f7c-47b9-432d-8ae0-5b35529da4ec');\n",
              "          const dataTable =\n",
              "            await google.colab.kernel.invokeFunction('convertToInteractive',\n",
              "                                                     [key], {});\n",
              "          if (!dataTable) return;\n",
              "\n",
              "          const docLinkHtml = 'Like what you see? Visit the ' +\n",
              "            '<a target=\"_blank\" href=https://colab.research.google.com/notebooks/data_table.ipynb>data table notebook</a>'\n",
              "            + ' to learn more about interactive tables.';\n",
              "          element.innerHTML = '';\n",
              "          dataTable['output_type'] = 'display_data';\n",
              "          await google.colab.output.renderOutput(dataTable, element);\n",
              "          const docLink = document.createElement('div');\n",
              "          docLink.innerHTML = docLinkHtml;\n",
              "          element.appendChild(docLink);\n",
              "        }\n",
              "      </script>\n",
              "    </div>\n",
              "  </div>\n",
              "  "
            ]
          },
          "metadata": {},
          "execution_count": 274
        }
      ]
    },
    {
      "cell_type": "code",
      "source": [
        "# cc_df['Number of sexual partners'] = pd.to_numeric(cc_df['Number of sexual partners'])\n",
        "# cc_df['First sexual intercourse'] = pd.to_numeric(cc_df['First sexual intercourse'])\n",
        "# cc_df['Num of pregnancies'] = pd.to_numeric(cc_df['Num of pregnancies'])\n",
        "# cc_df['Smokes (years)'] = pd.to_numeric(cc_df['Smokes (years)'])\n",
        "# cc_df['Smokes (packs/year)'] = pd.to_numeric(cc_df['Smokes (packs/year)'])\n",
        "# cc_df['Hormonal Contraceptives (years)'] = pd.to_numeric(cc_df['Hormonal Contraceptives (years)'])\n",
        "# cc_df['IUD (years)'] = pd.to_numeric(cc_df['IUD (years)'])\n",
        "# cc_df['STDs (number)'] = pd.to_numeric(cc_df['STDs (number)'])"
      ],
      "metadata": {
        "id": "X_R-tpvdrw4j"
      },
      "execution_count": 275,
      "outputs": []
    },
    {
      "cell_type": "code",
      "source": [
        "for col in cc_df.columns:\n",
        "  cc_df[col] = pd.to_numeric(cc_df[col])"
      ],
      "metadata": {
        "id": "6sYL8NTTQGRq"
      },
      "execution_count": 276,
      "outputs": []
    },
    {
      "cell_type": "code",
      "source": [
        "cc_df.info()"
      ],
      "metadata": {
        "colab": {
          "base_uri": "https://localhost:8080/"
        },
        "id": "g9hwpNsLPZV2",
        "outputId": "9169816c-9a7f-4e33-f10e-56300e6041a6"
      },
      "execution_count": 277,
      "outputs": [
        {
          "output_type": "stream",
          "name": "stdout",
          "text": [
            "<class 'pandas.core.frame.DataFrame'>\n",
            "RangeIndex: 668 entries, 0 to 667\n",
            "Data columns (total 31 columns):\n",
            " #   Column                              Non-Null Count  Dtype  \n",
            "---  ------                              --------------  -----  \n",
            " 0   Age                                 668 non-null    int64  \n",
            " 1   Number of sexual partners           668 non-null    float64\n",
            " 2   First sexual intercourse            668 non-null    float64\n",
            " 3   Num of pregnancies                  668 non-null    float64\n",
            " 4   Smokes                              668 non-null    float64\n",
            " 5   Smokes (years)                      668 non-null    float64\n",
            " 6   Smokes (packs/year)                 668 non-null    float64\n",
            " 7   Hormonal Contraceptives             668 non-null    float64\n",
            " 8   Hormonal Contraceptives (years)     668 non-null    float64\n",
            " 9   IUD                                 668 non-null    float64\n",
            " 10  IUD (years)                         668 non-null    float64\n",
            " 11  STDs                                668 non-null    float64\n",
            " 12  STDs (number)                       668 non-null    float64\n",
            " 13  STDs:condylomatosis                 668 non-null    float64\n",
            " 14  STDs:cervical condylomatosis        668 non-null    float64\n",
            " 15  STDs:vaginal condylomatosis         668 non-null    float64\n",
            " 16  STDs:vulvo-perineal condylomatosis  668 non-null    float64\n",
            " 17  STDs:syphilis                       668 non-null    float64\n",
            " 18  STDs:pelvic inflammatory disease    668 non-null    float64\n",
            " 19  STDs:genital herpes                 668 non-null    float64\n",
            " 20  STDs:molluscum contagiosum          668 non-null    float64\n",
            " 21  STDs:AIDS                           668 non-null    float64\n",
            " 22  STDs:HIV                            668 non-null    float64\n",
            " 23  STDs:Hepatitis B                    668 non-null    float64\n",
            " 24  STDs:HPV                            668 non-null    float64\n",
            " 25  STDs: Number of diagnosis           668 non-null    int64  \n",
            " 26  Dx:Cancer                           668 non-null    int64  \n",
            " 27  Hinselmann                          668 non-null    int64  \n",
            " 28  Schiller                            668 non-null    int64  \n",
            " 29  Citology                            668 non-null    int64  \n",
            " 30  Biopsy                              668 non-null    int64  \n",
            "dtypes: float64(24), int64(7)\n",
            "memory usage: 161.9 KB\n"
          ]
        }
      ]
    },
    {
      "cell_type": "code",
      "source": [
        "cc_df_bool = cc_df.replace({'Smokes': {1: True, 0: False},\n",
        "                       'Hormonal Contraceptives': {1: True, 0: False},\n",
        "                       'IUD': {1: True, 0: False},\n",
        "                       'STDs': {1: True, 0: False},\n",
        "                       'STDs:condylomatosis': {1: True, 0: False},\n",
        "                       'STDs:cervical condylomatosis': {1: True, 0: False}, \n",
        "                       'STDs:vaginal condylomatosis': {1: True, 0: False},\n",
        "                       'STDs:vulvo-perineal condylomatosis': {1: True, 0: False}, \n",
        "                       'STDs:syphilis': {1: True, 0: False},\n",
        "                       'STDs:pelvic inflammatory disease': {1: True, 0: False},\n",
        "                       'STDs:genital herpes': {1: True, 0: False},\n",
        "                       'STDs:molluscum contagiosum': {1: True, 0: False}, \n",
        "                       'STDs:AIDS': {1: True, 0: False}, \n",
        "                       'STDs:HIV': {1: True, 0: False},\n",
        "                       'STDs:Hepatitis B': {1: True, 0: False}, \n",
        "                       'STDs:HPV': {1: True, 0: False},\n",
        "                       'Dx:Cancer': {1: True, 0: False},\n",
        "                       'Hinselmann': {1: True, 0: False}, \n",
        "                       'Schiller': {1: True, 0: False}, \n",
        "                       'Citology': {1: True, 0: False}, \n",
        "                       'Biopsy': {1: True, 0: False}})"
      ],
      "metadata": {
        "id": "aE8gu1MHjHW8"
      },
      "execution_count": 278,
      "outputs": []
    },
    {
      "cell_type": "code",
      "source": [
        "cc_df_bool.info()"
      ],
      "metadata": {
        "colab": {
          "base_uri": "https://localhost:8080/"
        },
        "id": "dKIqtBVvPcg-",
        "outputId": "7b8cf280-3910-4ee9-eb99-6d105c0d92c0"
      },
      "execution_count": 279,
      "outputs": [
        {
          "output_type": "stream",
          "name": "stdout",
          "text": [
            "<class 'pandas.core.frame.DataFrame'>\n",
            "RangeIndex: 668 entries, 0 to 667\n",
            "Data columns (total 31 columns):\n",
            " #   Column                              Non-Null Count  Dtype  \n",
            "---  ------                              --------------  -----  \n",
            " 0   Age                                 668 non-null    int64  \n",
            " 1   Number of sexual partners           668 non-null    float64\n",
            " 2   First sexual intercourse            668 non-null    float64\n",
            " 3   Num of pregnancies                  668 non-null    float64\n",
            " 4   Smokes                              668 non-null    bool   \n",
            " 5   Smokes (years)                      668 non-null    float64\n",
            " 6   Smokes (packs/year)                 668 non-null    float64\n",
            " 7   Hormonal Contraceptives             668 non-null    bool   \n",
            " 8   Hormonal Contraceptives (years)     668 non-null    float64\n",
            " 9   IUD                                 668 non-null    bool   \n",
            " 10  IUD (years)                         668 non-null    float64\n",
            " 11  STDs                                668 non-null    bool   \n",
            " 12  STDs (number)                       668 non-null    float64\n",
            " 13  STDs:condylomatosis                 668 non-null    bool   \n",
            " 14  STDs:cervical condylomatosis        668 non-null    object \n",
            " 15  STDs:vaginal condylomatosis         668 non-null    bool   \n",
            " 16  STDs:vulvo-perineal condylomatosis  668 non-null    bool   \n",
            " 17  STDs:syphilis                       668 non-null    bool   \n",
            " 18  STDs:pelvic inflammatory disease    668 non-null    bool   \n",
            " 19  STDs:genital herpes                 668 non-null    bool   \n",
            " 20  STDs:molluscum contagiosum          668 non-null    bool   \n",
            " 21  STDs:AIDS                           668 non-null    object \n",
            " 22  STDs:HIV                            668 non-null    bool   \n",
            " 23  STDs:Hepatitis B                    668 non-null    bool   \n",
            " 24  STDs:HPV                            668 non-null    bool   \n",
            " 25  STDs: Number of diagnosis           668 non-null    int64  \n",
            " 26  Dx:Cancer                           668 non-null    bool   \n",
            " 27  Hinselmann                          668 non-null    bool   \n",
            " 28  Schiller                            668 non-null    bool   \n",
            " 29  Citology                            668 non-null    bool   \n",
            " 30  Biopsy                              668 non-null    bool   \n",
            "dtypes: bool(19), float64(8), int64(2), object(2)\n",
            "memory usage: 75.1+ KB\n"
          ]
        }
      ]
    },
    {
      "cell_type": "code",
      "source": [
        "cc_df_bool.head()"
      ],
      "metadata": {
        "colab": {
          "base_uri": "https://localhost:8080/",
          "height": 0
        },
        "id": "eDdEUPCrRdro",
        "outputId": "109455cd-b81e-4090-9729-8fcfa6976f01"
      },
      "execution_count": 280,
      "outputs": [
        {
          "output_type": "execute_result",
          "data": {
            "text/plain": [
              "   Age  Number of sexual partners  First sexual intercourse  \\\n",
              "0   18                        4.0                      15.0   \n",
              "1   15                        1.0                      14.0   \n",
              "2   52                        5.0                      16.0   \n",
              "3   46                        3.0                      21.0   \n",
              "4   42                        3.0                      23.0   \n",
              "\n",
              "   Num of pregnancies  Smokes  Smokes (years)  Smokes (packs/year)  \\\n",
              "0                 1.0   False             0.0                  0.0   \n",
              "1                 1.0   False             0.0                  0.0   \n",
              "2                 4.0    True            37.0                 37.0   \n",
              "3                 4.0   False             0.0                  0.0   \n",
              "4                 2.0   False             0.0                  0.0   \n",
              "\n",
              "   Hormonal Contraceptives  Hormonal Contraceptives (years)    IUD  ...  \\\n",
              "0                    False                              0.0  False  ...   \n",
              "1                    False                              0.0  False  ...   \n",
              "2                     True                              3.0  False  ...   \n",
              "3                     True                             15.0  False  ...   \n",
              "4                    False                              0.0  False  ...   \n",
              "\n",
              "   STDs:AIDS  STDs:HIV  STDs:Hepatitis B  STDs:HPV STDs: Number of diagnosis  \\\n",
              "0      False     False             False     False                         0   \n",
              "1      False     False             False     False                         0   \n",
              "2      False     False             False     False                         0   \n",
              "3      False     False             False     False                         0   \n",
              "4      False     False             False     False                         0   \n",
              "\n",
              "   Dx:Cancer  Hinselmann  Schiller  Citology  Biopsy  \n",
              "0      False       False     False     False   False  \n",
              "1      False       False     False     False   False  \n",
              "2       True       False     False     False   False  \n",
              "3      False       False     False     False   False  \n",
              "4      False       False     False     False   False  \n",
              "\n",
              "[5 rows x 31 columns]"
            ],
            "text/html": [
              "\n",
              "  <div id=\"df-dce25c46-5671-47c4-aaee-57279720fa8d\">\n",
              "    <div class=\"colab-df-container\">\n",
              "      <div>\n",
              "<style scoped>\n",
              "    .dataframe tbody tr th:only-of-type {\n",
              "        vertical-align: middle;\n",
              "    }\n",
              "\n",
              "    .dataframe tbody tr th {\n",
              "        vertical-align: top;\n",
              "    }\n",
              "\n",
              "    .dataframe thead th {\n",
              "        text-align: right;\n",
              "    }\n",
              "</style>\n",
              "<table border=\"1\" class=\"dataframe\">\n",
              "  <thead>\n",
              "    <tr style=\"text-align: right;\">\n",
              "      <th></th>\n",
              "      <th>Age</th>\n",
              "      <th>Number of sexual partners</th>\n",
              "      <th>First sexual intercourse</th>\n",
              "      <th>Num of pregnancies</th>\n",
              "      <th>Smokes</th>\n",
              "      <th>Smokes (years)</th>\n",
              "      <th>Smokes (packs/year)</th>\n",
              "      <th>Hormonal Contraceptives</th>\n",
              "      <th>Hormonal Contraceptives (years)</th>\n",
              "      <th>IUD</th>\n",
              "      <th>...</th>\n",
              "      <th>STDs:AIDS</th>\n",
              "      <th>STDs:HIV</th>\n",
              "      <th>STDs:Hepatitis B</th>\n",
              "      <th>STDs:HPV</th>\n",
              "      <th>STDs: Number of diagnosis</th>\n",
              "      <th>Dx:Cancer</th>\n",
              "      <th>Hinselmann</th>\n",
              "      <th>Schiller</th>\n",
              "      <th>Citology</th>\n",
              "      <th>Biopsy</th>\n",
              "    </tr>\n",
              "  </thead>\n",
              "  <tbody>\n",
              "    <tr>\n",
              "      <th>0</th>\n",
              "      <td>18</td>\n",
              "      <td>4.0</td>\n",
              "      <td>15.0</td>\n",
              "      <td>1.0</td>\n",
              "      <td>False</td>\n",
              "      <td>0.0</td>\n",
              "      <td>0.0</td>\n",
              "      <td>False</td>\n",
              "      <td>0.0</td>\n",
              "      <td>False</td>\n",
              "      <td>...</td>\n",
              "      <td>False</td>\n",
              "      <td>False</td>\n",
              "      <td>False</td>\n",
              "      <td>False</td>\n",
              "      <td>0</td>\n",
              "      <td>False</td>\n",
              "      <td>False</td>\n",
              "      <td>False</td>\n",
              "      <td>False</td>\n",
              "      <td>False</td>\n",
              "    </tr>\n",
              "    <tr>\n",
              "      <th>1</th>\n",
              "      <td>15</td>\n",
              "      <td>1.0</td>\n",
              "      <td>14.0</td>\n",
              "      <td>1.0</td>\n",
              "      <td>False</td>\n",
              "      <td>0.0</td>\n",
              "      <td>0.0</td>\n",
              "      <td>False</td>\n",
              "      <td>0.0</td>\n",
              "      <td>False</td>\n",
              "      <td>...</td>\n",
              "      <td>False</td>\n",
              "      <td>False</td>\n",
              "      <td>False</td>\n",
              "      <td>False</td>\n",
              "      <td>0</td>\n",
              "      <td>False</td>\n",
              "      <td>False</td>\n",
              "      <td>False</td>\n",
              "      <td>False</td>\n",
              "      <td>False</td>\n",
              "    </tr>\n",
              "    <tr>\n",
              "      <th>2</th>\n",
              "      <td>52</td>\n",
              "      <td>5.0</td>\n",
              "      <td>16.0</td>\n",
              "      <td>4.0</td>\n",
              "      <td>True</td>\n",
              "      <td>37.0</td>\n",
              "      <td>37.0</td>\n",
              "      <td>True</td>\n",
              "      <td>3.0</td>\n",
              "      <td>False</td>\n",
              "      <td>...</td>\n",
              "      <td>False</td>\n",
              "      <td>False</td>\n",
              "      <td>False</td>\n",
              "      <td>False</td>\n",
              "      <td>0</td>\n",
              "      <td>True</td>\n",
              "      <td>False</td>\n",
              "      <td>False</td>\n",
              "      <td>False</td>\n",
              "      <td>False</td>\n",
              "    </tr>\n",
              "    <tr>\n",
              "      <th>3</th>\n",
              "      <td>46</td>\n",
              "      <td>3.0</td>\n",
              "      <td>21.0</td>\n",
              "      <td>4.0</td>\n",
              "      <td>False</td>\n",
              "      <td>0.0</td>\n",
              "      <td>0.0</td>\n",
              "      <td>True</td>\n",
              "      <td>15.0</td>\n",
              "      <td>False</td>\n",
              "      <td>...</td>\n",
              "      <td>False</td>\n",
              "      <td>False</td>\n",
              "      <td>False</td>\n",
              "      <td>False</td>\n",
              "      <td>0</td>\n",
              "      <td>False</td>\n",
              "      <td>False</td>\n",
              "      <td>False</td>\n",
              "      <td>False</td>\n",
              "      <td>False</td>\n",
              "    </tr>\n",
              "    <tr>\n",
              "      <th>4</th>\n",
              "      <td>42</td>\n",
              "      <td>3.0</td>\n",
              "      <td>23.0</td>\n",
              "      <td>2.0</td>\n",
              "      <td>False</td>\n",
              "      <td>0.0</td>\n",
              "      <td>0.0</td>\n",
              "      <td>False</td>\n",
              "      <td>0.0</td>\n",
              "      <td>False</td>\n",
              "      <td>...</td>\n",
              "      <td>False</td>\n",
              "      <td>False</td>\n",
              "      <td>False</td>\n",
              "      <td>False</td>\n",
              "      <td>0</td>\n",
              "      <td>False</td>\n",
              "      <td>False</td>\n",
              "      <td>False</td>\n",
              "      <td>False</td>\n",
              "      <td>False</td>\n",
              "    </tr>\n",
              "  </tbody>\n",
              "</table>\n",
              "<p>5 rows × 31 columns</p>\n",
              "</div>\n",
              "      <button class=\"colab-df-convert\" onclick=\"convertToInteractive('df-dce25c46-5671-47c4-aaee-57279720fa8d')\"\n",
              "              title=\"Convert this dataframe to an interactive table.\"\n",
              "              style=\"display:none;\">\n",
              "        \n",
              "  <svg xmlns=\"http://www.w3.org/2000/svg\" height=\"24px\"viewBox=\"0 0 24 24\"\n",
              "       width=\"24px\">\n",
              "    <path d=\"M0 0h24v24H0V0z\" fill=\"none\"/>\n",
              "    <path d=\"M18.56 5.44l.94 2.06.94-2.06 2.06-.94-2.06-.94-.94-2.06-.94 2.06-2.06.94zm-11 1L8.5 8.5l.94-2.06 2.06-.94-2.06-.94L8.5 2.5l-.94 2.06-2.06.94zm10 10l.94 2.06.94-2.06 2.06-.94-2.06-.94-.94-2.06-.94 2.06-2.06.94z\"/><path d=\"M17.41 7.96l-1.37-1.37c-.4-.4-.92-.59-1.43-.59-.52 0-1.04.2-1.43.59L10.3 9.45l-7.72 7.72c-.78.78-.78 2.05 0 2.83L4 21.41c.39.39.9.59 1.41.59.51 0 1.02-.2 1.41-.59l7.78-7.78 2.81-2.81c.8-.78.8-2.07 0-2.86zM5.41 20L4 18.59l7.72-7.72 1.47 1.35L5.41 20z\"/>\n",
              "  </svg>\n",
              "      </button>\n",
              "      \n",
              "  <style>\n",
              "    .colab-df-container {\n",
              "      display:flex;\n",
              "      flex-wrap:wrap;\n",
              "      gap: 12px;\n",
              "    }\n",
              "\n",
              "    .colab-df-convert {\n",
              "      background-color: #E8F0FE;\n",
              "      border: none;\n",
              "      border-radius: 50%;\n",
              "      cursor: pointer;\n",
              "      display: none;\n",
              "      fill: #1967D2;\n",
              "      height: 32px;\n",
              "      padding: 0 0 0 0;\n",
              "      width: 32px;\n",
              "    }\n",
              "\n",
              "    .colab-df-convert:hover {\n",
              "      background-color: #E2EBFA;\n",
              "      box-shadow: 0px 1px 2px rgba(60, 64, 67, 0.3), 0px 1px 3px 1px rgba(60, 64, 67, 0.15);\n",
              "      fill: #174EA6;\n",
              "    }\n",
              "\n",
              "    [theme=dark] .colab-df-convert {\n",
              "      background-color: #3B4455;\n",
              "      fill: #D2E3FC;\n",
              "    }\n",
              "\n",
              "    [theme=dark] .colab-df-convert:hover {\n",
              "      background-color: #434B5C;\n",
              "      box-shadow: 0px 1px 3px 1px rgba(0, 0, 0, 0.15);\n",
              "      filter: drop-shadow(0px 1px 2px rgba(0, 0, 0, 0.3));\n",
              "      fill: #FFFFFF;\n",
              "    }\n",
              "  </style>\n",
              "\n",
              "      <script>\n",
              "        const buttonEl =\n",
              "          document.querySelector('#df-dce25c46-5671-47c4-aaee-57279720fa8d button.colab-df-convert');\n",
              "        buttonEl.style.display =\n",
              "          google.colab.kernel.accessAllowed ? 'block' : 'none';\n",
              "\n",
              "        async function convertToInteractive(key) {\n",
              "          const element = document.querySelector('#df-dce25c46-5671-47c4-aaee-57279720fa8d');\n",
              "          const dataTable =\n",
              "            await google.colab.kernel.invokeFunction('convertToInteractive',\n",
              "                                                     [key], {});\n",
              "          if (!dataTable) return;\n",
              "\n",
              "          const docLinkHtml = 'Like what you see? Visit the ' +\n",
              "            '<a target=\"_blank\" href=https://colab.research.google.com/notebooks/data_table.ipynb>data table notebook</a>'\n",
              "            + ' to learn more about interactive tables.';\n",
              "          element.innerHTML = '';\n",
              "          dataTable['output_type'] = 'display_data';\n",
              "          await google.colab.output.renderOutput(dataTable, element);\n",
              "          const docLink = document.createElement('div');\n",
              "          docLink.innerHTML = docLinkHtml;\n",
              "          element.appendChild(docLink);\n",
              "        }\n",
              "      </script>\n",
              "    </div>\n",
              "  </div>\n",
              "  "
            ]
          },
          "metadata": {},
          "execution_count": 280
        }
      ]
    },
    {
      "cell_type": "markdown",
      "source": [
        "##Correlation"
      ],
      "metadata": {
        "id": "nLHnKjvvDHVs"
      }
    },
    {
      "cell_type": "code",
      "source": [
        "factors_df = pd.DataFrame(cc_df, \n",
        "                          columns=['Age', \n",
        "                                   'Number of sexual partners', \n",
        "                                   'First sexual intercourse',\n",
        "                                   'Num of pregnancies', \n",
        "                                   'Smokes', \n",
        "                                   'Smokes (years)', \n",
        "                                   'Smokes (packs/year)',\n",
        "                                   'Hormonal Contraceptives', \n",
        "                                   'Hormonal Contraceptives (years)', \n",
        "                                   'IUD',\n",
        "                                   'IUD (years)', \n",
        "                                   'STDs', \n",
        "                                   'STDs (number)', \n",
        "                                   'STDs:condylomatosis',\n",
        "                                   'STDs:cervical condylomatosis', \n",
        "                                   'STDs:vaginal condylomatosis',\n",
        "                                   'STDs:vulvo-perineal condylomatosis', \n",
        "                                   'STDs:syphilis',\n",
        "                                   'STDs:pelvic inflammatory disease', 'STDs:genital herpes',\n",
        "                                   'STDs:molluscum contagiosum', 'STDs:AIDS', 'STDs:HIV',\n",
        "                                   'STDs:Hepatitis B', \n",
        "                                   'STDs:HPV', \n",
        "                                   'STDs: Number of diagnosis'])"
      ],
      "metadata": {
        "id": "dy5r2sMIDvAn"
      },
      "execution_count": 281,
      "outputs": []
    },
    {
      "cell_type": "code",
      "source": [
        "factors_df.corr()"
      ],
      "metadata": {
        "colab": {
          "base_uri": "https://localhost:8080/",
          "height": 0
        },
        "id": "CaWaluJnGhEt",
        "outputId": "93b62f4e-7002-48c2-d004-c0b5749b3436"
      },
      "execution_count": 282,
      "outputs": [
        {
          "output_type": "execute_result",
          "data": {
            "text/plain": [
              "                                         Age  Number of sexual partners  \\\n",
              "Age                                 1.000000                   0.086533   \n",
              "Number of sexual partners           0.086533                   1.000000   \n",
              "First sexual intercourse            0.372709                  -0.150872   \n",
              "Num of pregnancies                  0.562229                   0.098446   \n",
              "Smokes                              0.055570                   0.233542   \n",
              "Smokes (years)                      0.225829                   0.157667   \n",
              "Smokes (packs/year)                 0.119631                   0.164829   \n",
              "Hormonal Contraceptives             0.087482                   0.010872   \n",
              "Hormonal Contraceptives (years)     0.292857                   0.027334   \n",
              "IUD                                 0.260514                   0.042537   \n",
              "IUD (years)                         0.206688                   0.008065   \n",
              "STDs                                0.006242                   0.024478   \n",
              "STDs (number)                      -0.018520                   0.003054   \n",
              "STDs:condylomatosis                -0.029120                  -0.013521   \n",
              "STDs:cervical condylomatosis             NaN                        NaN   \n",
              "STDs:vaginal condylomatosis         0.006542                  -0.048487   \n",
              "STDs:vulvo-perineal condylomatosis -0.026257                  -0.011577   \n",
              "STDs:syphilis                       0.009298                   0.031690   \n",
              "STDs:pelvic inflammatory disease    0.025463                   0.034869   \n",
              "STDs:genital herpes                -0.032256                  -0.036001   \n",
              "STDs:molluscum contagiosum         -0.001176                   0.034869   \n",
              "STDs:AIDS                                NaN                        NaN   \n",
              "STDs:HIV                           -0.001795                   0.034305   \n",
              "STDs:Hepatitis B                   -0.032256                  -0.012377   \n",
              "STDs:HPV                            0.042321                   0.015916   \n",
              "STDs: Number of diagnosis          -0.009647                   0.028022   \n",
              "\n",
              "                                    First sexual intercourse  \\\n",
              "Age                                                 0.372709   \n",
              "Number of sexual partners                          -0.150872   \n",
              "First sexual intercourse                            1.000000   \n",
              "Num of pregnancies                                 -0.070213   \n",
              "Smokes                                             -0.095313   \n",
              "Smokes (years)                                     -0.031433   \n",
              "Smokes (packs/year)                                -0.026922   \n",
              "Hormonal Contraceptives                             0.028351   \n",
              "Hormonal Contraceptives (years)                     0.003205   \n",
              "IUD                                                -0.046032   \n",
              "IUD (years)                                        -0.042287   \n",
              "STDs                                               -0.007522   \n",
              "STDs (number)                                       0.009743   \n",
              "STDs:condylomatosis                                 0.024659   \n",
              "STDs:cervical condylomatosis                             NaN   \n",
              "STDs:vaginal condylomatosis                         0.077829   \n",
              "STDs:vulvo-perineal condylomatosis                  0.029963   \n",
              "STDs:syphilis                                      -0.110380   \n",
              "STDs:pelvic inflammatory disease                   -0.001932   \n",
              "STDs:genital herpes                                 0.025241   \n",
              "STDs:molluscum contagiosum                         -0.015519   \n",
              "STDs:AIDS                                                NaN   \n",
              "STDs:HIV                                            0.004378   \n",
              "STDs:Hepatitis B                                    0.011654   \n",
              "STDs:HPV                                            0.035723   \n",
              "STDs: Number of diagnosis                          -0.020016   \n",
              "\n",
              "                                    Num of pregnancies    Smokes  \\\n",
              "Age                                           0.562229  0.055570   \n",
              "Number of sexual partners                     0.098446  0.233542   \n",
              "First sexual intercourse                     -0.070213 -0.095313   \n",
              "Num of pregnancies                            1.000000  0.087312   \n",
              "Smokes                                        0.087312  1.000000   \n",
              "Smokes (years)                                0.202741  0.719698   \n",
              "Smokes (packs/year)                           0.105120  0.479872   \n",
              "Hormonal Contraceptives                       0.155756  0.010725   \n",
              "Hormonal Contraceptives (years)               0.214918  0.044432   \n",
              "IUD                                           0.219399 -0.051074   \n",
              "IUD (years)                                   0.156386 -0.033530   \n",
              "STDs                                          0.034435  0.124675   \n",
              "STDs (number)                                 0.000200  0.116616   \n",
              "STDs:condylomatosis                          -0.031127  0.068705   \n",
              "STDs:cervical condylomatosis                       NaN       NaN   \n",
              "STDs:vaginal condylomatosis                  -0.003888  0.078830   \n",
              "STDs:vulvo-perineal condylomatosis           -0.030068  0.072313   \n",
              "STDs:syphilis                                 0.111444  0.110728   \n",
              "STDs:pelvic inflammatory disease             -0.061439 -0.015863   \n",
              "STDs:genital herpes                          -0.034995 -0.015863   \n",
              "STDs:molluscum contagiosum                    0.044338 -0.015863   \n",
              "STDs:AIDS                                          NaN       NaN   \n",
              "STDs:HIV                                      0.020697  0.034962   \n",
              "STDs:Hepatitis B                             -0.034995  0.094515   \n",
              "STDs:HPV                                     -0.030815  0.055657   \n",
              "STDs: Number of diagnosis                     0.036106  0.097559   \n",
              "\n",
              "                                    Smokes (years)  Smokes (packs/year)  \\\n",
              "Age                                       0.225829             0.119631   \n",
              "Number of sexual partners                 0.157667             0.164829   \n",
              "First sexual intercourse                 -0.031433            -0.026922   \n",
              "Num of pregnancies                        0.202741             0.105120   \n",
              "Smokes                                    0.719698             0.479872   \n",
              "Smokes (years)                            1.000000             0.719100   \n",
              "Smokes (packs/year)                       0.719100             1.000000   \n",
              "Hormonal Contraceptives                  -0.013412             0.001055   \n",
              "Hormonal Contraceptives (years)           0.036247             0.012486   \n",
              "IUD                                       0.039985             0.014682   \n",
              "IUD (years)                               0.046639             0.020436   \n",
              "STDs                                      0.082558             0.025540   \n",
              "STDs (number)                             0.091425             0.032321   \n",
              "STDs:condylomatosis                       0.049278             0.012565   \n",
              "STDs:cervical condylomatosis                   NaN                  NaN   \n",
              "STDs:vaginal condylomatosis               0.125290             0.044585   \n",
              "STDs:vulvo-perineal condylomatosis        0.051873             0.014031   \n",
              "STDs:syphilis                             0.024115             0.000558   \n",
              "STDs:pelvic inflammatory disease         -0.011416            -0.007612   \n",
              "STDs:genital herpes                      -0.011416            -0.007612   \n",
              "STDs:molluscum contagiosum               -0.011416            -0.007612   \n",
              "STDs:AIDS                                      NaN                  NaN   \n",
              "STDs:HIV                                  0.059320             0.039149   \n",
              "STDs:Hepatitis B                          0.108704             0.108487   \n",
              "STDs:HPV                                  0.055767            -0.008895   \n",
              "STDs: Number of diagnosis                 0.069037             0.025863   \n",
              "\n",
              "                                    Hormonal Contraceptives  \\\n",
              "Age                                                0.087482   \n",
              "Number of sexual partners                          0.010872   \n",
              "First sexual intercourse                           0.028351   \n",
              "Num of pregnancies                                 0.155756   \n",
              "Smokes                                             0.010725   \n",
              "Smokes (years)                                    -0.013412   \n",
              "Smokes (packs/year)                                0.001055   \n",
              "Hormonal Contraceptives                            1.000000   \n",
              "Hormonal Contraceptives (years)                    0.457789   \n",
              "IUD                                                0.046750   \n",
              "IUD (years)                                       -0.040411   \n",
              "STDs                                              -0.029968   \n",
              "STDs (number)                                     -0.036626   \n",
              "STDs:condylomatosis                               -0.011170   \n",
              "STDs:cervical condylomatosis                            NaN   \n",
              "STDs:vaginal condylomatosis                       -0.063809   \n",
              "STDs:vulvo-perineal condylomatosis                -0.016247   \n",
              "STDs:syphilis                                     -0.013834   \n",
              "STDs:pelvic inflammatory disease                   0.028807   \n",
              "STDs:genital herpes                                0.028807   \n",
              "STDs:molluscum contagiosum                        -0.052045   \n",
              "STDs:AIDS                                               NaN   \n",
              "STDs:HIV                                          -0.053591   \n",
              "STDs:Hepatitis B                                  -0.052045   \n",
              "STDs:HPV                                           0.040769   \n",
              "STDs: Number of diagnosis                         -0.039413   \n",
              "\n",
              "                                    Hormonal Contraceptives (years)       IUD  \\\n",
              "Age                                                        0.292857  0.260514   \n",
              "Number of sexual partners                                  0.027334  0.042537   \n",
              "First sexual intercourse                                   0.003205 -0.046032   \n",
              "Num of pregnancies                                         0.214918  0.219399   \n",
              "Smokes                                                     0.044432 -0.051074   \n",
              "Smokes (years)                                             0.036247  0.039985   \n",
              "Smokes (packs/year)                                        0.012486  0.014682   \n",
              "Hormonal Contraceptives                                    0.457789  0.046750   \n",
              "Hormonal Contraceptives (years)                            1.000000  0.099699   \n",
              "IUD                                                        0.099699  1.000000   \n",
              "IUD (years)                                               -0.010854  0.745261   \n",
              "STDs                                                      -0.002528  0.043232   \n",
              "STDs (number)                                             -0.011114  0.047683   \n",
              "STDs:condylomatosis                                        0.002213  0.079724   \n",
              "STDs:cervical condylomatosis                                    NaN       NaN   \n",
              "STDs:vaginal condylomatosis                               -0.042545  0.033859   \n",
              "STDs:vulvo-perineal condylomatosis                         0.004540  0.062118   \n",
              "STDs:syphilis                                             -0.000952 -0.053900   \n",
              "STDs:pelvic inflammatory disease                          -0.016023 -0.013770   \n",
              "STDs:genital herpes                                       -0.021225 -0.013770   \n",
              "STDs:molluscum contagiosum                                -0.023826 -0.013770   \n",
              "STDs:AIDS                                                       NaN       NaN   \n",
              "STDs:HIV                                                  -0.028451  0.018551   \n",
              "STDs:Hepatitis B                                          -0.023826 -0.013770   \n",
              "STDs:HPV                                                   0.054628 -0.019489   \n",
              "STDs: Number of diagnosis                                 -0.033713  0.031175   \n",
              "\n",
              "                                    ...  STDs:vulvo-perineal condylomatosis  \\\n",
              "Age                                 ...                           -0.026257   \n",
              "Number of sexual partners           ...                           -0.011577   \n",
              "First sexual intercourse            ...                            0.029963   \n",
              "Num of pregnancies                  ...                           -0.030068   \n",
              "Smokes                              ...                            0.072313   \n",
              "Smokes (years)                      ...                            0.051873   \n",
              "Smokes (packs/year)                 ...                            0.014031   \n",
              "Hormonal Contraceptives             ...                           -0.016247   \n",
              "Hormonal Contraceptives (years)     ...                            0.004540   \n",
              "IUD                                 ...                            0.062118   \n",
              "IUD (years)                         ...                            0.017401   \n",
              "STDs                                ...                            0.726934   \n",
              "STDs (number)                       ...                            0.891135   \n",
              "STDs:condylomatosis                 ...                            0.985613   \n",
              "STDs:cervical condylomatosis        ...                                 NaN   \n",
              "STDs:vaginal condylomatosis         ...                            0.239270   \n",
              "STDs:vulvo-perineal condylomatosis  ...                            1.000000   \n",
              "STDs:syphilis                       ...                            0.053321   \n",
              "STDs:pelvic inflammatory disease    ...                           -0.009241   \n",
              "STDs:genital herpes                 ...                           -0.009241   \n",
              "STDs:molluscum contagiosum          ...                           -0.009241   \n",
              "STDs:AIDS                           ...                                 NaN   \n",
              "STDs:HIV                            ...                            0.110354   \n",
              "STDs:Hepatitis B                    ...                           -0.009241   \n",
              "STDs:HPV                            ...                           -0.013079   \n",
              "STDs: Number of diagnosis           ...                            0.698161   \n",
              "\n",
              "                                    STDs:syphilis  \\\n",
              "Age                                      0.009298   \n",
              "Number of sexual partners                0.031690   \n",
              "First sexual intercourse                -0.110380   \n",
              "Num of pregnancies                       0.111444   \n",
              "Smokes                                   0.110728   \n",
              "Smokes (years)                           0.024115   \n",
              "Smokes (packs/year)                      0.000558   \n",
              "Hormonal Contraceptives                 -0.013834   \n",
              "Hormonal Contraceptives (years)         -0.000952   \n",
              "IUD                                     -0.053900   \n",
              "IUD (years)                             -0.040170   \n",
              "STDs                                     0.461627   \n",
              "STDs (number)                            0.321246   \n",
              "STDs:condylomatosis                      0.051646   \n",
              "STDs:cervical condylomatosis                  NaN   \n",
              "STDs:vaginal condylomatosis             -0.011763   \n",
              "STDs:vulvo-perineal condylomatosis       0.053321   \n",
              "STDs:syphilis                            1.000000   \n",
              "STDs:pelvic inflammatory disease        -0.005868   \n",
              "STDs:genital herpes                     -0.005868   \n",
              "STDs:molluscum contagiosum              -0.005868   \n",
              "STDs:AIDS                                     NaN   \n",
              "STDs:HIV                                 0.051792   \n",
              "STDs:Hepatitis B                        -0.005868   \n",
              "STDs:HPV                                -0.008306   \n",
              "STDs: Number of diagnosis                0.443355   \n",
              "\n",
              "                                    STDs:pelvic inflammatory disease  \\\n",
              "Age                                                         0.025463   \n",
              "Number of sexual partners                                   0.034869   \n",
              "First sexual intercourse                                   -0.001932   \n",
              "Num of pregnancies                                         -0.061439   \n",
              "Smokes                                                     -0.015863   \n",
              "Smokes (years)                                             -0.011416   \n",
              "Smokes (packs/year)                                        -0.007612   \n",
              "Hormonal Contraceptives                                     0.028807   \n",
              "Hormonal Contraceptives (years)                            -0.016023   \n",
              "IUD                                                        -0.013770   \n",
              "IUD (years)                                                -0.010262   \n",
              "STDs                                                        0.117934   \n",
              "STDs (number)                                               0.058632   \n",
              "STDs:condylomatosis                                        -0.009376   \n",
              "STDs:cervical condylomatosis                                     NaN   \n",
              "STDs:vaginal condylomatosis                                -0.003005   \n",
              "STDs:vulvo-perineal condylomatosis                         -0.009241   \n",
              "STDs:syphilis                                              -0.005868   \n",
              "STDs:pelvic inflammatory disease                            1.000000   \n",
              "STDs:genital herpes                                        -0.001499   \n",
              "STDs:molluscum contagiosum                                 -0.001499   \n",
              "STDs:AIDS                                                        NaN   \n",
              "STDs:HIV                                                   -0.005455   \n",
              "STDs:Hepatitis B                                           -0.001499   \n",
              "STDs:HPV                                                   -0.002122   \n",
              "STDs: Number of diagnosis                                   0.113266   \n",
              "\n",
              "                                    STDs:genital herpes  \\\n",
              "Age                                           -0.032256   \n",
              "Number of sexual partners                     -0.036001   \n",
              "First sexual intercourse                       0.025241   \n",
              "Num of pregnancies                            -0.034995   \n",
              "Smokes                                        -0.015863   \n",
              "Smokes (years)                                -0.011416   \n",
              "Smokes (packs/year)                           -0.007612   \n",
              "Hormonal Contraceptives                        0.028807   \n",
              "Hormonal Contraceptives (years)               -0.021225   \n",
              "IUD                                           -0.013770   \n",
              "IUD (years)                                   -0.010262   \n",
              "STDs                                           0.117934   \n",
              "STDs (number)                                  0.058632   \n",
              "STDs:condylomatosis                           -0.009376   \n",
              "STDs:cervical condylomatosis                        NaN   \n",
              "STDs:vaginal condylomatosis                   -0.003005   \n",
              "STDs:vulvo-perineal condylomatosis            -0.009241   \n",
              "STDs:syphilis                                 -0.005868   \n",
              "STDs:pelvic inflammatory disease              -0.001499   \n",
              "STDs:genital herpes                            1.000000   \n",
              "STDs:molluscum contagiosum                    -0.001499   \n",
              "STDs:AIDS                                           NaN   \n",
              "STDs:HIV                                      -0.005455   \n",
              "STDs:Hepatitis B                              -0.001499   \n",
              "STDs:HPV                                      -0.002122   \n",
              "STDs: Number of diagnosis                      0.113266   \n",
              "\n",
              "                                    STDs:molluscum contagiosum  STDs:AIDS  \\\n",
              "Age                                                  -0.001176        NaN   \n",
              "Number of sexual partners                             0.034869        NaN   \n",
              "First sexual intercourse                             -0.015519        NaN   \n",
              "Num of pregnancies                                    0.044338        NaN   \n",
              "Smokes                                               -0.015863        NaN   \n",
              "Smokes (years)                                       -0.011416        NaN   \n",
              "Smokes (packs/year)                                  -0.007612        NaN   \n",
              "Hormonal Contraceptives                              -0.052045        NaN   \n",
              "Hormonal Contraceptives (years)                      -0.023826        NaN   \n",
              "IUD                                                  -0.013770        NaN   \n",
              "IUD (years)                                          -0.010262        NaN   \n",
              "STDs                                                  0.117934        NaN   \n",
              "STDs (number)                                         0.058632        NaN   \n",
              "STDs:condylomatosis                                  -0.009376        NaN   \n",
              "STDs:cervical condylomatosis                               NaN        NaN   \n",
              "STDs:vaginal condylomatosis                          -0.003005        NaN   \n",
              "STDs:vulvo-perineal condylomatosis                   -0.009241        NaN   \n",
              "STDs:syphilis                                        -0.005868        NaN   \n",
              "STDs:pelvic inflammatory disease                     -0.001499        NaN   \n",
              "STDs:genital herpes                                  -0.001499        NaN   \n",
              "STDs:molluscum contagiosum                            1.000000        NaN   \n",
              "STDs:AIDS                                                  NaN        NaN   \n",
              "STDs:HIV                                             -0.005455        NaN   \n",
              "STDs:Hepatitis B                                     -0.001499        NaN   \n",
              "STDs:HPV                                             -0.002122        NaN   \n",
              "STDs: Number of diagnosis                             0.113266        NaN   \n",
              "\n",
              "                                    STDs:HIV  STDs:Hepatitis B  STDs:HPV  \\\n",
              "Age                                -0.001795         -0.032256  0.042321   \n",
              "Number of sexual partners           0.034305         -0.012377  0.015916   \n",
              "First sexual intercourse            0.004378          0.011654  0.035723   \n",
              "Num of pregnancies                  0.020697         -0.034995 -0.030815   \n",
              "Smokes                              0.034962          0.094515  0.055657   \n",
              "Smokes (years)                      0.059320          0.108704  0.055767   \n",
              "Smokes (packs/year)                 0.039149          0.108487 -0.008895   \n",
              "Hormonal Contraceptives            -0.053591         -0.052045  0.040769   \n",
              "Hormonal Contraceptives (years)    -0.028451         -0.023826  0.054628   \n",
              "IUD                                 0.018551         -0.013770 -0.019489   \n",
              "IUD (years)                         0.027689         -0.010262 -0.014524   \n",
              "STDs                                0.429095          0.117934  0.166909   \n",
              "STDs (number)                       0.370767          0.128948  0.082980   \n",
              "STDs:condylomatosis                 0.108017         -0.009376 -0.013270   \n",
              "STDs:cervical condylomatosis             NaN               NaN       NaN   \n",
              "STDs:vaginal condylomatosis        -0.010934         -0.003005 -0.004253   \n",
              "STDs:vulvo-perineal condylomatosis  0.110354         -0.009241 -0.013079   \n",
              "STDs:syphilis                       0.051792         -0.005868 -0.008306   \n",
              "STDs:pelvic inflammatory disease   -0.005455         -0.001499 -0.002122   \n",
              "STDs:genital herpes                -0.005455         -0.001499 -0.002122   \n",
              "STDs:molluscum contagiosum         -0.005455         -0.001499 -0.002122   \n",
              "STDs:AIDS                                NaN               NaN       NaN   \n",
              "STDs:HIV                            1.000000          0.274844 -0.007720   \n",
              "STDs:Hepatitis B                    0.274844          1.000000 -0.002122   \n",
              "STDs:HPV                           -0.007720         -0.002122  1.000000   \n",
              "STDs: Number of diagnosis           0.516943          0.113266  0.071951   \n",
              "\n",
              "                                    STDs: Number of diagnosis  \n",
              "Age                                                 -0.009647  \n",
              "Number of sexual partners                            0.028022  \n",
              "First sexual intercourse                            -0.020016  \n",
              "Num of pregnancies                                   0.036106  \n",
              "Smokes                                               0.097559  \n",
              "Smokes (years)                                       0.069037  \n",
              "Smokes (packs/year)                                  0.025863  \n",
              "Hormonal Contraceptives                             -0.039413  \n",
              "Hormonal Contraceptives (years)                     -0.033713  \n",
              "IUD                                                  0.031175  \n",
              "IUD (years)                                          0.010182  \n",
              "STDs                                                 0.911557  \n",
              "STDs (number)                                        0.900258  \n",
              "STDs:condylomatosis                                  0.708352  \n",
              "STDs:cervical condylomatosis                              NaN  \n",
              "STDs:vaginal condylomatosis                          0.227043  \n",
              "STDs:vulvo-perineal condylomatosis                   0.698161  \n",
              "STDs:syphilis                                        0.443355  \n",
              "STDs:pelvic inflammatory disease                     0.113266  \n",
              "STDs:genital herpes                                  0.113266  \n",
              "STDs:molluscum contagiosum                           0.113266  \n",
              "STDs:AIDS                                                 NaN  \n",
              "STDs:HIV                                             0.516943  \n",
              "STDs:Hepatitis B                                     0.113266  \n",
              "STDs:HPV                                             0.071951  \n",
              "STDs: Number of diagnosis                            1.000000  \n",
              "\n",
              "[26 rows x 26 columns]"
            ],
            "text/html": [
              "\n",
              "  <div id=\"df-c23f620e-fa93-4026-9c26-343f23261dbe\">\n",
              "    <div class=\"colab-df-container\">\n",
              "      <div>\n",
              "<style scoped>\n",
              "    .dataframe tbody tr th:only-of-type {\n",
              "        vertical-align: middle;\n",
              "    }\n",
              "\n",
              "    .dataframe tbody tr th {\n",
              "        vertical-align: top;\n",
              "    }\n",
              "\n",
              "    .dataframe thead th {\n",
              "        text-align: right;\n",
              "    }\n",
              "</style>\n",
              "<table border=\"1\" class=\"dataframe\">\n",
              "  <thead>\n",
              "    <tr style=\"text-align: right;\">\n",
              "      <th></th>\n",
              "      <th>Age</th>\n",
              "      <th>Number of sexual partners</th>\n",
              "      <th>First sexual intercourse</th>\n",
              "      <th>Num of pregnancies</th>\n",
              "      <th>Smokes</th>\n",
              "      <th>Smokes (years)</th>\n",
              "      <th>Smokes (packs/year)</th>\n",
              "      <th>Hormonal Contraceptives</th>\n",
              "      <th>Hormonal Contraceptives (years)</th>\n",
              "      <th>IUD</th>\n",
              "      <th>...</th>\n",
              "      <th>STDs:vulvo-perineal condylomatosis</th>\n",
              "      <th>STDs:syphilis</th>\n",
              "      <th>STDs:pelvic inflammatory disease</th>\n",
              "      <th>STDs:genital herpes</th>\n",
              "      <th>STDs:molluscum contagiosum</th>\n",
              "      <th>STDs:AIDS</th>\n",
              "      <th>STDs:HIV</th>\n",
              "      <th>STDs:Hepatitis B</th>\n",
              "      <th>STDs:HPV</th>\n",
              "      <th>STDs: Number of diagnosis</th>\n",
              "    </tr>\n",
              "  </thead>\n",
              "  <tbody>\n",
              "    <tr>\n",
              "      <th>Age</th>\n",
              "      <td>1.000000</td>\n",
              "      <td>0.086533</td>\n",
              "      <td>0.372709</td>\n",
              "      <td>0.562229</td>\n",
              "      <td>0.055570</td>\n",
              "      <td>0.225829</td>\n",
              "      <td>0.119631</td>\n",
              "      <td>0.087482</td>\n",
              "      <td>0.292857</td>\n",
              "      <td>0.260514</td>\n",
              "      <td>...</td>\n",
              "      <td>-0.026257</td>\n",
              "      <td>0.009298</td>\n",
              "      <td>0.025463</td>\n",
              "      <td>-0.032256</td>\n",
              "      <td>-0.001176</td>\n",
              "      <td>NaN</td>\n",
              "      <td>-0.001795</td>\n",
              "      <td>-0.032256</td>\n",
              "      <td>0.042321</td>\n",
              "      <td>-0.009647</td>\n",
              "    </tr>\n",
              "    <tr>\n",
              "      <th>Number of sexual partners</th>\n",
              "      <td>0.086533</td>\n",
              "      <td>1.000000</td>\n",
              "      <td>-0.150872</td>\n",
              "      <td>0.098446</td>\n",
              "      <td>0.233542</td>\n",
              "      <td>0.157667</td>\n",
              "      <td>0.164829</td>\n",
              "      <td>0.010872</td>\n",
              "      <td>0.027334</td>\n",
              "      <td>0.042537</td>\n",
              "      <td>...</td>\n",
              "      <td>-0.011577</td>\n",
              "      <td>0.031690</td>\n",
              "      <td>0.034869</td>\n",
              "      <td>-0.036001</td>\n",
              "      <td>0.034869</td>\n",
              "      <td>NaN</td>\n",
              "      <td>0.034305</td>\n",
              "      <td>-0.012377</td>\n",
              "      <td>0.015916</td>\n",
              "      <td>0.028022</td>\n",
              "    </tr>\n",
              "    <tr>\n",
              "      <th>First sexual intercourse</th>\n",
              "      <td>0.372709</td>\n",
              "      <td>-0.150872</td>\n",
              "      <td>1.000000</td>\n",
              "      <td>-0.070213</td>\n",
              "      <td>-0.095313</td>\n",
              "      <td>-0.031433</td>\n",
              "      <td>-0.026922</td>\n",
              "      <td>0.028351</td>\n",
              "      <td>0.003205</td>\n",
              "      <td>-0.046032</td>\n",
              "      <td>...</td>\n",
              "      <td>0.029963</td>\n",
              "      <td>-0.110380</td>\n",
              "      <td>-0.001932</td>\n",
              "      <td>0.025241</td>\n",
              "      <td>-0.015519</td>\n",
              "      <td>NaN</td>\n",
              "      <td>0.004378</td>\n",
              "      <td>0.011654</td>\n",
              "      <td>0.035723</td>\n",
              "      <td>-0.020016</td>\n",
              "    </tr>\n",
              "    <tr>\n",
              "      <th>Num of pregnancies</th>\n",
              "      <td>0.562229</td>\n",
              "      <td>0.098446</td>\n",
              "      <td>-0.070213</td>\n",
              "      <td>1.000000</td>\n",
              "      <td>0.087312</td>\n",
              "      <td>0.202741</td>\n",
              "      <td>0.105120</td>\n",
              "      <td>0.155756</td>\n",
              "      <td>0.214918</td>\n",
              "      <td>0.219399</td>\n",
              "      <td>...</td>\n",
              "      <td>-0.030068</td>\n",
              "      <td>0.111444</td>\n",
              "      <td>-0.061439</td>\n",
              "      <td>-0.034995</td>\n",
              "      <td>0.044338</td>\n",
              "      <td>NaN</td>\n",
              "      <td>0.020697</td>\n",
              "      <td>-0.034995</td>\n",
              "      <td>-0.030815</td>\n",
              "      <td>0.036106</td>\n",
              "    </tr>\n",
              "    <tr>\n",
              "      <th>Smokes</th>\n",
              "      <td>0.055570</td>\n",
              "      <td>0.233542</td>\n",
              "      <td>-0.095313</td>\n",
              "      <td>0.087312</td>\n",
              "      <td>1.000000</td>\n",
              "      <td>0.719698</td>\n",
              "      <td>0.479872</td>\n",
              "      <td>0.010725</td>\n",
              "      <td>0.044432</td>\n",
              "      <td>-0.051074</td>\n",
              "      <td>...</td>\n",
              "      <td>0.072313</td>\n",
              "      <td>0.110728</td>\n",
              "      <td>-0.015863</td>\n",
              "      <td>-0.015863</td>\n",
              "      <td>-0.015863</td>\n",
              "      <td>NaN</td>\n",
              "      <td>0.034962</td>\n",
              "      <td>0.094515</td>\n",
              "      <td>0.055657</td>\n",
              "      <td>0.097559</td>\n",
              "    </tr>\n",
              "    <tr>\n",
              "      <th>Smokes (years)</th>\n",
              "      <td>0.225829</td>\n",
              "      <td>0.157667</td>\n",
              "      <td>-0.031433</td>\n",
              "      <td>0.202741</td>\n",
              "      <td>0.719698</td>\n",
              "      <td>1.000000</td>\n",
              "      <td>0.719100</td>\n",
              "      <td>-0.013412</td>\n",
              "      <td>0.036247</td>\n",
              "      <td>0.039985</td>\n",
              "      <td>...</td>\n",
              "      <td>0.051873</td>\n",
              "      <td>0.024115</td>\n",
              "      <td>-0.011416</td>\n",
              "      <td>-0.011416</td>\n",
              "      <td>-0.011416</td>\n",
              "      <td>NaN</td>\n",
              "      <td>0.059320</td>\n",
              "      <td>0.108704</td>\n",
              "      <td>0.055767</td>\n",
              "      <td>0.069037</td>\n",
              "    </tr>\n",
              "    <tr>\n",
              "      <th>Smokes (packs/year)</th>\n",
              "      <td>0.119631</td>\n",
              "      <td>0.164829</td>\n",
              "      <td>-0.026922</td>\n",
              "      <td>0.105120</td>\n",
              "      <td>0.479872</td>\n",
              "      <td>0.719100</td>\n",
              "      <td>1.000000</td>\n",
              "      <td>0.001055</td>\n",
              "      <td>0.012486</td>\n",
              "      <td>0.014682</td>\n",
              "      <td>...</td>\n",
              "      <td>0.014031</td>\n",
              "      <td>0.000558</td>\n",
              "      <td>-0.007612</td>\n",
              "      <td>-0.007612</td>\n",
              "      <td>-0.007612</td>\n",
              "      <td>NaN</td>\n",
              "      <td>0.039149</td>\n",
              "      <td>0.108487</td>\n",
              "      <td>-0.008895</td>\n",
              "      <td>0.025863</td>\n",
              "    </tr>\n",
              "    <tr>\n",
              "      <th>Hormonal Contraceptives</th>\n",
              "      <td>0.087482</td>\n",
              "      <td>0.010872</td>\n",
              "      <td>0.028351</td>\n",
              "      <td>0.155756</td>\n",
              "      <td>0.010725</td>\n",
              "      <td>-0.013412</td>\n",
              "      <td>0.001055</td>\n",
              "      <td>1.000000</td>\n",
              "      <td>0.457789</td>\n",
              "      <td>0.046750</td>\n",
              "      <td>...</td>\n",
              "      <td>-0.016247</td>\n",
              "      <td>-0.013834</td>\n",
              "      <td>0.028807</td>\n",
              "      <td>0.028807</td>\n",
              "      <td>-0.052045</td>\n",
              "      <td>NaN</td>\n",
              "      <td>-0.053591</td>\n",
              "      <td>-0.052045</td>\n",
              "      <td>0.040769</td>\n",
              "      <td>-0.039413</td>\n",
              "    </tr>\n",
              "    <tr>\n",
              "      <th>Hormonal Contraceptives (years)</th>\n",
              "      <td>0.292857</td>\n",
              "      <td>0.027334</td>\n",
              "      <td>0.003205</td>\n",
              "      <td>0.214918</td>\n",
              "      <td>0.044432</td>\n",
              "      <td>0.036247</td>\n",
              "      <td>0.012486</td>\n",
              "      <td>0.457789</td>\n",
              "      <td>1.000000</td>\n",
              "      <td>0.099699</td>\n",
              "      <td>...</td>\n",
              "      <td>0.004540</td>\n",
              "      <td>-0.000952</td>\n",
              "      <td>-0.016023</td>\n",
              "      <td>-0.021225</td>\n",
              "      <td>-0.023826</td>\n",
              "      <td>NaN</td>\n",
              "      <td>-0.028451</td>\n",
              "      <td>-0.023826</td>\n",
              "      <td>0.054628</td>\n",
              "      <td>-0.033713</td>\n",
              "    </tr>\n",
              "    <tr>\n",
              "      <th>IUD</th>\n",
              "      <td>0.260514</td>\n",
              "      <td>0.042537</td>\n",
              "      <td>-0.046032</td>\n",
              "      <td>0.219399</td>\n",
              "      <td>-0.051074</td>\n",
              "      <td>0.039985</td>\n",
              "      <td>0.014682</td>\n",
              "      <td>0.046750</td>\n",
              "      <td>0.099699</td>\n",
              "      <td>1.000000</td>\n",
              "      <td>...</td>\n",
              "      <td>0.062118</td>\n",
              "      <td>-0.053900</td>\n",
              "      <td>-0.013770</td>\n",
              "      <td>-0.013770</td>\n",
              "      <td>-0.013770</td>\n",
              "      <td>NaN</td>\n",
              "      <td>0.018551</td>\n",
              "      <td>-0.013770</td>\n",
              "      <td>-0.019489</td>\n",
              "      <td>0.031175</td>\n",
              "    </tr>\n",
              "    <tr>\n",
              "      <th>IUD (years)</th>\n",
              "      <td>0.206688</td>\n",
              "      <td>0.008065</td>\n",
              "      <td>-0.042287</td>\n",
              "      <td>0.156386</td>\n",
              "      <td>-0.033530</td>\n",
              "      <td>0.046639</td>\n",
              "      <td>0.020436</td>\n",
              "      <td>-0.040411</td>\n",
              "      <td>-0.010854</td>\n",
              "      <td>0.745261</td>\n",
              "      <td>...</td>\n",
              "      <td>0.017401</td>\n",
              "      <td>-0.040170</td>\n",
              "      <td>-0.010262</td>\n",
              "      <td>-0.010262</td>\n",
              "      <td>-0.010262</td>\n",
              "      <td>NaN</td>\n",
              "      <td>0.027689</td>\n",
              "      <td>-0.010262</td>\n",
              "      <td>-0.014524</td>\n",
              "      <td>0.010182</td>\n",
              "    </tr>\n",
              "    <tr>\n",
              "      <th>STDs</th>\n",
              "      <td>0.006242</td>\n",
              "      <td>0.024478</td>\n",
              "      <td>-0.007522</td>\n",
              "      <td>0.034435</td>\n",
              "      <td>0.124675</td>\n",
              "      <td>0.082558</td>\n",
              "      <td>0.025540</td>\n",
              "      <td>-0.029968</td>\n",
              "      <td>-0.002528</td>\n",
              "      <td>0.043232</td>\n",
              "      <td>...</td>\n",
              "      <td>0.726934</td>\n",
              "      <td>0.461627</td>\n",
              "      <td>0.117934</td>\n",
              "      <td>0.117934</td>\n",
              "      <td>0.117934</td>\n",
              "      <td>NaN</td>\n",
              "      <td>0.429095</td>\n",
              "      <td>0.117934</td>\n",
              "      <td>0.166909</td>\n",
              "      <td>0.911557</td>\n",
              "    </tr>\n",
              "    <tr>\n",
              "      <th>STDs (number)</th>\n",
              "      <td>-0.018520</td>\n",
              "      <td>0.003054</td>\n",
              "      <td>0.009743</td>\n",
              "      <td>0.000200</td>\n",
              "      <td>0.116616</td>\n",
              "      <td>0.091425</td>\n",
              "      <td>0.032321</td>\n",
              "      <td>-0.036626</td>\n",
              "      <td>-0.011114</td>\n",
              "      <td>0.047683</td>\n",
              "      <td>...</td>\n",
              "      <td>0.891135</td>\n",
              "      <td>0.321246</td>\n",
              "      <td>0.058632</td>\n",
              "      <td>0.058632</td>\n",
              "      <td>0.058632</td>\n",
              "      <td>NaN</td>\n",
              "      <td>0.370767</td>\n",
              "      <td>0.128948</td>\n",
              "      <td>0.082980</td>\n",
              "      <td>0.900258</td>\n",
              "    </tr>\n",
              "    <tr>\n",
              "      <th>STDs:condylomatosis</th>\n",
              "      <td>-0.029120</td>\n",
              "      <td>-0.013521</td>\n",
              "      <td>0.024659</td>\n",
              "      <td>-0.031127</td>\n",
              "      <td>0.068705</td>\n",
              "      <td>0.049278</td>\n",
              "      <td>0.012565</td>\n",
              "      <td>-0.011170</td>\n",
              "      <td>0.002213</td>\n",
              "      <td>0.079724</td>\n",
              "      <td>...</td>\n",
              "      <td>0.985613</td>\n",
              "      <td>0.051646</td>\n",
              "      <td>-0.009376</td>\n",
              "      <td>-0.009376</td>\n",
              "      <td>-0.009376</td>\n",
              "      <td>NaN</td>\n",
              "      <td>0.108017</td>\n",
              "      <td>-0.009376</td>\n",
              "      <td>-0.013270</td>\n",
              "      <td>0.708352</td>\n",
              "    </tr>\n",
              "    <tr>\n",
              "      <th>STDs:cervical condylomatosis</th>\n",
              "      <td>NaN</td>\n",
              "      <td>NaN</td>\n",
              "      <td>NaN</td>\n",
              "      <td>NaN</td>\n",
              "      <td>NaN</td>\n",
              "      <td>NaN</td>\n",
              "      <td>NaN</td>\n",
              "      <td>NaN</td>\n",
              "      <td>NaN</td>\n",
              "      <td>NaN</td>\n",
              "      <td>...</td>\n",
              "      <td>NaN</td>\n",
              "      <td>NaN</td>\n",
              "      <td>NaN</td>\n",
              "      <td>NaN</td>\n",
              "      <td>NaN</td>\n",
              "      <td>NaN</td>\n",
              "      <td>NaN</td>\n",
              "      <td>NaN</td>\n",
              "      <td>NaN</td>\n",
              "      <td>NaN</td>\n",
              "    </tr>\n",
              "    <tr>\n",
              "      <th>STDs:vaginal condylomatosis</th>\n",
              "      <td>0.006542</td>\n",
              "      <td>-0.048487</td>\n",
              "      <td>0.077829</td>\n",
              "      <td>-0.003888</td>\n",
              "      <td>0.078830</td>\n",
              "      <td>0.125290</td>\n",
              "      <td>0.044585</td>\n",
              "      <td>-0.063809</td>\n",
              "      <td>-0.042545</td>\n",
              "      <td>0.033859</td>\n",
              "      <td>...</td>\n",
              "      <td>0.239270</td>\n",
              "      <td>-0.011763</td>\n",
              "      <td>-0.003005</td>\n",
              "      <td>-0.003005</td>\n",
              "      <td>-0.003005</td>\n",
              "      <td>NaN</td>\n",
              "      <td>-0.010934</td>\n",
              "      <td>-0.003005</td>\n",
              "      <td>-0.004253</td>\n",
              "      <td>0.227043</td>\n",
              "    </tr>\n",
              "    <tr>\n",
              "      <th>STDs:vulvo-perineal condylomatosis</th>\n",
              "      <td>-0.026257</td>\n",
              "      <td>-0.011577</td>\n",
              "      <td>0.029963</td>\n",
              "      <td>-0.030068</td>\n",
              "      <td>0.072313</td>\n",
              "      <td>0.051873</td>\n",
              "      <td>0.014031</td>\n",
              "      <td>-0.016247</td>\n",
              "      <td>0.004540</td>\n",
              "      <td>0.062118</td>\n",
              "      <td>...</td>\n",
              "      <td>1.000000</td>\n",
              "      <td>0.053321</td>\n",
              "      <td>-0.009241</td>\n",
              "      <td>-0.009241</td>\n",
              "      <td>-0.009241</td>\n",
              "      <td>NaN</td>\n",
              "      <td>0.110354</td>\n",
              "      <td>-0.009241</td>\n",
              "      <td>-0.013079</td>\n",
              "      <td>0.698161</td>\n",
              "    </tr>\n",
              "    <tr>\n",
              "      <th>STDs:syphilis</th>\n",
              "      <td>0.009298</td>\n",
              "      <td>0.031690</td>\n",
              "      <td>-0.110380</td>\n",
              "      <td>0.111444</td>\n",
              "      <td>0.110728</td>\n",
              "      <td>0.024115</td>\n",
              "      <td>0.000558</td>\n",
              "      <td>-0.013834</td>\n",
              "      <td>-0.000952</td>\n",
              "      <td>-0.053900</td>\n",
              "      <td>...</td>\n",
              "      <td>0.053321</td>\n",
              "      <td>1.000000</td>\n",
              "      <td>-0.005868</td>\n",
              "      <td>-0.005868</td>\n",
              "      <td>-0.005868</td>\n",
              "      <td>NaN</td>\n",
              "      <td>0.051792</td>\n",
              "      <td>-0.005868</td>\n",
              "      <td>-0.008306</td>\n",
              "      <td>0.443355</td>\n",
              "    </tr>\n",
              "    <tr>\n",
              "      <th>STDs:pelvic inflammatory disease</th>\n",
              "      <td>0.025463</td>\n",
              "      <td>0.034869</td>\n",
              "      <td>-0.001932</td>\n",
              "      <td>-0.061439</td>\n",
              "      <td>-0.015863</td>\n",
              "      <td>-0.011416</td>\n",
              "      <td>-0.007612</td>\n",
              "      <td>0.028807</td>\n",
              "      <td>-0.016023</td>\n",
              "      <td>-0.013770</td>\n",
              "      <td>...</td>\n",
              "      <td>-0.009241</td>\n",
              "      <td>-0.005868</td>\n",
              "      <td>1.000000</td>\n",
              "      <td>-0.001499</td>\n",
              "      <td>-0.001499</td>\n",
              "      <td>NaN</td>\n",
              "      <td>-0.005455</td>\n",
              "      <td>-0.001499</td>\n",
              "      <td>-0.002122</td>\n",
              "      <td>0.113266</td>\n",
              "    </tr>\n",
              "    <tr>\n",
              "      <th>STDs:genital herpes</th>\n",
              "      <td>-0.032256</td>\n",
              "      <td>-0.036001</td>\n",
              "      <td>0.025241</td>\n",
              "      <td>-0.034995</td>\n",
              "      <td>-0.015863</td>\n",
              "      <td>-0.011416</td>\n",
              "      <td>-0.007612</td>\n",
              "      <td>0.028807</td>\n",
              "      <td>-0.021225</td>\n",
              "      <td>-0.013770</td>\n",
              "      <td>...</td>\n",
              "      <td>-0.009241</td>\n",
              "      <td>-0.005868</td>\n",
              "      <td>-0.001499</td>\n",
              "      <td>1.000000</td>\n",
              "      <td>-0.001499</td>\n",
              "      <td>NaN</td>\n",
              "      <td>-0.005455</td>\n",
              "      <td>-0.001499</td>\n",
              "      <td>-0.002122</td>\n",
              "      <td>0.113266</td>\n",
              "    </tr>\n",
              "    <tr>\n",
              "      <th>STDs:molluscum contagiosum</th>\n",
              "      <td>-0.001176</td>\n",
              "      <td>0.034869</td>\n",
              "      <td>-0.015519</td>\n",
              "      <td>0.044338</td>\n",
              "      <td>-0.015863</td>\n",
              "      <td>-0.011416</td>\n",
              "      <td>-0.007612</td>\n",
              "      <td>-0.052045</td>\n",
              "      <td>-0.023826</td>\n",
              "      <td>-0.013770</td>\n",
              "      <td>...</td>\n",
              "      <td>-0.009241</td>\n",
              "      <td>-0.005868</td>\n",
              "      <td>-0.001499</td>\n",
              "      <td>-0.001499</td>\n",
              "      <td>1.000000</td>\n",
              "      <td>NaN</td>\n",
              "      <td>-0.005455</td>\n",
              "      <td>-0.001499</td>\n",
              "      <td>-0.002122</td>\n",
              "      <td>0.113266</td>\n",
              "    </tr>\n",
              "    <tr>\n",
              "      <th>STDs:AIDS</th>\n",
              "      <td>NaN</td>\n",
              "      <td>NaN</td>\n",
              "      <td>NaN</td>\n",
              "      <td>NaN</td>\n",
              "      <td>NaN</td>\n",
              "      <td>NaN</td>\n",
              "      <td>NaN</td>\n",
              "      <td>NaN</td>\n",
              "      <td>NaN</td>\n",
              "      <td>NaN</td>\n",
              "      <td>...</td>\n",
              "      <td>NaN</td>\n",
              "      <td>NaN</td>\n",
              "      <td>NaN</td>\n",
              "      <td>NaN</td>\n",
              "      <td>NaN</td>\n",
              "      <td>NaN</td>\n",
              "      <td>NaN</td>\n",
              "      <td>NaN</td>\n",
              "      <td>NaN</td>\n",
              "      <td>NaN</td>\n",
              "    </tr>\n",
              "    <tr>\n",
              "      <th>STDs:HIV</th>\n",
              "      <td>-0.001795</td>\n",
              "      <td>0.034305</td>\n",
              "      <td>0.004378</td>\n",
              "      <td>0.020697</td>\n",
              "      <td>0.034962</td>\n",
              "      <td>0.059320</td>\n",
              "      <td>0.039149</td>\n",
              "      <td>-0.053591</td>\n",
              "      <td>-0.028451</td>\n",
              "      <td>0.018551</td>\n",
              "      <td>...</td>\n",
              "      <td>0.110354</td>\n",
              "      <td>0.051792</td>\n",
              "      <td>-0.005455</td>\n",
              "      <td>-0.005455</td>\n",
              "      <td>-0.005455</td>\n",
              "      <td>NaN</td>\n",
              "      <td>1.000000</td>\n",
              "      <td>0.274844</td>\n",
              "      <td>-0.007720</td>\n",
              "      <td>0.516943</td>\n",
              "    </tr>\n",
              "    <tr>\n",
              "      <th>STDs:Hepatitis B</th>\n",
              "      <td>-0.032256</td>\n",
              "      <td>-0.012377</td>\n",
              "      <td>0.011654</td>\n",
              "      <td>-0.034995</td>\n",
              "      <td>0.094515</td>\n",
              "      <td>0.108704</td>\n",
              "      <td>0.108487</td>\n",
              "      <td>-0.052045</td>\n",
              "      <td>-0.023826</td>\n",
              "      <td>-0.013770</td>\n",
              "      <td>...</td>\n",
              "      <td>-0.009241</td>\n",
              "      <td>-0.005868</td>\n",
              "      <td>-0.001499</td>\n",
              "      <td>-0.001499</td>\n",
              "      <td>-0.001499</td>\n",
              "      <td>NaN</td>\n",
              "      <td>0.274844</td>\n",
              "      <td>1.000000</td>\n",
              "      <td>-0.002122</td>\n",
              "      <td>0.113266</td>\n",
              "    </tr>\n",
              "    <tr>\n",
              "      <th>STDs:HPV</th>\n",
              "      <td>0.042321</td>\n",
              "      <td>0.015916</td>\n",
              "      <td>0.035723</td>\n",
              "      <td>-0.030815</td>\n",
              "      <td>0.055657</td>\n",
              "      <td>0.055767</td>\n",
              "      <td>-0.008895</td>\n",
              "      <td>0.040769</td>\n",
              "      <td>0.054628</td>\n",
              "      <td>-0.019489</td>\n",
              "      <td>...</td>\n",
              "      <td>-0.013079</td>\n",
              "      <td>-0.008306</td>\n",
              "      <td>-0.002122</td>\n",
              "      <td>-0.002122</td>\n",
              "      <td>-0.002122</td>\n",
              "      <td>NaN</td>\n",
              "      <td>-0.007720</td>\n",
              "      <td>-0.002122</td>\n",
              "      <td>1.000000</td>\n",
              "      <td>0.071951</td>\n",
              "    </tr>\n",
              "    <tr>\n",
              "      <th>STDs: Number of diagnosis</th>\n",
              "      <td>-0.009647</td>\n",
              "      <td>0.028022</td>\n",
              "      <td>-0.020016</td>\n",
              "      <td>0.036106</td>\n",
              "      <td>0.097559</td>\n",
              "      <td>0.069037</td>\n",
              "      <td>0.025863</td>\n",
              "      <td>-0.039413</td>\n",
              "      <td>-0.033713</td>\n",
              "      <td>0.031175</td>\n",
              "      <td>...</td>\n",
              "      <td>0.698161</td>\n",
              "      <td>0.443355</td>\n",
              "      <td>0.113266</td>\n",
              "      <td>0.113266</td>\n",
              "      <td>0.113266</td>\n",
              "      <td>NaN</td>\n",
              "      <td>0.516943</td>\n",
              "      <td>0.113266</td>\n",
              "      <td>0.071951</td>\n",
              "      <td>1.000000</td>\n",
              "    </tr>\n",
              "  </tbody>\n",
              "</table>\n",
              "<p>26 rows × 26 columns</p>\n",
              "</div>\n",
              "      <button class=\"colab-df-convert\" onclick=\"convertToInteractive('df-c23f620e-fa93-4026-9c26-343f23261dbe')\"\n",
              "              title=\"Convert this dataframe to an interactive table.\"\n",
              "              style=\"display:none;\">\n",
              "        \n",
              "  <svg xmlns=\"http://www.w3.org/2000/svg\" height=\"24px\"viewBox=\"0 0 24 24\"\n",
              "       width=\"24px\">\n",
              "    <path d=\"M0 0h24v24H0V0z\" fill=\"none\"/>\n",
              "    <path d=\"M18.56 5.44l.94 2.06.94-2.06 2.06-.94-2.06-.94-.94-2.06-.94 2.06-2.06.94zm-11 1L8.5 8.5l.94-2.06 2.06-.94-2.06-.94L8.5 2.5l-.94 2.06-2.06.94zm10 10l.94 2.06.94-2.06 2.06-.94-2.06-.94-.94-2.06-.94 2.06-2.06.94z\"/><path d=\"M17.41 7.96l-1.37-1.37c-.4-.4-.92-.59-1.43-.59-.52 0-1.04.2-1.43.59L10.3 9.45l-7.72 7.72c-.78.78-.78 2.05 0 2.83L4 21.41c.39.39.9.59 1.41.59.51 0 1.02-.2 1.41-.59l7.78-7.78 2.81-2.81c.8-.78.8-2.07 0-2.86zM5.41 20L4 18.59l7.72-7.72 1.47 1.35L5.41 20z\"/>\n",
              "  </svg>\n",
              "      </button>\n",
              "      \n",
              "  <style>\n",
              "    .colab-df-container {\n",
              "      display:flex;\n",
              "      flex-wrap:wrap;\n",
              "      gap: 12px;\n",
              "    }\n",
              "\n",
              "    .colab-df-convert {\n",
              "      background-color: #E8F0FE;\n",
              "      border: none;\n",
              "      border-radius: 50%;\n",
              "      cursor: pointer;\n",
              "      display: none;\n",
              "      fill: #1967D2;\n",
              "      height: 32px;\n",
              "      padding: 0 0 0 0;\n",
              "      width: 32px;\n",
              "    }\n",
              "\n",
              "    .colab-df-convert:hover {\n",
              "      background-color: #E2EBFA;\n",
              "      box-shadow: 0px 1px 2px rgba(60, 64, 67, 0.3), 0px 1px 3px 1px rgba(60, 64, 67, 0.15);\n",
              "      fill: #174EA6;\n",
              "    }\n",
              "\n",
              "    [theme=dark] .colab-df-convert {\n",
              "      background-color: #3B4455;\n",
              "      fill: #D2E3FC;\n",
              "    }\n",
              "\n",
              "    [theme=dark] .colab-df-convert:hover {\n",
              "      background-color: #434B5C;\n",
              "      box-shadow: 0px 1px 3px 1px rgba(0, 0, 0, 0.15);\n",
              "      filter: drop-shadow(0px 1px 2px rgba(0, 0, 0, 0.3));\n",
              "      fill: #FFFFFF;\n",
              "    }\n",
              "  </style>\n",
              "\n",
              "      <script>\n",
              "        const buttonEl =\n",
              "          document.querySelector('#df-c23f620e-fa93-4026-9c26-343f23261dbe button.colab-df-convert');\n",
              "        buttonEl.style.display =\n",
              "          google.colab.kernel.accessAllowed ? 'block' : 'none';\n",
              "\n",
              "        async function convertToInteractive(key) {\n",
              "          const element = document.querySelector('#df-c23f620e-fa93-4026-9c26-343f23261dbe');\n",
              "          const dataTable =\n",
              "            await google.colab.kernel.invokeFunction('convertToInteractive',\n",
              "                                                     [key], {});\n",
              "          if (!dataTable) return;\n",
              "\n",
              "          const docLinkHtml = 'Like what you see? Visit the ' +\n",
              "            '<a target=\"_blank\" href=https://colab.research.google.com/notebooks/data_table.ipynb>data table notebook</a>'\n",
              "            + ' to learn more about interactive tables.';\n",
              "          element.innerHTML = '';\n",
              "          dataTable['output_type'] = 'display_data';\n",
              "          await google.colab.output.renderOutput(dataTable, element);\n",
              "          const docLink = document.createElement('div');\n",
              "          docLink.innerHTML = docLinkHtml;\n",
              "          element.appendChild(docLink);\n",
              "        }\n",
              "      </script>\n",
              "    </div>\n",
              "  </div>\n",
              "  "
            ]
          },
          "metadata": {},
          "execution_count": 282
        }
      ]
    },
    {
      "cell_type": "code",
      "source": [
        "factors_df['STDs:AIDS'].value_counts()"
      ],
      "metadata": {
        "colab": {
          "base_uri": "https://localhost:8080/"
        },
        "id": "wX6WdZLMkShC",
        "outputId": "16da995b-9d5a-473a-e7dc-bdc161e90921"
      },
      "execution_count": 283,
      "outputs": [
        {
          "output_type": "execute_result",
          "data": {
            "text/plain": [
              "0.0    668\n",
              "Name: STDs:AIDS, dtype: int64"
            ]
          },
          "metadata": {},
          "execution_count": 283
        }
      ]
    },
    {
      "cell_type": "code",
      "source": [
        "factors_df['STDs:cervical condylomatosis'].value_counts()"
      ],
      "metadata": {
        "colab": {
          "base_uri": "https://localhost:8080/"
        },
        "id": "MxOUbOS2ktgv",
        "outputId": "6bf4478a-9943-40e6-8bf0-e3a85f4f64a7"
      },
      "execution_count": 284,
      "outputs": [
        {
          "output_type": "execute_result",
          "data": {
            "text/plain": [
              "0.0    668\n",
              "Name: STDs:cervical condylomatosis, dtype: int64"
            ]
          },
          "metadata": {},
          "execution_count": 284
        }
      ]
    },
    {
      "cell_type": "markdown",
      "source": [
        "The values of \"*STDs:AIDS*\" and \"*STDs:cervical condylomatosis*\" are all zoros. With no contribution to the classification, these two columns can be removed."
      ],
      "metadata": {
        "id": "uXCP3DKTk4pG"
      }
    },
    {
      "cell_type": "code",
      "source": [
        "factors_df.drop(['STDs:AIDS', 'STDs:cervical condylomatosis'], axis=1, inplace=True)"
      ],
      "metadata": {
        "id": "H0CdQBH0mE_x"
      },
      "execution_count": 285,
      "outputs": []
    },
    {
      "cell_type": "code",
      "source": [
        "mask = np.triu(np.ones_like(factors_df.corr(), dtype=np.bool))"
      ],
      "metadata": {
        "colab": {
          "base_uri": "https://localhost:8080/"
        },
        "id": "awvyrPWsGE-r",
        "outputId": "cb13aa73-8c56-4d0c-feb5-3d1e6f620c86"
      },
      "execution_count": 286,
      "outputs": [
        {
          "output_type": "stream",
          "name": "stderr",
          "text": [
            "/usr/local/lib/python3.7/dist-packages/ipykernel_launcher.py:1: DeprecationWarning: `np.bool` is a deprecated alias for the builtin `bool`. To silence this warning, use `bool` by itself. Doing this will not modify any behavior and is safe. If you specifically wanted the numpy scalar type, use `np.bool_` here.\n",
            "Deprecated in NumPy 1.20; for more details and guidance: https://numpy.org/devdocs/release/1.20.0-notes.html#deprecations\n",
            "  \"\"\"Entry point for launching an IPython kernel.\n"
          ]
        }
      ]
    },
    {
      "cell_type": "code",
      "source": [
        "plt.figure(figsize=(24,12))\n",
        "plt.title('Factors Correlation Heatmap', fontsize=20, fontweight='bold')\n",
        "sns.heatmap(factors_df.corr(), \n",
        "            vmin=-1, \n",
        "            vmax=1, \n",
        "            cmap='coolwarm', \n",
        "            annot=True, \n",
        "            mask=mask, \n",
        "            fmt='.2f', \n",
        "            cbar_kws={'shrink':.9})"
      ],
      "metadata": {
        "colab": {
          "base_uri": "https://localhost:8080/",
          "height": 0
        },
        "id": "TF6_VWLNDvvn",
        "outputId": "2cc33756-3bf5-4a6e-8b5b-d6f122936d6e"
      },
      "execution_count": 287,
      "outputs": [
        {
          "output_type": "execute_result",
          "data": {
            "text/plain": [
              "<matplotlib.axes._subplots.AxesSubplot at 0x7f438a8ef3d0>"
            ]
          },
          "metadata": {},
          "execution_count": 287
        },
        {
          "output_type": "display_data",
          "data": {
            "text/plain": [
              "<Figure size 1728x864 with 2 Axes>"
            ],
            "image/png": "[encoded data removed]"
          },
          "metadata": {
            "needs_background": "light"
          }
        }
      ]
    },
    {
      "cell_type": "code",
      "source": [
        "dx_factor_corr = factors_df.corrwith(pd.to_numeric(cc_df['Dx:Cancer']))\n",
        "dx_factor_corr = pd.DataFrame(index=dx_factor_corr.index, columns=['Dx:Cancer'], data=dx_factor_corr)"
      ],
      "metadata": {
        "id": "EnZ98caNqvUp"
      },
      "execution_count": 288,
      "outputs": []
    },
    {
      "cell_type": "code",
      "source": [
        "plt.figure(figsize=(5,16))\n",
        "plt.title('Correlation Heatmap 1', fontsize=20, fontweight='bold', pad=20)\n",
        "sns.heatmap(dx_factor_corr, \n",
        "            vmin=-1, \n",
        "            vmax=1, \n",
        "            cmap='coolwarm', \n",
        "            annot=True, \n",
        "            fmt='.2f')"
      ],
      "metadata": {
        "colab": {
          "base_uri": "https://localhost:8080/",
          "height": 0
        },
        "id": "9ZUryJGwnxLf",
        "outputId": "94d0b1c2-327f-4cd2-b864-64fd732f8d48"
      },
      "execution_count": 289,
      "outputs": [
        {
          "output_type": "execute_result",
          "data": {
            "text/plain": [
              "<matplotlib.axes._subplots.AxesSubplot at 0x7f438a582ad0>"
            ]
          },
          "metadata": {},
          "execution_count": 289
        },
        {
          "output_type": "display_data",
          "data": {
            "text/plain": [
              "<Figure size 360x1152 with 2 Axes>"
            ],
            "image/png": "[encoded data removed]"
          },
          "metadata": {
            "needs_background": "light"
          }
        }
      ]
    },
    {
      "cell_type": "code",
      "source": [
        "tests_df = pd.DataFrame(cc_df, columns=['Hinselmann', 'Schiller', 'Citology', 'Biopsy'])\n",
        "dx_tests_corr = tests_df.corrwith(cc_df['Dx:Cancer'])\n",
        "dx_tests_corr = pd.DataFrame(index=dx_tests_corr.index, columns=['Dx:Cancer'], data=dx_tests_corr)"
      ],
      "metadata": {
        "id": "vZi48vQ1ew2c"
      },
      "execution_count": 290,
      "outputs": []
    },
    {
      "cell_type": "code",
      "source": [
        "plt.figure(figsize=(4,4))\n",
        "plt.title('Correlation Heatmap 2', fontsize=20, fontweight='bold', pad=20)\n",
        "sns.heatmap(dx_tests_corr, \n",
        "            vmin=-1, \n",
        "            vmax=1, \n",
        "            cmap='coolwarm', \n",
        "            annot=True, \n",
        "            fmt='.2f')"
      ],
      "metadata": {
        "colab": {
          "base_uri": "https://localhost:8080/",
          "height": 0
        },
        "id": "1sEuKWF-gVFx",
        "outputId": "63ace8a3-04b2-4511-91eb-209c27209616"
      },
      "execution_count": 291,
      "outputs": [
        {
          "output_type": "execute_result",
          "data": {
            "text/plain": [
              "<matplotlib.axes._subplots.AxesSubplot at 0x7f438c3a9890>"
            ]
          },
          "metadata": {},
          "execution_count": 291
        },
        {
          "output_type": "display_data",
          "data": {
            "text/plain": [
              "<Figure size 288x288 with 2 Axes>"
            ],
            "image/png": "[encoded data removed]"
          },
          "metadata": {
            "needs_background": "light"
          }
        }
      ]
    },
    {
      "cell_type": "markdown",
      "source": [
        "Poor correlation between the life style, medical history, test results and the diagnosis result. Why?"
      ],
      "metadata": {
        "id": "IBmsjAoDs8Jm"
      }
    },
    {
      "cell_type": "code",
      "source": [
        "cc_df['Dx:Cancer'].value_counts()"
      ],
      "metadata": {
        "colab": {
          "base_uri": "https://localhost:8080/"
        },
        "id": "5G1cxzOHpyf_",
        "outputId": "14d4ae23-2506-4410-83a0-26d5878b8299"
      },
      "execution_count": 292,
      "outputs": [
        {
          "output_type": "execute_result",
          "data": {
            "text/plain": [
              "0    651\n",
              "1     17\n",
              "Name: Dx:Cancer, dtype: int64"
            ]
          },
          "metadata": {},
          "execution_count": 292
        }
      ]
    },
    {
      "cell_type": "markdown",
      "source": [
        "Obviously, the original dataset is an extremely imbalanced dataset."
      ],
      "metadata": {
        "id": "b5LT-KugsEaz"
      }
    },
    {
      "cell_type": "markdown",
      "source": [
        "##Synthetic Sampling"
      ],
      "metadata": {
        "id": "Rn-XUHlLuEzM"
      }
    },
    {
      "cell_type": "code",
      "source": [
        "X = cc_df_bool.drop(['STDs:AIDS', 'STDs:cervical condylomatosis', 'Dx:Cancer'], axis=1)\n",
        "y = cc_df_bool['Dx:Cancer']"
      ],
      "metadata": {
        "id": "2CNAW1_BsECL"
      },
      "execution_count": 293,
      "outputs": []
    },
    {
      "cell_type": "code",
      "source": [
        "X_train, X_test, y_train, y_test = train_test_split(X, y, test_size=0.4, random_state=27)"
      ],
      "metadata": {
        "id": "mnkyVABGqT76"
      },
      "execution_count": 294,
      "outputs": []
    },
    {
      "cell_type": "code",
      "source": [
        "sm = SMOTE(random_state=27, sampling_strategy=0.25)\n",
        "X_train, y_train = sm.fit_resample(X_train, y_train)\n",
        "\n",
        "X_train.shape, y_train.shape"
      ],
      "metadata": {
        "colab": {
          "base_uri": "https://localhost:8080/"
        },
        "id": "RM0sBPLkzgpE",
        "outputId": "cc869c56-cbbb-42b8-8f11-d0547ef0db3a"
      },
      "execution_count": 295,
      "outputs": [
        {
          "output_type": "execute_result",
          "data": {
            "text/plain": [
              "((486, 28), (486,))"
            ]
          },
          "metadata": {},
          "execution_count": 295
        }
      ]
    },
    {
      "cell_type": "code",
      "source": [
        "y_train.value_counts()"
      ],
      "metadata": {
        "colab": {
          "base_uri": "https://localhost:8080/"
        },
        "id": "pZC47Z620Rnq",
        "outputId": "28d39469-479e-4b3e-d187-2968b2708138"
      },
      "execution_count": 296,
      "outputs": [
        {
          "output_type": "execute_result",
          "data": {
            "text/plain": [
              "False    389\n",
              "True      97\n",
              "Name: Dx:Cancer, dtype: int64"
            ]
          },
          "metadata": {},
          "execution_count": 296
        }
      ]
    },
    {
      "cell_type": "code",
      "source": [
        "scaler = StandardScaler()\n",
        "scaler.fit(X_train)\n",
        "X_train_scaled = scaler.transform(X_train)\n",
        "X_test_scaled = scaler.transform(X_test)"
      ],
      "metadata": {
        "id": "TeVf7lmn091q"
      },
      "execution_count": 297,
      "outputs": []
    },
    {
      "cell_type": "markdown",
      "source": [
        "##Classification"
      ],
      "metadata": {
        "id": "v9TOO4Gof80Z"
      }
    },
    {
      "cell_type": "markdown",
      "source": [
        "###Decision Tree"
      ],
      "metadata": {
        "id": "bYxgTBkLRMC9"
      }
    },
    {
      "cell_type": "code",
      "source": [
        "dt_model = DecisionTreeClassifier()\n",
        "dt_model.fit(X_train_scaled, y_train)"
      ],
      "metadata": {
        "colab": {
          "base_uri": "https://localhost:8080/"
        },
        "id": "9Q302XDVRca-",
        "outputId": "324ba7a9-b1b9-4492-d491-74d455cd55ec"
      },
      "execution_count": 298,
      "outputs": [
        {
          "output_type": "execute_result",
          "data": {
            "text/plain": [
              "DecisionTreeClassifier()"
            ]
          },
          "metadata": {},
          "execution_count": 298
        }
      ]
    },
    {
      "cell_type": "code",
      "source": [
        "y_train_pred_dt = dt_model.predict(X_train_scaled)"
      ],
      "metadata": {
        "id": "7T9JQYdOn936"
      },
      "execution_count": 299,
      "outputs": []
    },
    {
      "cell_type": "code",
      "source": [
        "cm = confusion_matrix(y_train, y_train_pred_dt)\n",
        "disp_dt_train = ConfusionMatrixDisplay(confusion_matrix=cm)\n",
        "disp_dt_train = disp_dt_train.plot(cmap='Blues')\n",
        "plt.title('Decision Tree on Training Set', pad=20, fontsize=20, fontweight='bold')\n",
        "plt.show()"
      ],
      "metadata": {
        "colab": {
          "base_uri": "https://localhost:8080/",
          "height": 0
        },
        "id": "_W_sB3hZoEME",
        "outputId": "f25797c5-33f8-4e8d-a2d7-9b704e6793e8"
      },
      "execution_count": 300,
      "outputs": [
        {
          "output_type": "display_data",
          "data": {
            "text/plain": [
              "<Figure size 432x288 with 2 Axes>"
            ],
            "image/png": "[encoded data removed]"
          },
          "metadata": {
            "needs_background": "light"
          }
        }
      ]
    },
    {
      "cell_type": "code",
      "source": [
        "y_test_pred_dt = dt_model.predict(X_test_scaled)"
      ],
      "metadata": {
        "id": "QgC50TNiSpd0"
      },
      "execution_count": 301,
      "outputs": []
    },
    {
      "cell_type": "code",
      "source": [
        "cm = confusion_matrix(y_test, y_test_pred_dt)\n",
        "disp_dt = ConfusionMatrixDisplay(confusion_matrix=cm)\n",
        "disp_dt = disp_dt.plot(cmap='Blues')\n",
        "plt.title('Decision Tree on Test Set', pad=20, fontsize=20, fontweight='bold')\n",
        "plt.show()"
      ],
      "metadata": {
        "colab": {
          "base_uri": "https://localhost:8080/",
          "height": 0
        },
        "id": "rZ151z0lS31I",
        "outputId": "0e5e5579-485a-48bc-fbf7-25acb09f1e3a"
      },
      "execution_count": 302,
      "outputs": [
        {
          "output_type": "display_data",
          "data": {
            "text/plain": [
              "<Figure size 432x288 with 2 Axes>"
            ],
            "image/png": "[encoded data removed]"
          },
          "metadata": {
            "needs_background": "light"
          }
        }
      ]
    },
    {
      "cell_type": "code",
      "source": [
        "results_df = pd.DataFrame(\n",
        "    columns = ['Model', 'Recall', 'Accuracy', 'Precision', 'F1 Score'],\n",
        "    data=[[\"Decision Tree\", \n",
        "           recall_score(y_test, y_test_pred_dt),\n",
        "           accuracy_score(y_test, y_test_pred_dt), \n",
        "           precision_score(y_test, y_test_pred_dt), \n",
        "           f1_score(y_test,y_test_pred_dt)]]\n",
        ")\n",
        "results_df"
      ],
      "metadata": {
        "colab": {
          "base_uri": "https://localhost:8080/",
          "height": 0
        },
        "id": "EMPQ-CTFThxP",
        "outputId": "171b429f-9d50-41b9-8644-08453347abb5"
      },
      "execution_count": 303,
      "outputs": [
        {
          "output_type": "execute_result",
          "data": {
            "text/plain": [
              "           Model    Recall  Accuracy  Precision  F1 Score\n",
              "0  Decision Tree  0.166667  0.940299   0.083333  0.111111"
            ],
            "text/html": [
              "\n",
              "  <div id=\"df-756c00a2-3ad5-4cad-96a9-3102231a9e66\">\n",
              "    <div class=\"colab-df-container\">\n",
              "      <div>\n",
              "<style scoped>\n",
              "    .dataframe tbody tr th:only-of-type {\n",
              "        vertical-align: middle;\n",
              "    }\n",
              "\n",
              "    .dataframe tbody tr th {\n",
              "        vertical-align: top;\n",
              "    }\n",
              "\n",
              "    .dataframe thead th {\n",
              "        text-align: right;\n",
              "    }\n",
              "</style>\n",
              "<table border=\"1\" class=\"dataframe\">\n",
              "  <thead>\n",
              "    <tr style=\"text-align: right;\">\n",
              "      <th></th>\n",
              "      <th>Model</th>\n",
              "      <th>Recall</th>\n",
              "      <th>Accuracy</th>\n",
              "      <th>Precision</th>\n",
              "      <th>F1 Score</th>\n",
              "    </tr>\n",
              "  </thead>\n",
              "  <tbody>\n",
              "    <tr>\n",
              "      <th>0</th>\n",
              "      <td>Decision Tree</td>\n",
              "      <td>0.166667</td>\n",
              "      <td>0.940299</td>\n",
              "      <td>0.083333</td>\n",
              "      <td>0.111111</td>\n",
              "    </tr>\n",
              "  </tbody>\n",
              "</table>\n",
              "</div>\n",
              "      <button class=\"colab-df-convert\" onclick=\"convertToInteractive('df-756c00a2-3ad5-4cad-96a9-3102231a9e66')\"\n",
              "              title=\"Convert this dataframe to an interactive table.\"\n",
              "              style=\"display:none;\">\n",
              "        \n",
              "  <svg xmlns=\"http://www.w3.org/2000/svg\" height=\"24px\"viewBox=\"0 0 24 24\"\n",
              "       width=\"24px\">\n",
              "    <path d=\"M0 0h24v24H0V0z\" fill=\"none\"/>\n",
              "    <path d=\"M18.56 5.44l.94 2.06.94-2.06 2.06-.94-2.06-.94-.94-2.06-.94 2.06-2.06.94zm-11 1L8.5 8.5l.94-2.06 2.06-.94-2.06-.94L8.5 2.5l-.94 2.06-2.06.94zm10 10l.94 2.06.94-2.06 2.06-.94-2.06-.94-.94-2.06-.94 2.06-2.06.94z\"/><path d=\"M17.41 7.96l-1.37-1.37c-.4-.4-.92-.59-1.43-.59-.52 0-1.04.2-1.43.59L10.3 9.45l-7.72 7.72c-.78.78-.78 2.05 0 2.83L4 21.41c.39.39.9.59 1.41.59.51 0 1.02-.2 1.41-.59l7.78-7.78 2.81-2.81c.8-.78.8-2.07 0-2.86zM5.41 20L4 18.59l7.72-7.72 1.47 1.35L5.41 20z\"/>\n",
              "  </svg>\n",
              "      </button>\n",
              "      \n",
              "  <style>\n",
              "    .colab-df-container {\n",
              "      display:flex;\n",
              "      flex-wrap:wrap;\n",
              "      gap: 12px;\n",
              "    }\n",
              "\n",
              "    .colab-df-convert {\n",
              "      background-color: #E8F0FE;\n",
              "      border: none;\n",
              "      border-radius: 50%;\n",
              "      cursor: pointer;\n",
              "      display: none;\n",
              "      fill: #1967D2;\n",
              "      height: 32px;\n",
              "      padding: 0 0 0 0;\n",
              "      width: 32px;\n",
              "    }\n",
              "\n",
              "    .colab-df-convert:hover {\n",
              "      background-color: #E2EBFA;\n",
              "      box-shadow: 0px 1px 2px rgba(60, 64, 67, 0.3), 0px 1px 3px 1px rgba(60, 64, 67, 0.15);\n",
              "      fill: #174EA6;\n",
              "    }\n",
              "\n",
              "    [theme=dark] .colab-df-convert {\n",
              "      background-color: #3B4455;\n",
              "      fill: #D2E3FC;\n",
              "    }\n",
              "\n",
              "    [theme=dark] .colab-df-convert:hover {\n",
              "      background-color: #434B5C;\n",
              "      box-shadow: 0px 1px 3px 1px rgba(0, 0, 0, 0.15);\n",
              "      filter: drop-shadow(0px 1px 2px rgba(0, 0, 0, 0.3));\n",
              "      fill: #FFFFFF;\n",
              "    }\n",
              "  </style>\n",
              "\n",
              "      <script>\n",
              "        const buttonEl =\n",
              "          document.querySelector('#df-756c00a2-3ad5-4cad-96a9-3102231a9e66 button.colab-df-convert');\n",
              "        buttonEl.style.display =\n",
              "          google.colab.kernel.accessAllowed ? 'block' : 'none';\n",
              "\n",
              "        async function convertToInteractive(key) {\n",
              "          const element = document.querySelector('#df-756c00a2-3ad5-4cad-96a9-3102231a9e66');\n",
              "          const dataTable =\n",
              "            await google.colab.kernel.invokeFunction('convertToInteractive',\n",
              "                                                     [key], {});\n",
              "          if (!dataTable) return;\n",
              "\n",
              "          const docLinkHtml = 'Like what you see? Visit the ' +\n",
              "            '<a target=\"_blank\" href=https://colab.research.google.com/notebooks/data_table.ipynb>data table notebook</a>'\n",
              "            + ' to learn more about interactive tables.';\n",
              "          element.innerHTML = '';\n",
              "          dataTable['output_type'] = 'display_data';\n",
              "          await google.colab.output.renderOutput(dataTable, element);\n",
              "          const docLink = document.createElement('div');\n",
              "          docLink.innerHTML = docLinkHtml;\n",
              "          element.appendChild(docLink);\n",
              "        }\n",
              "      </script>\n",
              "    </div>\n",
              "  </div>\n",
              "  "
            ]
          },
          "metadata": {},
          "execution_count": 303
        }
      ]
    },
    {
      "cell_type": "markdown",
      "source": [
        "###Random Forest"
      ],
      "metadata": {
        "id": "jlkR4q89bYIo"
      }
    },
    {
      "cell_type": "code",
      "source": [
        "rf_model = RandomForestClassifier()\n",
        "rf_model.fit(X_train_scaled, y_train)"
      ],
      "metadata": {
        "colab": {
          "base_uri": "https://localhost:8080/"
        },
        "id": "x1mcuiSQbavO",
        "outputId": "47113cb9-1e4f-4610-cc66-76a6a4a35b43"
      },
      "execution_count": 304,
      "outputs": [
        {
          "output_type": "execute_result",
          "data": {
            "text/plain": [
              "RandomForestClassifier()"
            ]
          },
          "metadata": {},
          "execution_count": 304
        }
      ]
    },
    {
      "cell_type": "code",
      "source": [
        "y_train_pred_rf = rf_model.predict(X_train_scaled)"
      ],
      "metadata": {
        "id": "E3WmJ7R9tOBH"
      },
      "execution_count": 305,
      "outputs": []
    },
    {
      "cell_type": "code",
      "source": [
        "cm = confusion_matrix(y_train, y_train_pred_rf)\n",
        "disp_rf_train = ConfusionMatrixDisplay(confusion_matrix=cm)\n",
        "disp_rf_train = disp_rf_train.plot(cmap='Blues')\n",
        "plt.title('Random Forest on Training Set', pad=20, fontsize=20, fontweight='bold')\n",
        "plt.show()"
      ],
      "metadata": {
        "colab": {
          "base_uri": "https://localhost:8080/",
          "height": 0
        },
        "id": "wOGMHseTtUyT",
        "outputId": "87b6a58d-a3f4-42e3-c1e1-f2ec6bfe43fc"
      },
      "execution_count": 306,
      "outputs": [
        {
          "output_type": "display_data",
          "data": {
            "text/plain": [
              "<Figure size 432x288 with 2 Axes>"
            ],
            "image/png": "[encoded data removed]"
          },
          "metadata": {
            "needs_background": "light"
          }
        }
      ]
    },
    {
      "cell_type": "code",
      "source": [
        "y_test_pred_rf = rf_model.predict(X_test_scaled)"
      ],
      "metadata": {
        "id": "5BlVj56Vb4hy"
      },
      "execution_count": 307,
      "outputs": []
    },
    {
      "cell_type": "code",
      "source": [
        "cm = confusion_matrix(y_test, y_test_pred_rf)\n",
        "disp_rf = ConfusionMatrixDisplay(confusion_matrix=cm)\n",
        "disp_rf = disp_rf.plot(cmap='Blues')\n",
        "plt.title('Random Forest on Test Set', pad=20, fontsize=20, fontweight='bold')\n",
        "plt.show()"
      ],
      "metadata": {
        "colab": {
          "base_uri": "https://localhost:8080/",
          "height": 0
        },
        "id": "qWHd4leXcOkw",
        "outputId": "4cc8bedc-1ff0-4f03-cd5a-c91eb8a3b51e"
      },
      "execution_count": 308,
      "outputs": [
        {
          "output_type": "display_data",
          "data": {
            "text/plain": [
              "<Figure size 432x288 with 2 Axes>"
            ],
            "image/png": "[encoded data removed]"
          },
          "metadata": {
            "needs_background": "light"
          }
        }
      ]
    },
    {
      "cell_type": "code",
      "source": [
        "results_df_rf = pd.DataFrame(\n",
        "    columns = ['Model', 'Recall', 'Accuracy', 'Precision', 'F1 Score'],\n",
        "    data=[[\"Random Forest\", \n",
        "           recall_score(y_test, y_test_pred_rf),\n",
        "           accuracy_score(y_test, y_test_pred_rf), \n",
        "           precision_score(y_test, y_test_pred_rf), \n",
        "           f1_score(y_test,y_test_pred_rf)]]\n",
        ")\n",
        "results_df = results_df.append(results_df_rf, ignore_index=True)\n",
        "results_df"
      ],
      "metadata": {
        "colab": {
          "base_uri": "https://localhost:8080/",
          "height": 0
        },
        "id": "vLgEcMLccz1w",
        "outputId": "c92077b3-e52e-43fd-d1b6-edcef9936d2f"
      },
      "execution_count": 309,
      "outputs": [
        {
          "output_type": "execute_result",
          "data": {
            "text/plain": [
              "           Model    Recall  Accuracy  Precision  F1 Score\n",
              "0  Decision Tree  0.166667  0.940299   0.083333  0.111111\n",
              "1  Random Forest  0.166667  0.958955   0.142857  0.153846"
            ],
            "text/html": [
              "\n",
              "  <div id=\"df-0213bc89-6c86-4a24-a098-2a19d02159fc\">\n",
              "    <div class=\"colab-df-container\">\n",
              "      <div>\n",
              "<style scoped>\n",
              "    .dataframe tbody tr th:only-of-type {\n",
              "        vertical-align: middle;\n",
              "    }\n",
              "\n",
              "    .dataframe tbody tr th {\n",
              "        vertical-align: top;\n",
              "    }\n",
              "\n",
              "    .dataframe thead th {\n",
              "        text-align: right;\n",
              "    }\n",
              "</style>\n",
              "<table border=\"1\" class=\"dataframe\">\n",
              "  <thead>\n",
              "    <tr style=\"text-align: right;\">\n",
              "      <th></th>\n",
              "      <th>Model</th>\n",
              "      <th>Recall</th>\n",
              "      <th>Accuracy</th>\n",
              "      <th>Precision</th>\n",
              "      <th>F1 Score</th>\n",
              "    </tr>\n",
              "  </thead>\n",
              "  <tbody>\n",
              "    <tr>\n",
              "      <th>0</th>\n",
              "      <td>Decision Tree</td>\n",
              "      <td>0.166667</td>\n",
              "      <td>0.940299</td>\n",
              "      <td>0.083333</td>\n",
              "      <td>0.111111</td>\n",
              "    </tr>\n",
              "    <tr>\n",
              "      <th>1</th>\n",
              "      <td>Random Forest</td>\n",
              "      <td>0.166667</td>\n",
              "      <td>0.958955</td>\n",
              "      <td>0.142857</td>\n",
              "      <td>0.153846</td>\n",
              "    </tr>\n",
              "  </tbody>\n",
              "</table>\n",
              "</div>\n",
              "      <button class=\"colab-df-convert\" onclick=\"convertToInteractive('df-0213bc89-6c86-4a24-a098-2a19d02159fc')\"\n",
              "              title=\"Convert this dataframe to an interactive table.\"\n",
              "              style=\"display:none;\">\n",
              "        \n",
              "  <svg xmlns=\"http://www.w3.org/2000/svg\" height=\"24px\"viewBox=\"0 0 24 24\"\n",
              "       width=\"24px\">\n",
              "    <path d=\"M0 0h24v24H0V0z\" fill=\"none\"/>\n",
              "    <path d=\"M18.56 5.44l.94 2.06.94-2.06 2.06-.94-2.06-.94-.94-2.06-.94 2.06-2.06.94zm-11 1L8.5 8.5l.94-2.06 2.06-.94-2.06-.94L8.5 2.5l-.94 2.06-2.06.94zm10 10l.94 2.06.94-2.06 2.06-.94-2.06-.94-.94-2.06-.94 2.06-2.06.94z\"/><path d=\"M17.41 7.96l-1.37-1.37c-.4-.4-.92-.59-1.43-.59-.52 0-1.04.2-1.43.59L10.3 9.45l-7.72 7.72c-.78.78-.78 2.05 0 2.83L4 21.41c.39.39.9.59 1.41.59.51 0 1.02-.2 1.41-.59l7.78-7.78 2.81-2.81c.8-.78.8-2.07 0-2.86zM5.41 20L4 18.59l7.72-7.72 1.47 1.35L5.41 20z\"/>\n",
              "  </svg>\n",
              "      </button>\n",
              "      \n",
              "  <style>\n",
              "    .colab-df-container {\n",
              "      display:flex;\n",
              "      flex-wrap:wrap;\n",
              "      gap: 12px;\n",
              "    }\n",
              "\n",
              "    .colab-df-convert {\n",
              "      background-color: #E8F0FE;\n",
              "      border: none;\n",
              "      border-radius: 50%;\n",
              "      cursor: pointer;\n",
              "      display: none;\n",
              "      fill: #1967D2;\n",
              "      height: 32px;\n",
              "      padding: 0 0 0 0;\n",
              "      width: 32px;\n",
              "    }\n",
              "\n",
              "    .colab-df-convert:hover {\n",
              "      background-color: #E2EBFA;\n",
              "      box-shadow: 0px 1px 2px rgba(60, 64, 67, 0.3), 0px 1px 3px 1px rgba(60, 64, 67, 0.15);\n",
              "      fill: #174EA6;\n",
              "    }\n",
              "\n",
              "    [theme=dark] .colab-df-convert {\n",
              "      background-color: #3B4455;\n",
              "      fill: #D2E3FC;\n",
              "    }\n",
              "\n",
              "    [theme=dark] .colab-df-convert:hover {\n",
              "      background-color: #434B5C;\n",
              "      box-shadow: 0px 1px 3px 1px rgba(0, 0, 0, 0.15);\n",
              "      filter: drop-shadow(0px 1px 2px rgba(0, 0, 0, 0.3));\n",
              "      fill: #FFFFFF;\n",
              "    }\n",
              "  </style>\n",
              "\n",
              "      <script>\n",
              "        const buttonEl =\n",
              "          document.querySelector('#df-0213bc89-6c86-4a24-a098-2a19d02159fc button.colab-df-convert');\n",
              "        buttonEl.style.display =\n",
              "          google.colab.kernel.accessAllowed ? 'block' : 'none';\n",
              "\n",
              "        async function convertToInteractive(key) {\n",
              "          const element = document.querySelector('#df-0213bc89-6c86-4a24-a098-2a19d02159fc');\n",
              "          const dataTable =\n",
              "            await google.colab.kernel.invokeFunction('convertToInteractive',\n",
              "                                                     [key], {});\n",
              "          if (!dataTable) return;\n",
              "\n",
              "          const docLinkHtml = 'Like what you see? Visit the ' +\n",
              "            '<a target=\"_blank\" href=https://colab.research.google.com/notebooks/data_table.ipynb>data table notebook</a>'\n",
              "            + ' to learn more about interactive tables.';\n",
              "          element.innerHTML = '';\n",
              "          dataTable['output_type'] = 'display_data';\n",
              "          await google.colab.output.renderOutput(dataTable, element);\n",
              "          const docLink = document.createElement('div');\n",
              "          docLink.innerHTML = docLinkHtml;\n",
              "          element.appendChild(docLink);\n",
              "        }\n",
              "      </script>\n",
              "    </div>\n",
              "  </div>\n",
              "  "
            ]
          },
          "metadata": {},
          "execution_count": 309
        }
      ]
    },
    {
      "cell_type": "markdown",
      "source": [
        "###Gradient Boosting"
      ],
      "metadata": {
        "id": "J9YGtG5--peu"
      }
    },
    {
      "cell_type": "code",
      "source": [
        "gb_model = GradientBoostingClassifier()\n",
        "gb_model.fit(X_train_scaled, y_train)"
      ],
      "metadata": {
        "colab": {
          "base_uri": "https://localhost:8080/"
        },
        "id": "mh9Gs5Qu-vlA",
        "outputId": "618726c9-2dcb-42de-a5e4-d1db920b7e8d"
      },
      "execution_count": 310,
      "outputs": [
        {
          "output_type": "execute_result",
          "data": {
            "text/plain": [
              "GradientBoostingClassifier()"
            ]
          },
          "metadata": {},
          "execution_count": 310
        }
      ]
    },
    {
      "cell_type": "code",
      "source": [
        "y_train_pred_gb = gb_model.predict(X_train_scaled)"
      ],
      "metadata": {
        "id": "jM3fIuxtxJRD"
      },
      "execution_count": 311,
      "outputs": []
    },
    {
      "cell_type": "code",
      "source": [
        "cm = confusion_matrix(y_train, y_train_pred_gb)\n",
        "disp_gb_train = ConfusionMatrixDisplay(confusion_matrix=cm)\n",
        "disp_gb_train = disp_gb_train.plot(cmap='Blues')\n",
        "plt.title('Gradient Boosting on Training Set', pad=20, fontsize=20, fontweight='bold')\n",
        "plt.show()"
      ],
      "metadata": {
        "colab": {
          "base_uri": "https://localhost:8080/",
          "height": 314
        },
        "id": "HFYwSdFoxOVe",
        "outputId": "6340fa6b-4280-43fe-986d-e1b6f35c23e9"
      },
      "execution_count": 312,
      "outputs": [
        {
          "output_type": "display_data",
          "data": {
            "text/plain": [
              "<Figure size 432x288 with 2 Axes>"
            ],
            "image/png": "[encoded data removed]"
          },
          "metadata": {
            "needs_background": "light"
          }
        }
      ]
    },
    {
      "cell_type": "code",
      "source": [
        "y_test_pred_gb = gb_model.predict(X_test_scaled)"
      ],
      "metadata": {
        "id": "ck2iRXycO8au"
      },
      "execution_count": 313,
      "outputs": []
    },
    {
      "cell_type": "code",
      "source": [
        "cm = confusion_matrix(y_test, y_test_pred_gb)\n",
        "disp_gb = ConfusionMatrixDisplay(confusion_matrix=cm)\n",
        "disp_gb = disp_gb.plot(cmap='Blues')\n",
        "plt.title('Gradient Boosting on Test Set', pad=20, fontsize=20, fontweight='bold')\n",
        "plt.show()"
      ],
      "metadata": {
        "colab": {
          "base_uri": "https://localhost:8080/",
          "height": 314
        },
        "outputId": "9666d738-a534-4aef-ca48-a83ed3610f5c",
        "id": "ynQpx0gYPeoB"
      },
      "execution_count": 314,
      "outputs": [
        {
          "output_type": "display_data",
          "data": {
            "text/plain": [
              "<Figure size 432x288 with 2 Axes>"
            ],
            "image/png": "[encoded data removed]"
          },
          "metadata": {
            "needs_background": "light"
          }
        }
      ]
    },
    {
      "cell_type": "code",
      "source": [
        "results_df_gb = pd.DataFrame(\n",
        "    columns = ['Model', 'Recall', 'Accuracy', 'Precision', 'F1 Score'],\n",
        "    data=[[\"Gradient Boost\", \n",
        "           recall_score(y_test, y_test_pred_gb),\n",
        "           accuracy_score(y_test, y_test_pred_gb), \n",
        "           precision_score(y_test, y_test_pred_gb), \n",
        "           f1_score(y_test,y_test_pred_gb)]]\n",
        ")\n",
        "results_df = results_df.append(results_df_gb, ignore_index=True)\n",
        "results_df"
      ],
      "metadata": {
        "colab": {
          "base_uri": "https://localhost:8080/",
          "height": 143
        },
        "outputId": "78e35623-fea0-4156-8af2-ed4f85f296e0",
        "id": "Liq1Ck3dPeoB"
      },
      "execution_count": 315,
      "outputs": [
        {
          "output_type": "execute_result",
          "data": {
            "text/plain": [
              "            Model    Recall  Accuracy  Precision  F1 Score\n",
              "0   Decision Tree  0.166667  0.940299   0.083333  0.111111\n",
              "1   Random Forest  0.166667  0.958955   0.142857  0.153846\n",
              "2  Gradient Boost  0.166667  0.958955   0.142857  0.153846"
            ],
            "text/html": [
              "\n",
              "  <div id=\"df-cbaf6892-916c-4489-9147-a3c85fe353f1\">\n",
              "    <div class=\"colab-df-container\">\n",
              "      <div>\n",
              "<style scoped>\n",
              "    .dataframe tbody tr th:only-of-type {\n",
              "        vertical-align: middle;\n",
              "    }\n",
              "\n",
              "    .dataframe tbody tr th {\n",
              "        vertical-align: top;\n",
              "    }\n",
              "\n",
              "    .dataframe thead th {\n",
              "        text-align: right;\n",
              "    }\n",
              "</style>\n",
              "<table border=\"1\" class=\"dataframe\">\n",
              "  <thead>\n",
              "    <tr style=\"text-align: right;\">\n",
              "      <th></th>\n",
              "      <th>Model</th>\n",
              "      <th>Recall</th>\n",
              "      <th>Accuracy</th>\n",
              "      <th>Precision</th>\n",
              "      <th>F1 Score</th>\n",
              "    </tr>\n",
              "  </thead>\n",
              "  <tbody>\n",
              "    <tr>\n",
              "      <th>0</th>\n",
              "      <td>Decision Tree</td>\n",
              "      <td>0.166667</td>\n",
              "      <td>0.940299</td>\n",
              "      <td>0.083333</td>\n",
              "      <td>0.111111</td>\n",
              "    </tr>\n",
              "    <tr>\n",
              "      <th>1</th>\n",
              "      <td>Random Forest</td>\n",
              "      <td>0.166667</td>\n",
              "      <td>0.958955</td>\n",
              "      <td>0.142857</td>\n",
              "      <td>0.153846</td>\n",
              "    </tr>\n",
              "    <tr>\n",
              "      <th>2</th>\n",
              "      <td>Gradient Boost</td>\n",
              "      <td>0.166667</td>\n",
              "      <td>0.958955</td>\n",
              "      <td>0.142857</td>\n",
              "      <td>0.153846</td>\n",
              "    </tr>\n",
              "  </tbody>\n",
              "</table>\n",
              "</div>\n",
              "      <button class=\"colab-df-convert\" onclick=\"convertToInteractive('df-cbaf6892-916c-4489-9147-a3c85fe353f1')\"\n",
              "              title=\"Convert this dataframe to an interactive table.\"\n",
              "              style=\"display:none;\">\n",
              "        \n",
              "  <svg xmlns=\"http://www.w3.org/2000/svg\" height=\"24px\"viewBox=\"0 0 24 24\"\n",
              "       width=\"24px\">\n",
              "    <path d=\"M0 0h24v24H0V0z\" fill=\"none\"/>\n",
              "    <path d=\"M18.56 5.44l.94 2.06.94-2.06 2.06-.94-2.06-.94-.94-2.06-.94 2.06-2.06.94zm-11 1L8.5 8.5l.94-2.06 2.06-.94-2.06-.94L8.5 2.5l-.94 2.06-2.06.94zm10 10l.94 2.06.94-2.06 2.06-.94-2.06-.94-.94-2.06-.94 2.06-2.06.94z\"/><path d=\"M17.41 7.96l-1.37-1.37c-.4-.4-.92-.59-1.43-.59-.52 0-1.04.2-1.43.59L10.3 9.45l-7.72 7.72c-.78.78-.78 2.05 0 2.83L4 21.41c.39.39.9.59 1.41.59.51 0 1.02-.2 1.41-.59l7.78-7.78 2.81-2.81c.8-.78.8-2.07 0-2.86zM5.41 20L4 18.59l7.72-7.72 1.47 1.35L5.41 20z\"/>\n",
              "  </svg>\n",
              "      </button>\n",
              "      \n",
              "  <style>\n",
              "    .colab-df-container {\n",
              "      display:flex;\n",
              "      flex-wrap:wrap;\n",
              "      gap: 12px;\n",
              "    }\n",
              "\n",
              "    .colab-df-convert {\n",
              "      background-color: #E8F0FE;\n",
              "      border: none;\n",
              "      border-radius: 50%;\n",
              "      cursor: pointer;\n",
              "      display: none;\n",
              "      fill: #1967D2;\n",
              "      height: 32px;\n",
              "      padding: 0 0 0 0;\n",
              "      width: 32px;\n",
              "    }\n",
              "\n",
              "    .colab-df-convert:hover {\n",
              "      background-color: #E2EBFA;\n",
              "      box-shadow: 0px 1px 2px rgba(60, 64, 67, 0.3), 0px 1px 3px 1px rgba(60, 64, 67, 0.15);\n",
              "      fill: #174EA6;\n",
              "    }\n",
              "\n",
              "    [theme=dark] .colab-df-convert {\n",
              "      background-color: #3B4455;\n",
              "      fill: #D2E3FC;\n",
              "    }\n",
              "\n",
              "    [theme=dark] .colab-df-convert:hover {\n",
              "      background-color: #434B5C;\n",
              "      box-shadow: 0px 1px 3px 1px rgba(0, 0, 0, 0.15);\n",
              "      filter: drop-shadow(0px 1px 2px rgba(0, 0, 0, 0.3));\n",
              "      fill: #FFFFFF;\n",
              "    }\n",
              "  </style>\n",
              "\n",
              "      <script>\n",
              "        const buttonEl =\n",
              "          document.querySelector('#df-cbaf6892-916c-4489-9147-a3c85fe353f1 button.colab-df-convert');\n",
              "        buttonEl.style.display =\n",
              "          google.colab.kernel.accessAllowed ? 'block' : 'none';\n",
              "\n",
              "        async function convertToInteractive(key) {\n",
              "          const element = document.querySelector('#df-cbaf6892-916c-4489-9147-a3c85fe353f1');\n",
              "          const dataTable =\n",
              "            await google.colab.kernel.invokeFunction('convertToInteractive',\n",
              "                                                     [key], {});\n",
              "          if (!dataTable) return;\n",
              "\n",
              "          const docLinkHtml = 'Like what you see? Visit the ' +\n",
              "            '<a target=\"_blank\" href=https://colab.research.google.com/notebooks/data_table.ipynb>data table notebook</a>'\n",
              "            + ' to learn more about interactive tables.';\n",
              "          element.innerHTML = '';\n",
              "          dataTable['output_type'] = 'display_data';\n",
              "          await google.colab.output.renderOutput(dataTable, element);\n",
              "          const docLink = document.createElement('div');\n",
              "          docLink.innerHTML = docLinkHtml;\n",
              "          element.appendChild(docLink);\n",
              "        }\n",
              "      </script>\n",
              "    </div>\n",
              "  </div>\n",
              "  "
            ]
          },
          "metadata": {},
          "execution_count": 315
        }
      ]
    },
    {
      "cell_type": "markdown",
      "source": [
        "The classifiers perform very well on the training set, but really bad on the test set."
      ],
      "metadata": {
        "id": "T-2GFutOX5r8"
      }
    },
    {
      "cell_type": "markdown",
      "source": [
        "####Tune the hyperparameters"
      ],
      "metadata": {
        "id": "ep7JSx5OfLW7"
      }
    },
    {
      "cell_type": "code",
      "source": [
        "# gb_model = GradientBoostingClassifier()\n",
        "\n",
        "# param_grid = {\n",
        "#     'n_estimators': list(range(1, 100)),\n",
        "#     'max_depth': list(range(1,10))\n",
        "# }\n",
        "\n",
        "# grid_model = GridSearchCV(gb_model, param_grid, scoring='recall')\n",
        "# grid_model.fit(X_train_scaled, y_train)"
      ],
      "metadata": {
        "id": "PA4yAvk2fUkf"
      },
      "execution_count": 316,
      "outputs": []
    },
    {
      "cell_type": "code",
      "source": [
        "# grid_model.best_params_"
      ],
      "metadata": {
        "id": "cObPHi6YfinK"
      },
      "execution_count": 317,
      "outputs": []
    },
    {
      "cell_type": "code",
      "source": [
        "gb_model = GradientBoostingClassifier(n_estimators=61, max_depth=4)\n",
        "gb_model.fit(X_train_scaled, y_train)"
      ],
      "metadata": {
        "id": "9nr2E6tAhlSQ",
        "outputId": "d53e5c76-daf5-48ae-83a1-3bd73c435197",
        "colab": {
          "base_uri": "https://localhost:8080/"
        }
      },
      "execution_count": 318,
      "outputs": [
        {
          "output_type": "execute_result",
          "data": {
            "text/plain": [
              "GradientBoostingClassifier(max_depth=4, n_estimators=61)"
            ]
          },
          "metadata": {},
          "execution_count": 318
        }
      ]
    },
    {
      "cell_type": "code",
      "source": [
        "y_pred_gb_tuned = gb_model.predict(X_test_scaled)"
      ],
      "metadata": {
        "id": "sjI8pQN0hxtH"
      },
      "execution_count": 319,
      "outputs": []
    },
    {
      "cell_type": "code",
      "source": [
        "cm = confusion_matrix(y_test, y_pred_gb_tuned)\n",
        "disp_gb_tuned = ConfusionMatrixDisplay(confusion_matrix=cm)\n",
        "disp_gb_tuned = disp_gb_tuned.plot(cmap='Blues')\n",
        "plt.title(\"Gradient Boost Tuned\", pad=20, fontsize=20, fontweight='bold')\n",
        "plt.show()"
      ],
      "metadata": {
        "id": "mSOE3K-ph3Fg",
        "outputId": "802e2150-0d53-4a05-87aa-28d85f764117",
        "colab": {
          "base_uri": "https://localhost:8080/",
          "height": 314
        }
      },
      "execution_count": 320,
      "outputs": [
        {
          "output_type": "display_data",
          "data": {
            "text/plain": [
              "<Figure size 432x288 with 2 Axes>"
            ],
            "image/png": "[encoded data removed]"
          },
          "metadata": {
            "needs_background": "light"
          }
        }
      ]
    },
    {
      "cell_type": "code",
      "source": [
        "results_df_gb_tuned = pd.DataFrame(\n",
        "    columns=['Model', 'Recall', 'Accuracy', 'Precision', 'F1 Score'],\n",
        "    data=[['Gradient Boost Tuned', \n",
        "           recall_score(y_test, y_pred_gb_tuned),\n",
        "           accuracy_score(y_test, y_pred_gb_tuned), \n",
        "           precision_score(y_test, y_pred_gb_tuned), \n",
        "           f1_score(y_test, y_pred_gb_tuned)]]\n",
        ")\n",
        "results_df = results_df.append(results_df_gb_tuned, ignore_index=True)\n",
        "results_df"
      ],
      "metadata": {
        "id": "82lQZvs_iAn_",
        "outputId": "e33a3a5e-f25c-40a7-a78e-6a6a6008da2f",
        "colab": {
          "base_uri": "https://localhost:8080/",
          "height": 175
        }
      },
      "execution_count": 321,
      "outputs": [
        {
          "output_type": "execute_result",
          "data": {
            "text/plain": [
              "                  Model    Recall  Accuracy  Precision  F1 Score\n",
              "0         Decision Tree  0.166667  0.940299   0.083333  0.111111\n",
              "1         Random Forest  0.166667  0.958955   0.142857  0.153846\n",
              "2        Gradient Boost  0.166667  0.958955   0.142857  0.153846\n",
              "3  Gradient Boost Tuned  0.166667  0.940299   0.083333  0.111111"
            ],
            "text/html": [
              "\n",
              "  <div id=\"df-d1963fa6-1ff1-4a9e-a223-129db75119a9\">\n",
              "    <div class=\"colab-df-container\">\n",
              "      <div>\n",
              "<style scoped>\n",
              "    .dataframe tbody tr th:only-of-type {\n",
              "        vertical-align: middle;\n",
              "    }\n",
              "\n",
              "    .dataframe tbody tr th {\n",
              "        vertical-align: top;\n",
              "    }\n",
              "\n",
              "    .dataframe thead th {\n",
              "        text-align: right;\n",
              "    }\n",
              "</style>\n",
              "<table border=\"1\" class=\"dataframe\">\n",
              "  <thead>\n",
              "    <tr style=\"text-align: right;\">\n",
              "      <th></th>\n",
              "      <th>Model</th>\n",
              "      <th>Recall</th>\n",
              "      <th>Accuracy</th>\n",
              "      <th>Precision</th>\n",
              "      <th>F1 Score</th>\n",
              "    </tr>\n",
              "  </thead>\n",
              "  <tbody>\n",
              "    <tr>\n",
              "      <th>0</th>\n",
              "      <td>Decision Tree</td>\n",
              "      <td>0.166667</td>\n",
              "      <td>0.940299</td>\n",
              "      <td>0.083333</td>\n",
              "      <td>0.111111</td>\n",
              "    </tr>\n",
              "    <tr>\n",
              "      <th>1</th>\n",
              "      <td>Random Forest</td>\n",
              "      <td>0.166667</td>\n",
              "      <td>0.958955</td>\n",
              "      <td>0.142857</td>\n",
              "      <td>0.153846</td>\n",
              "    </tr>\n",
              "    <tr>\n",
              "      <th>2</th>\n",
              "      <td>Gradient Boost</td>\n",
              "      <td>0.166667</td>\n",
              "      <td>0.958955</td>\n",
              "      <td>0.142857</td>\n",
              "      <td>0.153846</td>\n",
              "    </tr>\n",
              "    <tr>\n",
              "      <th>3</th>\n",
              "      <td>Gradient Boost Tuned</td>\n",
              "      <td>0.166667</td>\n",
              "      <td>0.940299</td>\n",
              "      <td>0.083333</td>\n",
              "      <td>0.111111</td>\n",
              "    </tr>\n",
              "  </tbody>\n",
              "</table>\n",
              "</div>\n",
              "      <button class=\"colab-df-convert\" onclick=\"convertToInteractive('df-d1963fa6-1ff1-4a9e-a223-129db75119a9')\"\n",
              "              title=\"Convert this dataframe to an interactive table.\"\n",
              "              style=\"display:none;\">\n",
              "        \n",
              "  <svg xmlns=\"http://www.w3.org/2000/svg\" height=\"24px\"viewBox=\"0 0 24 24\"\n",
              "       width=\"24px\">\n",
              "    <path d=\"M0 0h24v24H0V0z\" fill=\"none\"/>\n",
              "    <path d=\"M18.56 5.44l.94 2.06.94-2.06 2.06-.94-2.06-.94-.94-2.06-.94 2.06-2.06.94zm-11 1L8.5 8.5l.94-2.06 2.06-.94-2.06-.94L8.5 2.5l-.94 2.06-2.06.94zm10 10l.94 2.06.94-2.06 2.06-.94-2.06-.94-.94-2.06-.94 2.06-2.06.94z\"/><path d=\"M17.41 7.96l-1.37-1.37c-.4-.4-.92-.59-1.43-.59-.52 0-1.04.2-1.43.59L10.3 9.45l-7.72 7.72c-.78.78-.78 2.05 0 2.83L4 21.41c.39.39.9.59 1.41.59.51 0 1.02-.2 1.41-.59l7.78-7.78 2.81-2.81c.8-.78.8-2.07 0-2.86zM5.41 20L4 18.59l7.72-7.72 1.47 1.35L5.41 20z\"/>\n",
              "  </svg>\n",
              "      </button>\n",
              "      \n",
              "  <style>\n",
              "    .colab-df-container {\n",
              "      display:flex;\n",
              "      flex-wrap:wrap;\n",
              "      gap: 12px;\n",
              "    }\n",
              "\n",
              "    .colab-df-convert {\n",
              "      background-color: #E8F0FE;\n",
              "      border: none;\n",
              "      border-radius: 50%;\n",
              "      cursor: pointer;\n",
              "      display: none;\n",
              "      fill: #1967D2;\n",
              "      height: 32px;\n",
              "      padding: 0 0 0 0;\n",
              "      width: 32px;\n",
              "    }\n",
              "\n",
              "    .colab-df-convert:hover {\n",
              "      background-color: #E2EBFA;\n",
              "      box-shadow: 0px 1px 2px rgba(60, 64, 67, 0.3), 0px 1px 3px 1px rgba(60, 64, 67, 0.15);\n",
              "      fill: #174EA6;\n",
              "    }\n",
              "\n",
              "    [theme=dark] .colab-df-convert {\n",
              "      background-color: #3B4455;\n",
              "      fill: #D2E3FC;\n",
              "    }\n",
              "\n",
              "    [theme=dark] .colab-df-convert:hover {\n",
              "      background-color: #434B5C;\n",
              "      box-shadow: 0px 1px 3px 1px rgba(0, 0, 0, 0.15);\n",
              "      filter: drop-shadow(0px 1px 2px rgba(0, 0, 0, 0.3));\n",
              "      fill: #FFFFFF;\n",
              "    }\n",
              "  </style>\n",
              "\n",
              "      <script>\n",
              "        const buttonEl =\n",
              "          document.querySelector('#df-d1963fa6-1ff1-4a9e-a223-129db75119a9 button.colab-df-convert');\n",
              "        buttonEl.style.display =\n",
              "          google.colab.kernel.accessAllowed ? 'block' : 'none';\n",
              "\n",
              "        async function convertToInteractive(key) {\n",
              "          const element = document.querySelector('#df-d1963fa6-1ff1-4a9e-a223-129db75119a9');\n",
              "          const dataTable =\n",
              "            await google.colab.kernel.invokeFunction('convertToInteractive',\n",
              "                                                     [key], {});\n",
              "          if (!dataTable) return;\n",
              "\n",
              "          const docLinkHtml = 'Like what you see? Visit the ' +\n",
              "            '<a target=\"_blank\" href=https://colab.research.google.com/notebooks/data_table.ipynb>data table notebook</a>'\n",
              "            + ' to learn more about interactive tables.';\n",
              "          element.innerHTML = '';\n",
              "          dataTable['output_type'] = 'display_data';\n",
              "          await google.colab.output.renderOutput(dataTable, element);\n",
              "          const docLink = document.createElement('div');\n",
              "          docLink.innerHTML = docLinkHtml;\n",
              "          element.appendChild(docLink);\n",
              "        }\n",
              "      </script>\n",
              "    </div>\n",
              "  </div>\n",
              "  "
            ]
          },
          "metadata": {},
          "execution_count": 321
        }
      ]
    },
    {
      "cell_type": "markdown",
      "source": [
        "Tuning the hyperparameters contributes little to the recall."
      ],
      "metadata": {
        "id": "c1ixvgBBjXqu"
      }
    },
    {
      "cell_type": "markdown",
      "source": [
        "##Regression"
      ],
      "metadata": {
        "id": "AZPEwcFngFmW"
      }
    },
    {
      "cell_type": "markdown",
      "source": [
        "According to Dipti Punjani and Kishor Atkotiya's work[1], converting boolean attributes to numerical attributes with probabilities of belief might be able to enhance the accuracy."
      ],
      "metadata": {
        "id": "wfPj2xo505lQ"
      }
    },
    {
      "cell_type": "code",
      "source": [
        "X = cc_df.drop(['STDs:AIDS', 'STDs:cervical condylomatosis', 'Dx:Cancer'], axis=1)\n",
        "y = cc_df['Dx:Cancer'].replace({True: 1.0, False: 0.0})"
      ],
      "metadata": {
        "id": "SFpLuQbq4iDa"
      },
      "execution_count": 322,
      "outputs": []
    },
    {
      "cell_type": "code",
      "source": [
        "X_train, X_test, y_train, y_test = train_test_split(X, y, test_size=0.4, random_state=27)"
      ],
      "metadata": {
        "id": "Pcb1XjeV5MPl"
      },
      "execution_count": 323,
      "outputs": []
    },
    {
      "cell_type": "code",
      "source": [
        "sm = SMOTE(random_state=27, sampling_strategy=0.25)\n",
        "X_train, y_train = sm.fit_resample(X_train, y_train)\n",
        "\n",
        "X_train.shape, y_train.shape"
      ],
      "metadata": {
        "colab": {
          "base_uri": "https://localhost:8080/"
        },
        "id": "F-qP0pci__ry",
        "outputId": "15908d2e-2747-476e-b3d5-114ffaee553f"
      },
      "execution_count": 324,
      "outputs": [
        {
          "output_type": "execute_result",
          "data": {
            "text/plain": [
              "((486, 28), (486,))"
            ]
          },
          "metadata": {},
          "execution_count": 324
        }
      ]
    },
    {
      "cell_type": "code",
      "source": [
        "y_train.value_counts()"
      ],
      "metadata": {
        "colab": {
          "base_uri": "https://localhost:8080/"
        },
        "id": "ZInjCeTGAJAq",
        "outputId": "fc8bd733-9f5f-4389-aa94-8896035e6d09"
      },
      "execution_count": 325,
      "outputs": [
        {
          "output_type": "execute_result",
          "data": {
            "text/plain": [
              "0    389\n",
              "1     97\n",
              "Name: Dx:Cancer, dtype: int64"
            ]
          },
          "metadata": {},
          "execution_count": 325
        }
      ]
    },
    {
      "cell_type": "code",
      "source": [
        "scaler = StandardScaler()\n",
        "scaler.fit(X_train)\n",
        "X_train_scaled = scaler.transform(X_train)\n",
        "X_test_scaled = scaler.transform(X_test)"
      ],
      "metadata": {
        "id": "BV_F8uu95RbM"
      },
      "execution_count": 326,
      "outputs": []
    },
    {
      "cell_type": "markdown",
      "source": [
        "###Regression Tree"
      ],
      "metadata": {
        "id": "u7WJ-jZR4a4l"
      }
    },
    {
      "cell_type": "code",
      "source": [
        "regt_model = DecisionTreeRegressor()\n",
        "regt_model.fit(X_train_scaled, y_train)"
      ],
      "metadata": {
        "colab": {
          "base_uri": "https://localhost:8080/"
        },
        "id": "1MBRxZfAYaQ2",
        "outputId": "372b913d-151a-44cf-f2ac-9b5de9e3e0ce"
      },
      "execution_count": 327,
      "outputs": [
        {
          "output_type": "execute_result",
          "data": {
            "text/plain": [
              "DecisionTreeRegressor()"
            ]
          },
          "metadata": {},
          "execution_count": 327
        }
      ]
    },
    {
      "cell_type": "code",
      "source": [
        "y_train_pred_regt = regt_model.predict(X_train_scaled)"
      ],
      "metadata": {
        "id": "eEhxfRrK_Eop"
      },
      "execution_count": 328,
      "outputs": []
    },
    {
      "cell_type": "code",
      "source": [
        "cm = confusion_matrix(y_train, y_train_pred_regt)\n",
        "disp_regt_train = ConfusionMatrixDisplay(confusion_matrix=cm)\n",
        "disp_regt_train = disp_regt_train.plot(cmap='Blues')\n",
        "plt.title('Regression Tree on Training Set', pad=20, fontsize=20, fontweight='bold')\n",
        "plt.show()"
      ],
      "metadata": {
        "colab": {
          "base_uri": "https://localhost:8080/",
          "height": 314
        },
        "id": "ghObXUZu_RUt",
        "outputId": "c6551368-36e3-4408-e750-3bac4e2e9093"
      },
      "execution_count": 329,
      "outputs": [
        {
          "output_type": "display_data",
          "data": {
            "text/plain": [
              "<Figure size 432x288 with 2 Axes>"
            ],
            "image/png": "[encoded data removed]"
          },
          "metadata": {
            "needs_background": "light"
          }
        }
      ]
    },
    {
      "cell_type": "code",
      "source": [
        "y_test_pred_regt = regt_model.predict(X_test_scaled)"
      ],
      "metadata": {
        "id": "4Ig-CEHo6xja"
      },
      "execution_count": 330,
      "outputs": []
    },
    {
      "cell_type": "code",
      "source": [
        "cm = confusion_matrix(y_test, y_test_pred_regt)\n",
        "disp_regt = ConfusionMatrixDisplay(confusion_matrix=cm)\n",
        "disp_regt = disp_regt.plot(cmap='Blues')\n",
        "plt.title('Regression Tree on Test Set', pad=20, fontsize=20, fontweight='bold')\n",
        "plt.show()"
      ],
      "metadata": {
        "colab": {
          "base_uri": "https://localhost:8080/",
          "height": 314
        },
        "id": "ywwdLvEa8oCV",
        "outputId": "f1ae9621-ad77-4ab6-f31a-90d5bc8f9a3b"
      },
      "execution_count": 331,
      "outputs": [
        {
          "output_type": "display_data",
          "data": {
            "text/plain": [
              "<Figure size 432x288 with 2 Axes>"
            ],
            "image/png": "[encoded data removed]"
          },
          "metadata": {
            "needs_background": "light"
          }
        }
      ]
    },
    {
      "cell_type": "code",
      "source": [
        "results_df_regt = pd.DataFrame(\n",
        "    columns=['Model', 'Recall', 'Accuracy', 'Precision', 'F1 Score'],\n",
        "    data=[['Regression Tree', \n",
        "           recall_score(y_test, y_test_pred_regt),\n",
        "           accuracy_score(y_test, y_test_pred_regt), \n",
        "           precision_score(y_test, y_test_pred_regt), \n",
        "           f1_score(y_test,y_test_pred_regt)]]\n",
        ")\n",
        "results_df = results_df.append(results_df_regt, ignore_index=True)\n",
        "results_df"
      ],
      "metadata": {
        "id": "7dUdEZ-fj3Zs",
        "outputId": "8db6da00-69bf-474f-9988-ddfe333c09c9",
        "colab": {
          "base_uri": "https://localhost:8080/",
          "height": 206
        }
      },
      "execution_count": 332,
      "outputs": [
        {
          "output_type": "execute_result",
          "data": {
            "text/plain": [
              "                  Model    Recall  Accuracy  Precision  F1 Score\n",
              "0         Decision Tree  0.166667  0.940299   0.083333  0.111111\n",
              "1         Random Forest  0.166667  0.958955   0.142857  0.153846\n",
              "2        Gradient Boost  0.166667  0.958955   0.142857  0.153846\n",
              "3  Gradient Boost Tuned  0.166667  0.940299   0.083333  0.111111\n",
              "4       Regression Tree  0.333333  0.951493   0.181818  0.235294"
            ],
            "text/html": [
              "\n",
              "  <div id=\"df-e1b02e68-45ca-44fd-9adc-7268677a00ec\">\n",
              "    <div class=\"colab-df-container\">\n",
              "      <div>\n",
              "<style scoped>\n",
              "    .dataframe tbody tr th:only-of-type {\n",
              "        vertical-align: middle;\n",
              "    }\n",
              "\n",
              "    .dataframe tbody tr th {\n",
              "        vertical-align: top;\n",
              "    }\n",
              "\n",
              "    .dataframe thead th {\n",
              "        text-align: right;\n",
              "    }\n",
              "</style>\n",
              "<table border=\"1\" class=\"dataframe\">\n",
              "  <thead>\n",
              "    <tr style=\"text-align: right;\">\n",
              "      <th></th>\n",
              "      <th>Model</th>\n",
              "      <th>Recall</th>\n",
              "      <th>Accuracy</th>\n",
              "      <th>Precision</th>\n",
              "      <th>F1 Score</th>\n",
              "    </tr>\n",
              "  </thead>\n",
              "  <tbody>\n",
              "    <tr>\n",
              "      <th>0</th>\n",
              "      <td>Decision Tree</td>\n",
              "      <td>0.166667</td>\n",
              "      <td>0.940299</td>\n",
              "      <td>0.083333</td>\n",
              "      <td>0.111111</td>\n",
              "    </tr>\n",
              "    <tr>\n",
              "      <th>1</th>\n",
              "      <td>Random Forest</td>\n",
              "      <td>0.166667</td>\n",
              "      <td>0.958955</td>\n",
              "      <td>0.142857</td>\n",
              "      <td>0.153846</td>\n",
              "    </tr>\n",
              "    <tr>\n",
              "      <th>2</th>\n",
              "      <td>Gradient Boost</td>\n",
              "      <td>0.166667</td>\n",
              "      <td>0.958955</td>\n",
              "      <td>0.142857</td>\n",
              "      <td>0.153846</td>\n",
              "    </tr>\n",
              "    <tr>\n",
              "      <th>3</th>\n",
              "      <td>Gradient Boost Tuned</td>\n",
              "      <td>0.166667</td>\n",
              "      <td>0.940299</td>\n",
              "      <td>0.083333</td>\n",
              "      <td>0.111111</td>\n",
              "    </tr>\n",
              "    <tr>\n",
              "      <th>4</th>\n",
              "      <td>Regression Tree</td>\n",
              "      <td>0.333333</td>\n",
              "      <td>0.951493</td>\n",
              "      <td>0.181818</td>\n",
              "      <td>0.235294</td>\n",
              "    </tr>\n",
              "  </tbody>\n",
              "</table>\n",
              "</div>\n",
              "      <button class=\"colab-df-convert\" onclick=\"convertToInteractive('df-e1b02e68-45ca-44fd-9adc-7268677a00ec')\"\n",
              "              title=\"Convert this dataframe to an interactive table.\"\n",
              "              style=\"display:none;\">\n",
              "        \n",
              "  <svg xmlns=\"http://www.w3.org/2000/svg\" height=\"24px\"viewBox=\"0 0 24 24\"\n",
              "       width=\"24px\">\n",
              "    <path d=\"M0 0h24v24H0V0z\" fill=\"none\"/>\n",
              "    <path d=\"M18.56 5.44l.94 2.06.94-2.06 2.06-.94-2.06-.94-.94-2.06-.94 2.06-2.06.94zm-11 1L8.5 8.5l.94-2.06 2.06-.94-2.06-.94L8.5 2.5l-.94 2.06-2.06.94zm10 10l.94 2.06.94-2.06 2.06-.94-2.06-.94-.94-2.06-.94 2.06-2.06.94z\"/><path d=\"M17.41 7.96l-1.37-1.37c-.4-.4-.92-.59-1.43-.59-.52 0-1.04.2-1.43.59L10.3 9.45l-7.72 7.72c-.78.78-.78 2.05 0 2.83L4 21.41c.39.39.9.59 1.41.59.51 0 1.02-.2 1.41-.59l7.78-7.78 2.81-2.81c.8-.78.8-2.07 0-2.86zM5.41 20L4 18.59l7.72-7.72 1.47 1.35L5.41 20z\"/>\n",
              "  </svg>\n",
              "      </button>\n",
              "      \n",
              "  <style>\n",
              "    .colab-df-container {\n",
              "      display:flex;\n",
              "      flex-wrap:wrap;\n",
              "      gap: 12px;\n",
              "    }\n",
              "\n",
              "    .colab-df-convert {\n",
              "      background-color: #E8F0FE;\n",
              "      border: none;\n",
              "      border-radius: 50%;\n",
              "      cursor: pointer;\n",
              "      display: none;\n",
              "      fill: #1967D2;\n",
              "      height: 32px;\n",
              "      padding: 0 0 0 0;\n",
              "      width: 32px;\n",
              "    }\n",
              "\n",
              "    .colab-df-convert:hover {\n",
              "      background-color: #E2EBFA;\n",
              "      box-shadow: 0px 1px 2px rgba(60, 64, 67, 0.3), 0px 1px 3px 1px rgba(60, 64, 67, 0.15);\n",
              "      fill: #174EA6;\n",
              "    }\n",
              "\n",
              "    [theme=dark] .colab-df-convert {\n",
              "      background-color: #3B4455;\n",
              "      fill: #D2E3FC;\n",
              "    }\n",
              "\n",
              "    [theme=dark] .colab-df-convert:hover {\n",
              "      background-color: #434B5C;\n",
              "      box-shadow: 0px 1px 3px 1px rgba(0, 0, 0, 0.15);\n",
              "      filter: drop-shadow(0px 1px 2px rgba(0, 0, 0, 0.3));\n",
              "      fill: #FFFFFF;\n",
              "    }\n",
              "  </style>\n",
              "\n",
              "      <script>\n",
              "        const buttonEl =\n",
              "          document.querySelector('#df-e1b02e68-45ca-44fd-9adc-7268677a00ec button.colab-df-convert');\n",
              "        buttonEl.style.display =\n",
              "          google.colab.kernel.accessAllowed ? 'block' : 'none';\n",
              "\n",
              "        async function convertToInteractive(key) {\n",
              "          const element = document.querySelector('#df-e1b02e68-45ca-44fd-9adc-7268677a00ec');\n",
              "          const dataTable =\n",
              "            await google.colab.kernel.invokeFunction('convertToInteractive',\n",
              "                                                     [key], {});\n",
              "          if (!dataTable) return;\n",
              "\n",
              "          const docLinkHtml = 'Like what you see? Visit the ' +\n",
              "            '<a target=\"_blank\" href=https://colab.research.google.com/notebooks/data_table.ipynb>data table notebook</a>'\n",
              "            + ' to learn more about interactive tables.';\n",
              "          element.innerHTML = '';\n",
              "          dataTable['output_type'] = 'display_data';\n",
              "          await google.colab.output.renderOutput(dataTable, element);\n",
              "          const docLink = document.createElement('div');\n",
              "          docLink.innerHTML = docLinkHtml;\n",
              "          element.appendChild(docLink);\n",
              "        }\n",
              "      </script>\n",
              "    </div>\n",
              "  </div>\n",
              "  "
            ]
          },
          "metadata": {},
          "execution_count": 332
        }
      ]
    },
    {
      "cell_type": "markdown",
      "source": [
        "###Gradient Boosting for Regression\n",
        "\n",
        "\n",
        "\n"
      ],
      "metadata": {
        "id": "JFcSDcGjM_7H"
      }
    },
    {
      "cell_type": "code",
      "source": [
        "gbreg_model = GradientBoostingRegressor()\n",
        "gbreg_model.fit(X_train_scaled, y_train)"
      ],
      "metadata": {
        "colab": {
          "base_uri": "https://localhost:8080/"
        },
        "id": "9xT_D8e4NIYZ",
        "outputId": "e1b4cad0-5ba0-4c8a-e2f9-93d9226d27e3"
      },
      "execution_count": 333,
      "outputs": [
        {
          "output_type": "execute_result",
          "data": {
            "text/plain": [
              "GradientBoostingRegressor()"
            ]
          },
          "metadata": {},
          "execution_count": 333
        }
      ]
    },
    {
      "cell_type": "code",
      "source": [
        "y_train_pred_gbreg = gbreg_model.predict(X_train_scaled)"
      ],
      "metadata": {
        "id": "T9VY-uUrNeyy"
      },
      "execution_count": 334,
      "outputs": []
    },
    {
      "cell_type": "code",
      "source": [
        "num_0 = y_train.value_counts()[0]"
      ],
      "metadata": {
        "id": "OKfd1pnLVWn_"
      },
      "execution_count": 335,
      "outputs": []
    },
    {
      "cell_type": "code",
      "source": [
        "threshold = (np.sort(y_train_pred_gbreg)[num_0-1] + np.sort(y_train_pred_gbreg)[num_0])/2\n",
        "threshold"
      ],
      "metadata": {
        "colab": {
          "base_uri": "https://localhost:8080/"
        },
        "id": "zOIR36ctUNia",
        "outputId": "ec001634-b612-4e17-ab0f-b53f9c7e3e75"
      },
      "execution_count": 336,
      "outputs": [
        {
          "output_type": "execute_result",
          "data": {
            "text/plain": [
              "0.30462127372986647"
            ]
          },
          "metadata": {},
          "execution_count": 336
        }
      ]
    },
    {
      "cell_type": "code",
      "source": [
        "y_train_pred_gbreg = np.where(y_train_pred_gbreg > threshold, 1, 0)\n",
        "cm = confusion_matrix(y_train, y_train_pred_gbreg)\n",
        "disp_gbreg_train = ConfusionMatrixDisplay(confusion_matrix=cm)\n",
        "disp_gbreg_train = disp_gbreg_train.plot(cmap='Blues')\n",
        "plt.title('Gradient Boost for Regression on Training Set', pad=20, fontsize=20, fontweight='bold')\n",
        "plt.show()"
      ],
      "metadata": {
        "colab": {
          "base_uri": "https://localhost:8080/",
          "height": 314
        },
        "id": "Un7eQygYYa-Z",
        "outputId": "f6b954c9-9559-442e-c446-ee46072bd9b4"
      },
      "execution_count": 337,
      "outputs": [
        {
          "output_type": "display_data",
          "data": {
            "text/plain": [
              "<Figure size 432x288 with 2 Axes>"
            ],
            "image/png": "[encoded data removed]"
          },
          "metadata": {
            "needs_background": "light"
          }
        }
      ]
    },
    {
      "cell_type": "code",
      "source": [
        "y_test_pred_gbreg = gbreg_model.predict(X_test_scaled)"
      ],
      "metadata": {
        "id": "4IOg_rYNOB80"
      },
      "execution_count": 338,
      "outputs": []
    },
    {
      "cell_type": "code",
      "source": [
        "y_test_pred_gbreg = np.where(y_test_pred_gbreg > threshold, 1, 0)\n",
        "y_test_pred_gbreg"
      ],
      "metadata": {
        "colab": {
          "base_uri": "https://localhost:8080/"
        },
        "id": "pjNdwJ8bOLtj",
        "outputId": "c1664bbb-b8fb-4587-f069-a1f8a6008918"
      },
      "execution_count": 339,
      "outputs": [
        {
          "output_type": "execute_result",
          "data": {
            "text/plain": [
              "array([0, 0, 0, 0, 0, 0, 0, 0, 0, 0, 0, 0, 0, 0, 0, 0, 0, 0, 0, 0, 0, 0,\n",
              "       0, 0, 0, 0, 0, 0, 0, 0, 0, 0, 0, 0, 0, 0, 0, 0, 0, 0, 0, 0, 0, 0,\n",
              "       0, 0, 1, 0, 0, 0, 0, 0, 0, 0, 0, 0, 0, 0, 0, 0, 0, 0, 0, 0, 0, 0,\n",
              "       0, 0, 0, 1, 0, 0, 0, 0, 0, 0, 1, 0, 0, 0, 0, 0, 0, 0, 0, 0, 0, 1,\n",
              "       0, 0, 0, 1, 0, 0, 0, 1, 0, 0, 0, 0, 0, 0, 0, 0, 0, 0, 0, 1, 0, 0,\n",
              "       0, 0, 0, 0, 0, 0, 0, 0, 0, 0, 0, 0, 0, 0, 0, 0, 0, 0, 0, 0, 0, 0,\n",
              "       0, 0, 0, 0, 0, 0, 0, 0, 0, 0, 0, 0, 0, 0, 0, 0, 0, 0, 0, 0, 0, 0,\n",
              "       0, 0, 0, 0, 0, 0, 0, 0, 0, 0, 0, 0, 0, 0, 0, 0, 0, 0, 0, 0, 0, 0,\n",
              "       0, 0, 0, 0, 0, 0, 0, 0, 0, 1, 0, 0, 0, 0, 0, 0, 0, 0, 0, 0, 0, 0,\n",
              "       0, 0, 0, 0, 0, 0, 1, 0, 0, 0, 0, 0, 0, 0, 0, 0, 0, 0, 0, 0, 0, 0,\n",
              "       0, 0, 0, 0, 0, 0, 0, 0, 1, 0, 0, 0, 1, 0, 0, 0, 0, 0, 0, 0, 0, 0,\n",
              "       0, 0, 0, 0, 0, 0, 0, 1, 0, 0, 0, 0, 0, 0, 0, 0, 1, 0, 0, 0, 0, 0,\n",
              "       0, 0, 0, 0])"
            ]
          },
          "metadata": {},
          "execution_count": 339
        }
      ]
    },
    {
      "cell_type": "code",
      "source": [
        "cm = confusion_matrix(y_test, y_test_pred_gbreg)\n",
        "disp_gbreg = ConfusionMatrixDisplay(confusion_matrix=cm)\n",
        "disp_gbreg = disp_gbreg.plot(cmap='Blues')\n",
        "plt.title('Gradient Boost for Regression on Test Set', pad=20, fontsize=20, fontweight='bold')\n",
        "plt.show()"
      ],
      "metadata": {
        "colab": {
          "base_uri": "https://localhost:8080/",
          "height": 314
        },
        "id": "pkWedtqKX9Qe",
        "outputId": "25971d86-f366-4c3f-963e-43193e3d859c"
      },
      "execution_count": 340,
      "outputs": [
        {
          "output_type": "display_data",
          "data": {
            "text/plain": [
              "<Figure size 432x288 with 2 Axes>"
            ],
            "image/png": "[encoded data removed]"
          },
          "metadata": {
            "needs_background": "light"
          }
        }
      ]
    },
    {
      "cell_type": "code",
      "source": [
        "results_df_gbreg = pd.DataFrame(\n",
        "    columns=['Model', 'Recall', 'Accuracy', 'Precision', 'F1 Score'],\n",
        "    data=[['Gradient Boost for Regr', \n",
        "           recall_score(y_test, y_test_pred_gbreg),\n",
        "           accuracy_score(y_test, y_test_pred_gbreg), \n",
        "           precision_score(y_test, y_test_pred_gbreg), \n",
        "           f1_score(y_test,y_test_pred_gbreg)]]\n",
        ")\n",
        "results_df = results_df.append(results_df_gbreg, ignore_index=True)\n",
        "results_df"
      ],
      "metadata": {
        "id": "brQm7wv8kZXk",
        "outputId": "553dc35e-893a-4d11-bbf3-95d4d94b8241",
        "colab": {
          "base_uri": "https://localhost:8080/",
          "height": 238
        }
      },
      "execution_count": 341,
      "outputs": [
        {
          "output_type": "execute_result",
          "data": {
            "text/plain": [
              "                     Model    Recall  Accuracy  Precision  F1 Score\n",
              "0            Decision Tree  0.166667  0.940299   0.083333  0.111111\n",
              "1            Random Forest  0.166667  0.958955   0.142857  0.153846\n",
              "2           Gradient Boost  0.166667  0.958955   0.142857  0.153846\n",
              "3     Gradient Boost Tuned  0.166667  0.940299   0.083333  0.111111\n",
              "4          Regression Tree  0.333333  0.951493   0.181818  0.235294\n",
              "5  Gradient Boost for Regr  0.166667  0.936567   0.076923  0.105263"
            ],
            "text/html": [
              "\n",
              "  <div id=\"df-f75d5c7c-ef85-440f-83e8-31a778711dca\">\n",
              "    <div class=\"colab-df-container\">\n",
              "      <div>\n",
              "<style scoped>\n",
              "    .dataframe tbody tr th:only-of-type {\n",
              "        vertical-align: middle;\n",
              "    }\n",
              "\n",
              "    .dataframe tbody tr th {\n",
              "        vertical-align: top;\n",
              "    }\n",
              "\n",
              "    .dataframe thead th {\n",
              "        text-align: right;\n",
              "    }\n",
              "</style>\n",
              "<table border=\"1\" class=\"dataframe\">\n",
              "  <thead>\n",
              "    <tr style=\"text-align: right;\">\n",
              "      <th></th>\n",
              "      <th>Model</th>\n",
              "      <th>Recall</th>\n",
              "      <th>Accuracy</th>\n",
              "      <th>Precision</th>\n",
              "      <th>F1 Score</th>\n",
              "    </tr>\n",
              "  </thead>\n",
              "  <tbody>\n",
              "    <tr>\n",
              "      <th>0</th>\n",
              "      <td>Decision Tree</td>\n",
              "      <td>0.166667</td>\n",
              "      <td>0.940299</td>\n",
              "      <td>0.083333</td>\n",
              "      <td>0.111111</td>\n",
              "    </tr>\n",
              "    <tr>\n",
              "      <th>1</th>\n",
              "      <td>Random Forest</td>\n",
              "      <td>0.166667</td>\n",
              "      <td>0.958955</td>\n",
              "      <td>0.142857</td>\n",
              "      <td>0.153846</td>\n",
              "    </tr>\n",
              "    <tr>\n",
              "      <th>2</th>\n",
              "      <td>Gradient Boost</td>\n",
              "      <td>0.166667</td>\n",
              "      <td>0.958955</td>\n",
              "      <td>0.142857</td>\n",
              "      <td>0.153846</td>\n",
              "    </tr>\n",
              "    <tr>\n",
              "      <th>3</th>\n",
              "      <td>Gradient Boost Tuned</td>\n",
              "      <td>0.166667</td>\n",
              "      <td>0.940299</td>\n",
              "      <td>0.083333</td>\n",
              "      <td>0.111111</td>\n",
              "    </tr>\n",
              "    <tr>\n",
              "      <th>4</th>\n",
              "      <td>Regression Tree</td>\n",
              "      <td>0.333333</td>\n",
              "      <td>0.951493</td>\n",
              "      <td>0.181818</td>\n",
              "      <td>0.235294</td>\n",
              "    </tr>\n",
              "    <tr>\n",
              "      <th>5</th>\n",
              "      <td>Gradient Boost for Regr</td>\n",
              "      <td>0.166667</td>\n",
              "      <td>0.936567</td>\n",
              "      <td>0.076923</td>\n",
              "      <td>0.105263</td>\n",
              "    </tr>\n",
              "  </tbody>\n",
              "</table>\n",
              "</div>\n",
              "      <button class=\"colab-df-convert\" onclick=\"convertToInteractive('df-f75d5c7c-ef85-440f-83e8-31a778711dca')\"\n",
              "              title=\"Convert this dataframe to an interactive table.\"\n",
              "              style=\"display:none;\">\n",
              "        \n",
              "  <svg xmlns=\"http://www.w3.org/2000/svg\" height=\"24px\"viewBox=\"0 0 24 24\"\n",
              "       width=\"24px\">\n",
              "    <path d=\"M0 0h24v24H0V0z\" fill=\"none\"/>\n",
              "    <path d=\"M18.56 5.44l.94 2.06.94-2.06 2.06-.94-2.06-.94-.94-2.06-.94 2.06-2.06.94zm-11 1L8.5 8.5l.94-2.06 2.06-.94-2.06-.94L8.5 2.5l-.94 2.06-2.06.94zm10 10l.94 2.06.94-2.06 2.06-.94-2.06-.94-.94-2.06-.94 2.06-2.06.94z\"/><path d=\"M17.41 7.96l-1.37-1.37c-.4-.4-.92-.59-1.43-.59-.52 0-1.04.2-1.43.59L10.3 9.45l-7.72 7.72c-.78.78-.78 2.05 0 2.83L4 21.41c.39.39.9.59 1.41.59.51 0 1.02-.2 1.41-.59l7.78-7.78 2.81-2.81c.8-.78.8-2.07 0-2.86zM5.41 20L4 18.59l7.72-7.72 1.47 1.35L5.41 20z\"/>\n",
              "  </svg>\n",
              "      </button>\n",
              "      \n",
              "  <style>\n",
              "    .colab-df-container {\n",
              "      display:flex;\n",
              "      flex-wrap:wrap;\n",
              "      gap: 12px;\n",
              "    }\n",
              "\n",
              "    .colab-df-convert {\n",
              "      background-color: #E8F0FE;\n",
              "      border: none;\n",
              "      border-radius: 50%;\n",
              "      cursor: pointer;\n",
              "      display: none;\n",
              "      fill: #1967D2;\n",
              "      height: 32px;\n",
              "      padding: 0 0 0 0;\n",
              "      width: 32px;\n",
              "    }\n",
              "\n",
              "    .colab-df-convert:hover {\n",
              "      background-color: #E2EBFA;\n",
              "      box-shadow: 0px 1px 2px rgba(60, 64, 67, 0.3), 0px 1px 3px 1px rgba(60, 64, 67, 0.15);\n",
              "      fill: #174EA6;\n",
              "    }\n",
              "\n",
              "    [theme=dark] .colab-df-convert {\n",
              "      background-color: #3B4455;\n",
              "      fill: #D2E3FC;\n",
              "    }\n",
              "\n",
              "    [theme=dark] .colab-df-convert:hover {\n",
              "      background-color: #434B5C;\n",
              "      box-shadow: 0px 1px 3px 1px rgba(0, 0, 0, 0.15);\n",
              "      filter: drop-shadow(0px 1px 2px rgba(0, 0, 0, 0.3));\n",
              "      fill: #FFFFFF;\n",
              "    }\n",
              "  </style>\n",
              "\n",
              "      <script>\n",
              "        const buttonEl =\n",
              "          document.querySelector('#df-f75d5c7c-ef85-440f-83e8-31a778711dca button.colab-df-convert');\n",
              "        buttonEl.style.display =\n",
              "          google.colab.kernel.accessAllowed ? 'block' : 'none';\n",
              "\n",
              "        async function convertToInteractive(key) {\n",
              "          const element = document.querySelector('#df-f75d5c7c-ef85-440f-83e8-31a778711dca');\n",
              "          const dataTable =\n",
              "            await google.colab.kernel.invokeFunction('convertToInteractive',\n",
              "                                                     [key], {});\n",
              "          if (!dataTable) return;\n",
              "\n",
              "          const docLinkHtml = 'Like what you see? Visit the ' +\n",
              "            '<a target=\"_blank\" href=https://colab.research.google.com/notebooks/data_table.ipynb>data table notebook</a>'\n",
              "            + ' to learn more about interactive tables.';\n",
              "          element.innerHTML = '';\n",
              "          dataTable['output_type'] = 'display_data';\n",
              "          await google.colab.output.renderOutput(dataTable, element);\n",
              "          const docLink = document.createElement('div');\n",
              "          docLink.innerHTML = docLinkHtml;\n",
              "          element.appendChild(docLink);\n",
              "        }\n",
              "      </script>\n",
              "    </div>\n",
              "  </div>\n",
              "  "
            ]
          },
          "metadata": {},
          "execution_count": 341
        }
      ]
    },
    {
      "cell_type": "markdown",
      "source": [
        "##Results Overview"
      ],
      "metadata": {
        "id": "iRj5ajQko8F2"
      }
    },
    {
      "cell_type": "code",
      "source": [
        "results_df.sort_values(['Recall','Precision'], ascending=False, inplace=True, ignore_index=True)\n",
        "results_df"
      ],
      "metadata": {
        "id": "CcIuv_ZPoo9J",
        "outputId": "90b1b359-4b3a-41cb-f247-3c1542900688",
        "colab": {
          "base_uri": "https://localhost:8080/",
          "height": 238
        }
      },
      "execution_count": 342,
      "outputs": [
        {
          "output_type": "execute_result",
          "data": {
            "text/plain": [
              "                     Model    Recall  Accuracy  Precision  F1 Score\n",
              "0          Regression Tree  0.333333  0.951493   0.181818  0.235294\n",
              "1            Random Forest  0.166667  0.958955   0.142857  0.153846\n",
              "2           Gradient Boost  0.166667  0.958955   0.142857  0.153846\n",
              "3            Decision Tree  0.166667  0.940299   0.083333  0.111111\n",
              "4     Gradient Boost Tuned  0.166667  0.940299   0.083333  0.111111\n",
              "5  Gradient Boost for Regr  0.166667  0.936567   0.076923  0.105263"
            ],
            "text/html": [
              "\n",
              "  <div id=\"df-5ec34b88-4aa9-40f3-aac8-149377e72703\">\n",
              "    <div class=\"colab-df-container\">\n",
              "      <div>\n",
              "<style scoped>\n",
              "    .dataframe tbody tr th:only-of-type {\n",
              "        vertical-align: middle;\n",
              "    }\n",
              "\n",
              "    .dataframe tbody tr th {\n",
              "        vertical-align: top;\n",
              "    }\n",
              "\n",
              "    .dataframe thead th {\n",
              "        text-align: right;\n",
              "    }\n",
              "</style>\n",
              "<table border=\"1\" class=\"dataframe\">\n",
              "  <thead>\n",
              "    <tr style=\"text-align: right;\">\n",
              "      <th></th>\n",
              "      <th>Model</th>\n",
              "      <th>Recall</th>\n",
              "      <th>Accuracy</th>\n",
              "      <th>Precision</th>\n",
              "      <th>F1 Score</th>\n",
              "    </tr>\n",
              "  </thead>\n",
              "  <tbody>\n",
              "    <tr>\n",
              "      <th>0</th>\n",
              "      <td>Regression Tree</td>\n",
              "      <td>0.333333</td>\n",
              "      <td>0.951493</td>\n",
              "      <td>0.181818</td>\n",
              "      <td>0.235294</td>\n",
              "    </tr>\n",
              "    <tr>\n",
              "      <th>1</th>\n",
              "      <td>Random Forest</td>\n",
              "      <td>0.166667</td>\n",
              "      <td>0.958955</td>\n",
              "      <td>0.142857</td>\n",
              "      <td>0.153846</td>\n",
              "    </tr>\n",
              "    <tr>\n",
              "      <th>2</th>\n",
              "      <td>Gradient Boost</td>\n",
              "      <td>0.166667</td>\n",
              "      <td>0.958955</td>\n",
              "      <td>0.142857</td>\n",
              "      <td>0.153846</td>\n",
              "    </tr>\n",
              "    <tr>\n",
              "      <th>3</th>\n",
              "      <td>Decision Tree</td>\n",
              "      <td>0.166667</td>\n",
              "      <td>0.940299</td>\n",
              "      <td>0.083333</td>\n",
              "      <td>0.111111</td>\n",
              "    </tr>\n",
              "    <tr>\n",
              "      <th>4</th>\n",
              "      <td>Gradient Boost Tuned</td>\n",
              "      <td>0.166667</td>\n",
              "      <td>0.940299</td>\n",
              "      <td>0.083333</td>\n",
              "      <td>0.111111</td>\n",
              "    </tr>\n",
              "    <tr>\n",
              "      <th>5</th>\n",
              "      <td>Gradient Boost for Regr</td>\n",
              "      <td>0.166667</td>\n",
              "      <td>0.936567</td>\n",
              "      <td>0.076923</td>\n",
              "      <td>0.105263</td>\n",
              "    </tr>\n",
              "  </tbody>\n",
              "</table>\n",
              "</div>\n",
              "      <button class=\"colab-df-convert\" onclick=\"convertToInteractive('df-5ec34b88-4aa9-40f3-aac8-149377e72703')\"\n",
              "              title=\"Convert this dataframe to an interactive table.\"\n",
              "              style=\"display:none;\">\n",
              "        \n",
              "  <svg xmlns=\"http://www.w3.org/2000/svg\" height=\"24px\"viewBox=\"0 0 24 24\"\n",
              "       width=\"24px\">\n",
              "    <path d=\"M0 0h24v24H0V0z\" fill=\"none\"/>\n",
              "    <path d=\"M18.56 5.44l.94 2.06.94-2.06 2.06-.94-2.06-.94-.94-2.06-.94 2.06-2.06.94zm-11 1L8.5 8.5l.94-2.06 2.06-.94-2.06-.94L8.5 2.5l-.94 2.06-2.06.94zm10 10l.94 2.06.94-2.06 2.06-.94-2.06-.94-.94-2.06-.94 2.06-2.06.94z\"/><path d=\"M17.41 7.96l-1.37-1.37c-.4-.4-.92-.59-1.43-.59-.52 0-1.04.2-1.43.59L10.3 9.45l-7.72 7.72c-.78.78-.78 2.05 0 2.83L4 21.41c.39.39.9.59 1.41.59.51 0 1.02-.2 1.41-.59l7.78-7.78 2.81-2.81c.8-.78.8-2.07 0-2.86zM5.41 20L4 18.59l7.72-7.72 1.47 1.35L5.41 20z\"/>\n",
              "  </svg>\n",
              "      </button>\n",
              "      \n",
              "  <style>\n",
              "    .colab-df-container {\n",
              "      display:flex;\n",
              "      flex-wrap:wrap;\n",
              "      gap: 12px;\n",
              "    }\n",
              "\n",
              "    .colab-df-convert {\n",
              "      background-color: #E8F0FE;\n",
              "      border: none;\n",
              "      border-radius: 50%;\n",
              "      cursor: pointer;\n",
              "      display: none;\n",
              "      fill: #1967D2;\n",
              "      height: 32px;\n",
              "      padding: 0 0 0 0;\n",
              "      width: 32px;\n",
              "    }\n",
              "\n",
              "    .colab-df-convert:hover {\n",
              "      background-color: #E2EBFA;\n",
              "      box-shadow: 0px 1px 2px rgba(60, 64, 67, 0.3), 0px 1px 3px 1px rgba(60, 64, 67, 0.15);\n",
              "      fill: #174EA6;\n",
              "    }\n",
              "\n",
              "    [theme=dark] .colab-df-convert {\n",
              "      background-color: #3B4455;\n",
              "      fill: #D2E3FC;\n",
              "    }\n",
              "\n",
              "    [theme=dark] .colab-df-convert:hover {\n",
              "      background-color: #434B5C;\n",
              "      box-shadow: 0px 1px 3px 1px rgba(0, 0, 0, 0.15);\n",
              "      filter: drop-shadow(0px 1px 2px rgba(0, 0, 0, 0.3));\n",
              "      fill: #FFFFFF;\n",
              "    }\n",
              "  </style>\n",
              "\n",
              "      <script>\n",
              "        const buttonEl =\n",
              "          document.querySelector('#df-5ec34b88-4aa9-40f3-aac8-149377e72703 button.colab-df-convert');\n",
              "        buttonEl.style.display =\n",
              "          google.colab.kernel.accessAllowed ? 'block' : 'none';\n",
              "\n",
              "        async function convertToInteractive(key) {\n",
              "          const element = document.querySelector('#df-5ec34b88-4aa9-40f3-aac8-149377e72703');\n",
              "          const dataTable =\n",
              "            await google.colab.kernel.invokeFunction('convertToInteractive',\n",
              "                                                     [key], {});\n",
              "          if (!dataTable) return;\n",
              "\n",
              "          const docLinkHtml = 'Like what you see? Visit the ' +\n",
              "            '<a target=\"_blank\" href=https://colab.research.google.com/notebooks/data_table.ipynb>data table notebook</a>'\n",
              "            + ' to learn more about interactive tables.';\n",
              "          element.innerHTML = '';\n",
              "          dataTable['output_type'] = 'display_data';\n",
              "          await google.colab.output.renderOutput(dataTable, element);\n",
              "          const docLink = document.createElement('div');\n",
              "          docLink.innerHTML = docLinkHtml;\n",
              "          element.appendChild(docLink);\n",
              "        }\n",
              "      </script>\n",
              "    </div>\n",
              "  </div>\n",
              "  "
            ]
          },
          "metadata": {},
          "execution_count": 342
        }
      ]
    },
    {
      "cell_type": "code",
      "source": [
        "plt.figure(figsize=(8,6))\n",
        "data = results_df.set_index('Model')\n",
        "ax = sns.heatmap(data, annot=True, fmt=\".2f\", linewidth=1, cmap='coolwarm',)\n",
        "ax.xaxis.tick_top()\n",
        "plt.title('Model Comparison', fontsize=22, fontweight='bold', pad=40)\n",
        "plt.ylabel('')\n",
        "plt.show()"
      ],
      "metadata": {
        "id": "R6wsUq8woobM",
        "outputId": "6202bfeb-10ab-43a0-c941-2ee5dd980fae",
        "colab": {
          "base_uri": "https://localhost:8080/",
          "height": 413
        }
      },
      "execution_count": 343,
      "outputs": [
        {
          "output_type": "display_data",
          "data": {
            "text/plain": [
              "<Figure size 576x432 with 2 Axes>"
            ],
            "image/png": "[encoded data removed]"
          },
          "metadata": {
            "needs_background": "light"
          }
        }
      ]
    },
    {
      "cell_type": "code",
      "source": [
        "fig, axes = plt.subplots(nrows=2, ncols=3, figsize=(10,6))\n",
        "\n",
        "ranks = ['1st', '2nd', '3st', '4th', '5th', '6th']\n",
        "confusion_matrics = [disp_regt, disp_gb, disp_rf, disp_gb_tuned, disp_dt, disp_gbreg]\n",
        "names = list(results_df.Model)\n",
        "\n",
        "for rank, name, cm, ax in zip(ranks, names, confusion_matrics, axes.flatten()):\n",
        "  disp = cm.plot(cmap='Blues', ax=ax, colorbar=False)\n",
        "  ax.set_title(f'{rank}:\\n{name}', fontweight='bold', fontsize=12, pad=10)\n",
        "\n",
        "plt.suptitle('Machine Learning Model Ranking', fontsize=24, fontweight='bold', y=1.1)\n",
        "\n",
        "plt.tight_layout(h_pad=3)\n",
        "plt.show()"
      ],
      "metadata": {
        "id": "90F2y3RHqFsl",
        "outputId": "96f6bda1-ec46-407d-e63c-5ffe5be47b4e",
        "colab": {
          "base_uri": "https://localhost:8080/",
          "height": 495
        }
      },
      "execution_count": 344,
      "outputs": [
        {
          "output_type": "display_data",
          "data": {
            "text/plain": [
              "<Figure size 720x432 with 6 Axes>"
            ],
            "image/png": "[encoded data removed]"
          },
          "metadata": {
            "needs_background": "light"
          }
        }
      ]
    },
    {
      "cell_type": "markdown",
      "source": [
        "Despite synthetic sampling, a variety of models, two data processing methods, and hyperparameter adjustments, the problem of extremely imbalanced dataset still cannot be effectively solved. The recall rate of the models for diagnosing cervical cancer can merely reach 33%."
      ],
      "metadata": {
        "id": "Jy57hPYNryUN"
      }
    },
    {
      "cell_type": "markdown",
      "source": [
        "**Reference:**\n",
        "\n",
        "[1] Punjani, Dipti & Atkotiya, Kishor. (2019). Cervical Cancer Test Identification Classifier using Decision Tree Method. 7. 4. 10.32622/ijrat.74201967."
      ],
      "metadata": {
        "id": "MOTfYR2i2GMV"
      }
    }
  ]
}